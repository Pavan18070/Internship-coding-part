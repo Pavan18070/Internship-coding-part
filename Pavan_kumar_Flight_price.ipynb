{
  "cells": [
    {
      "cell_type": "markdown",
      "metadata": {
        "id": "7vsJsbjtCjyB"
      },
      "source": [
        "**Flight_Price_Prediction**"
      ]
    },
    {
      "cell_type": "code",
      "execution_count": 56,
      "metadata": {
        "id": "EQlBVaiyCdGK"
      },
      "outputs": [],
      "source": [
        "# importing the required libraries \n",
        "import numpy as np\n",
        "import pandas as pd\n",
        "import matplotlib.pyplot as plt\n",
        "import seaborn as sns\n",
        "\n",
        "import warnings\n",
        "warnings.filterwarnings(\"ignore\")\n",
        "\n",
        "from sklearn.model_selection import train_test_split\n",
        "from sklearn.ensemble import RandomForestRegressor\n",
        "from sklearn.metrics import mean_absolute_error, mean_squared_error"
      ]
    },
    {
      "cell_type": "code",
      "execution_count": 57,
      "metadata": {
        "id": "YUkYc03s4H1A"
      },
      "outputs": [],
      "source": [
        "# Read the both csv files \n",
        "business = pd.read_csv(\"/content/business.csv\")\n",
        "economy = pd.read_csv(\"/content/economy.csv\")"
      ]
    },
    {
      "cell_type": "code",
      "execution_count": 58,
      "metadata": {
        "colab": {
          "base_uri": "https://localhost:8080/",
          "height": 206
        },
        "id": "BvRY4djB5jFq",
        "outputId": "70822f0d-a322-433e-8380-cb6e3eafef80"
      },
      "outputs": [
        {
          "output_type": "execute_result",
          "data": {
            "text/plain": [
              "         date    airline ch_code  num_code dep_time   from time_taken  \\\n",
              "0  11-02-2022  Air India      AI       868    18:00  Delhi    02h 00m   \n",
              "1  11-02-2022  Air India      AI       624    19:00  Delhi    02h 15m   \n",
              "2  11-02-2022  Air India      AI       531    20:00  Delhi    24h 45m   \n",
              "3  11-02-2022  Air India      AI       839    21:25  Delhi    26h 30m   \n",
              "4  11-02-2022  Air India      AI       544    17:15  Delhi    06h 40m   \n",
              "\n",
              "                                                stop arr_time      to   price  \n",
              "0                                          non-stop     20:00  Mumbai  25,612  \n",
              "1                                          non-stop     21:15  Mumbai  25,612  \n",
              "2  1-stop\\n\\t\\t\\t\\t\\t\\t\\t\\t\\t\\t\\t\\t\\n\\t\\t\\t\\t\\t\\t...    20:45  Mumbai  42,220  \n",
              "3  1-stop\\n\\t\\t\\t\\t\\t\\t\\t\\t\\t\\t\\t\\t\\n\\t\\t\\t\\t\\t\\t...    23:55  Mumbai  44,450  \n",
              "4  1-stop\\n\\t\\t\\t\\t\\t\\t\\t\\t\\t\\t\\t\\t\\n\\t\\t\\t\\t\\t\\t...    23:55  Mumbai  46,690  "
            ],
            "text/html": [
              "\n",
              "  <div id=\"df-34ae3d13-df4e-44df-b06e-4be1e5024d0a\">\n",
              "    <div class=\"colab-df-container\">\n",
              "      <div>\n",
              "<style scoped>\n",
              "    .dataframe tbody tr th:only-of-type {\n",
              "        vertical-align: middle;\n",
              "    }\n",
              "\n",
              "    .dataframe tbody tr th {\n",
              "        vertical-align: top;\n",
              "    }\n",
              "\n",
              "    .dataframe thead th {\n",
              "        text-align: right;\n",
              "    }\n",
              "</style>\n",
              "<table border=\"1\" class=\"dataframe\">\n",
              "  <thead>\n",
              "    <tr style=\"text-align: right;\">\n",
              "      <th></th>\n",
              "      <th>date</th>\n",
              "      <th>airline</th>\n",
              "      <th>ch_code</th>\n",
              "      <th>num_code</th>\n",
              "      <th>dep_time</th>\n",
              "      <th>from</th>\n",
              "      <th>time_taken</th>\n",
              "      <th>stop</th>\n",
              "      <th>arr_time</th>\n",
              "      <th>to</th>\n",
              "      <th>price</th>\n",
              "    </tr>\n",
              "  </thead>\n",
              "  <tbody>\n",
              "    <tr>\n",
              "      <th>0</th>\n",
              "      <td>11-02-2022</td>\n",
              "      <td>Air India</td>\n",
              "      <td>AI</td>\n",
              "      <td>868</td>\n",
              "      <td>18:00</td>\n",
              "      <td>Delhi</td>\n",
              "      <td>02h 00m</td>\n",
              "      <td>non-stop</td>\n",
              "      <td>20:00</td>\n",
              "      <td>Mumbai</td>\n",
              "      <td>25,612</td>\n",
              "    </tr>\n",
              "    <tr>\n",
              "      <th>1</th>\n",
              "      <td>11-02-2022</td>\n",
              "      <td>Air India</td>\n",
              "      <td>AI</td>\n",
              "      <td>624</td>\n",
              "      <td>19:00</td>\n",
              "      <td>Delhi</td>\n",
              "      <td>02h 15m</td>\n",
              "      <td>non-stop</td>\n",
              "      <td>21:15</td>\n",
              "      <td>Mumbai</td>\n",
              "      <td>25,612</td>\n",
              "    </tr>\n",
              "    <tr>\n",
              "      <th>2</th>\n",
              "      <td>11-02-2022</td>\n",
              "      <td>Air India</td>\n",
              "      <td>AI</td>\n",
              "      <td>531</td>\n",
              "      <td>20:00</td>\n",
              "      <td>Delhi</td>\n",
              "      <td>24h 45m</td>\n",
              "      <td>1-stop\\n\\t\\t\\t\\t\\t\\t\\t\\t\\t\\t\\t\\t\\n\\t\\t\\t\\t\\t\\t...</td>\n",
              "      <td>20:45</td>\n",
              "      <td>Mumbai</td>\n",
              "      <td>42,220</td>\n",
              "    </tr>\n",
              "    <tr>\n",
              "      <th>3</th>\n",
              "      <td>11-02-2022</td>\n",
              "      <td>Air India</td>\n",
              "      <td>AI</td>\n",
              "      <td>839</td>\n",
              "      <td>21:25</td>\n",
              "      <td>Delhi</td>\n",
              "      <td>26h 30m</td>\n",
              "      <td>1-stop\\n\\t\\t\\t\\t\\t\\t\\t\\t\\t\\t\\t\\t\\n\\t\\t\\t\\t\\t\\t...</td>\n",
              "      <td>23:55</td>\n",
              "      <td>Mumbai</td>\n",
              "      <td>44,450</td>\n",
              "    </tr>\n",
              "    <tr>\n",
              "      <th>4</th>\n",
              "      <td>11-02-2022</td>\n",
              "      <td>Air India</td>\n",
              "      <td>AI</td>\n",
              "      <td>544</td>\n",
              "      <td>17:15</td>\n",
              "      <td>Delhi</td>\n",
              "      <td>06h 40m</td>\n",
              "      <td>1-stop\\n\\t\\t\\t\\t\\t\\t\\t\\t\\t\\t\\t\\t\\n\\t\\t\\t\\t\\t\\t...</td>\n",
              "      <td>23:55</td>\n",
              "      <td>Mumbai</td>\n",
              "      <td>46,690</td>\n",
              "    </tr>\n",
              "  </tbody>\n",
              "</table>\n",
              "</div>\n",
              "      <button class=\"colab-df-convert\" onclick=\"convertToInteractive('df-34ae3d13-df4e-44df-b06e-4be1e5024d0a')\"\n",
              "              title=\"Convert this dataframe to an interactive table.\"\n",
              "              style=\"display:none;\">\n",
              "        \n",
              "  <svg xmlns=\"http://www.w3.org/2000/svg\" height=\"24px\"viewBox=\"0 0 24 24\"\n",
              "       width=\"24px\">\n",
              "    <path d=\"M0 0h24v24H0V0z\" fill=\"none\"/>\n",
              "    <path d=\"M18.56 5.44l.94 2.06.94-2.06 2.06-.94-2.06-.94-.94-2.06-.94 2.06-2.06.94zm-11 1L8.5 8.5l.94-2.06 2.06-.94-2.06-.94L8.5 2.5l-.94 2.06-2.06.94zm10 10l.94 2.06.94-2.06 2.06-.94-2.06-.94-.94-2.06-.94 2.06-2.06.94z\"/><path d=\"M17.41 7.96l-1.37-1.37c-.4-.4-.92-.59-1.43-.59-.52 0-1.04.2-1.43.59L10.3 9.45l-7.72 7.72c-.78.78-.78 2.05 0 2.83L4 21.41c.39.39.9.59 1.41.59.51 0 1.02-.2 1.41-.59l7.78-7.78 2.81-2.81c.8-.78.8-2.07 0-2.86zM5.41 20L4 18.59l7.72-7.72 1.47 1.35L5.41 20z\"/>\n",
              "  </svg>\n",
              "      </button>\n",
              "      \n",
              "  <style>\n",
              "    .colab-df-container {\n",
              "      display:flex;\n",
              "      flex-wrap:wrap;\n",
              "      gap: 12px;\n",
              "    }\n",
              "\n",
              "    .colab-df-convert {\n",
              "      background-color: #E8F0FE;\n",
              "      border: none;\n",
              "      border-radius: 50%;\n",
              "      cursor: pointer;\n",
              "      display: none;\n",
              "      fill: #1967D2;\n",
              "      height: 32px;\n",
              "      padding: 0 0 0 0;\n",
              "      width: 32px;\n",
              "    }\n",
              "\n",
              "    .colab-df-convert:hover {\n",
              "      background-color: #E2EBFA;\n",
              "      box-shadow: 0px 1px 2px rgba(60, 64, 67, 0.3), 0px 1px 3px 1px rgba(60, 64, 67, 0.15);\n",
              "      fill: #174EA6;\n",
              "    }\n",
              "\n",
              "    [theme=dark] .colab-df-convert {\n",
              "      background-color: #3B4455;\n",
              "      fill: #D2E3FC;\n",
              "    }\n",
              "\n",
              "    [theme=dark] .colab-df-convert:hover {\n",
              "      background-color: #434B5C;\n",
              "      box-shadow: 0px 1px 3px 1px rgba(0, 0, 0, 0.15);\n",
              "      filter: drop-shadow(0px 1px 2px rgba(0, 0, 0, 0.3));\n",
              "      fill: #FFFFFF;\n",
              "    }\n",
              "  </style>\n",
              "\n",
              "      <script>\n",
              "        const buttonEl =\n",
              "          document.querySelector('#df-34ae3d13-df4e-44df-b06e-4be1e5024d0a button.colab-df-convert');\n",
              "        buttonEl.style.display =\n",
              "          google.colab.kernel.accessAllowed ? 'block' : 'none';\n",
              "\n",
              "        async function convertToInteractive(key) {\n",
              "          const element = document.querySelector('#df-34ae3d13-df4e-44df-b06e-4be1e5024d0a');\n",
              "          const dataTable =\n",
              "            await google.colab.kernel.invokeFunction('convertToInteractive',\n",
              "                                                     [key], {});\n",
              "          if (!dataTable) return;\n",
              "\n",
              "          const docLinkHtml = 'Like what you see? Visit the ' +\n",
              "            '<a target=\"_blank\" href=https://colab.research.google.com/notebooks/data_table.ipynb>data table notebook</a>'\n",
              "            + ' to learn more about interactive tables.';\n",
              "          element.innerHTML = '';\n",
              "          dataTable['output_type'] = 'display_data';\n",
              "          await google.colab.output.renderOutput(dataTable, element);\n",
              "          const docLink = document.createElement('div');\n",
              "          docLink.innerHTML = docLinkHtml;\n",
              "          element.appendChild(docLink);\n",
              "        }\n",
              "      </script>\n",
              "    </div>\n",
              "  </div>\n",
              "  "
            ]
          },
          "metadata": {},
          "execution_count": 58
        }
      ],
      "source": [
        "# prints the first five rows of the business dataset\n",
        "business.head(5)"
      ]
    },
    {
      "cell_type": "code",
      "execution_count": 59,
      "metadata": {
        "colab": {
          "base_uri": "https://localhost:8080/",
          "height": 206
        },
        "id": "FTQrfW2K5x0-",
        "outputId": "928ae591-a923-4966-c62a-8dee7116a352"
      },
      "outputs": [
        {
          "output_type": "execute_result",
          "data": {
            "text/plain": [
              "         date   airline ch_code  num_code dep_time   from time_taken  \\\n",
              "0  11-02-2022  SpiceJet      SG      8709    18:55  Delhi    02h 10m   \n",
              "1  11-02-2022  SpiceJet      SG      8157    06:20  Delhi    02h 20m   \n",
              "2  11-02-2022   AirAsia      I5       764    04:25  Delhi    02h 10m   \n",
              "3  11-02-2022   Vistara      UK       995    10:20  Delhi    02h 15m   \n",
              "4  11-02-2022   Vistara      UK       963    08:50  Delhi    02h 20m   \n",
              "\n",
              "        stop arr_time      to  price  \n",
              "0  non-stop     21:05  Mumbai  5,953  \n",
              "1  non-stop     08:40  Mumbai  5,953  \n",
              "2  non-stop     06:35  Mumbai  5,956  \n",
              "3  non-stop     12:35  Mumbai  5,955  \n",
              "4  non-stop     11:10  Mumbai  5,955  "
            ],
            "text/html": [
              "\n",
              "  <div id=\"df-53d340a2-0722-4a90-9b23-67ecfa7cdc6e\">\n",
              "    <div class=\"colab-df-container\">\n",
              "      <div>\n",
              "<style scoped>\n",
              "    .dataframe tbody tr th:only-of-type {\n",
              "        vertical-align: middle;\n",
              "    }\n",
              "\n",
              "    .dataframe tbody tr th {\n",
              "        vertical-align: top;\n",
              "    }\n",
              "\n",
              "    .dataframe thead th {\n",
              "        text-align: right;\n",
              "    }\n",
              "</style>\n",
              "<table border=\"1\" class=\"dataframe\">\n",
              "  <thead>\n",
              "    <tr style=\"text-align: right;\">\n",
              "      <th></th>\n",
              "      <th>date</th>\n",
              "      <th>airline</th>\n",
              "      <th>ch_code</th>\n",
              "      <th>num_code</th>\n",
              "      <th>dep_time</th>\n",
              "      <th>from</th>\n",
              "      <th>time_taken</th>\n",
              "      <th>stop</th>\n",
              "      <th>arr_time</th>\n",
              "      <th>to</th>\n",
              "      <th>price</th>\n",
              "    </tr>\n",
              "  </thead>\n",
              "  <tbody>\n",
              "    <tr>\n",
              "      <th>0</th>\n",
              "      <td>11-02-2022</td>\n",
              "      <td>SpiceJet</td>\n",
              "      <td>SG</td>\n",
              "      <td>8709</td>\n",
              "      <td>18:55</td>\n",
              "      <td>Delhi</td>\n",
              "      <td>02h 10m</td>\n",
              "      <td>non-stop</td>\n",
              "      <td>21:05</td>\n",
              "      <td>Mumbai</td>\n",
              "      <td>5,953</td>\n",
              "    </tr>\n",
              "    <tr>\n",
              "      <th>1</th>\n",
              "      <td>11-02-2022</td>\n",
              "      <td>SpiceJet</td>\n",
              "      <td>SG</td>\n",
              "      <td>8157</td>\n",
              "      <td>06:20</td>\n",
              "      <td>Delhi</td>\n",
              "      <td>02h 20m</td>\n",
              "      <td>non-stop</td>\n",
              "      <td>08:40</td>\n",
              "      <td>Mumbai</td>\n",
              "      <td>5,953</td>\n",
              "    </tr>\n",
              "    <tr>\n",
              "      <th>2</th>\n",
              "      <td>11-02-2022</td>\n",
              "      <td>AirAsia</td>\n",
              "      <td>I5</td>\n",
              "      <td>764</td>\n",
              "      <td>04:25</td>\n",
              "      <td>Delhi</td>\n",
              "      <td>02h 10m</td>\n",
              "      <td>non-stop</td>\n",
              "      <td>06:35</td>\n",
              "      <td>Mumbai</td>\n",
              "      <td>5,956</td>\n",
              "    </tr>\n",
              "    <tr>\n",
              "      <th>3</th>\n",
              "      <td>11-02-2022</td>\n",
              "      <td>Vistara</td>\n",
              "      <td>UK</td>\n",
              "      <td>995</td>\n",
              "      <td>10:20</td>\n",
              "      <td>Delhi</td>\n",
              "      <td>02h 15m</td>\n",
              "      <td>non-stop</td>\n",
              "      <td>12:35</td>\n",
              "      <td>Mumbai</td>\n",
              "      <td>5,955</td>\n",
              "    </tr>\n",
              "    <tr>\n",
              "      <th>4</th>\n",
              "      <td>11-02-2022</td>\n",
              "      <td>Vistara</td>\n",
              "      <td>UK</td>\n",
              "      <td>963</td>\n",
              "      <td>08:50</td>\n",
              "      <td>Delhi</td>\n",
              "      <td>02h 20m</td>\n",
              "      <td>non-stop</td>\n",
              "      <td>11:10</td>\n",
              "      <td>Mumbai</td>\n",
              "      <td>5,955</td>\n",
              "    </tr>\n",
              "  </tbody>\n",
              "</table>\n",
              "</div>\n",
              "      <button class=\"colab-df-convert\" onclick=\"convertToInteractive('df-53d340a2-0722-4a90-9b23-67ecfa7cdc6e')\"\n",
              "              title=\"Convert this dataframe to an interactive table.\"\n",
              "              style=\"display:none;\">\n",
              "        \n",
              "  <svg xmlns=\"http://www.w3.org/2000/svg\" height=\"24px\"viewBox=\"0 0 24 24\"\n",
              "       width=\"24px\">\n",
              "    <path d=\"M0 0h24v24H0V0z\" fill=\"none\"/>\n",
              "    <path d=\"M18.56 5.44l.94 2.06.94-2.06 2.06-.94-2.06-.94-.94-2.06-.94 2.06-2.06.94zm-11 1L8.5 8.5l.94-2.06 2.06-.94-2.06-.94L8.5 2.5l-.94 2.06-2.06.94zm10 10l.94 2.06.94-2.06 2.06-.94-2.06-.94-.94-2.06-.94 2.06-2.06.94z\"/><path d=\"M17.41 7.96l-1.37-1.37c-.4-.4-.92-.59-1.43-.59-.52 0-1.04.2-1.43.59L10.3 9.45l-7.72 7.72c-.78.78-.78 2.05 0 2.83L4 21.41c.39.39.9.59 1.41.59.51 0 1.02-.2 1.41-.59l7.78-7.78 2.81-2.81c.8-.78.8-2.07 0-2.86zM5.41 20L4 18.59l7.72-7.72 1.47 1.35L5.41 20z\"/>\n",
              "  </svg>\n",
              "      </button>\n",
              "      \n",
              "  <style>\n",
              "    .colab-df-container {\n",
              "      display:flex;\n",
              "      flex-wrap:wrap;\n",
              "      gap: 12px;\n",
              "    }\n",
              "\n",
              "    .colab-df-convert {\n",
              "      background-color: #E8F0FE;\n",
              "      border: none;\n",
              "      border-radius: 50%;\n",
              "      cursor: pointer;\n",
              "      display: none;\n",
              "      fill: #1967D2;\n",
              "      height: 32px;\n",
              "      padding: 0 0 0 0;\n",
              "      width: 32px;\n",
              "    }\n",
              "\n",
              "    .colab-df-convert:hover {\n",
              "      background-color: #E2EBFA;\n",
              "      box-shadow: 0px 1px 2px rgba(60, 64, 67, 0.3), 0px 1px 3px 1px rgba(60, 64, 67, 0.15);\n",
              "      fill: #174EA6;\n",
              "    }\n",
              "\n",
              "    [theme=dark] .colab-df-convert {\n",
              "      background-color: #3B4455;\n",
              "      fill: #D2E3FC;\n",
              "    }\n",
              "\n",
              "    [theme=dark] .colab-df-convert:hover {\n",
              "      background-color: #434B5C;\n",
              "      box-shadow: 0px 1px 3px 1px rgba(0, 0, 0, 0.15);\n",
              "      filter: drop-shadow(0px 1px 2px rgba(0, 0, 0, 0.3));\n",
              "      fill: #FFFFFF;\n",
              "    }\n",
              "  </style>\n",
              "\n",
              "      <script>\n",
              "        const buttonEl =\n",
              "          document.querySelector('#df-53d340a2-0722-4a90-9b23-67ecfa7cdc6e button.colab-df-convert');\n",
              "        buttonEl.style.display =\n",
              "          google.colab.kernel.accessAllowed ? 'block' : 'none';\n",
              "\n",
              "        async function convertToInteractive(key) {\n",
              "          const element = document.querySelector('#df-53d340a2-0722-4a90-9b23-67ecfa7cdc6e');\n",
              "          const dataTable =\n",
              "            await google.colab.kernel.invokeFunction('convertToInteractive',\n",
              "                                                     [key], {});\n",
              "          if (!dataTable) return;\n",
              "\n",
              "          const docLinkHtml = 'Like what you see? Visit the ' +\n",
              "            '<a target=\"_blank\" href=https://colab.research.google.com/notebooks/data_table.ipynb>data table notebook</a>'\n",
              "            + ' to learn more about interactive tables.';\n",
              "          element.innerHTML = '';\n",
              "          dataTable['output_type'] = 'display_data';\n",
              "          await google.colab.output.renderOutput(dataTable, element);\n",
              "          const docLink = document.createElement('div');\n",
              "          docLink.innerHTML = docLinkHtml;\n",
              "          element.appendChild(docLink);\n",
              "        }\n",
              "      </script>\n",
              "    </div>\n",
              "  </div>\n",
              "  "
            ]
          },
          "metadata": {},
          "execution_count": 59
        }
      ],
      "source": [
        "# prints the first five rows of the economy dataset\n",
        "economy.head(5) "
      ]
    },
    {
      "cell_type": "code",
      "execution_count": 60,
      "metadata": {
        "colab": {
          "base_uri": "https://localhost:8080/"
        },
        "id": "0CtUDm0r6dvl",
        "outputId": "97453888-fe21-4b7c-e6e2-b68a6fe15487"
      },
      "outputs": [
        {
          "output_type": "stream",
          "name": "stdout",
          "text": [
            "(93487, 11)\n",
            "\n",
            "(206774, 11)\n"
          ]
        }
      ],
      "source": [
        "# Check for number of rows and columns in both datasets \n",
        "print(business.shape)\n",
        "print(   )\n",
        "print(economy.shape)"
      ]
    },
    {
      "cell_type": "markdown",
      "metadata": {
        "id": "n-WaUjmaACjR"
      },
      "source": [
        "**Merging the two CSV files** "
      ]
    },
    {
      "cell_type": "code",
      "execution_count": 61,
      "metadata": {
        "id": "uL8rjzS_-WXw"
      },
      "outputs": [],
      "source": [
        "# merging the two csv files which having the identical columns\n",
        "fpp = pd.concat([business, economy]) "
      ]
    },
    {
      "cell_type": "code",
      "execution_count": 62,
      "metadata": {
        "colab": {
          "base_uri": "https://localhost:8080/",
          "height": 206
        },
        "id": "supM42jp_j8f",
        "outputId": "4fd5f757-64ae-424a-b901-42c4d2fb0ba4"
      },
      "outputs": [
        {
          "output_type": "execute_result",
          "data": {
            "text/plain": [
              "         date    airline ch_code  num_code dep_time   from time_taken  \\\n",
              "0  11-02-2022  Air India      AI       868    18:00  Delhi    02h 00m   \n",
              "1  11-02-2022  Air India      AI       624    19:00  Delhi    02h 15m   \n",
              "2  11-02-2022  Air India      AI       531    20:00  Delhi    24h 45m   \n",
              "3  11-02-2022  Air India      AI       839    21:25  Delhi    26h 30m   \n",
              "4  11-02-2022  Air India      AI       544    17:15  Delhi    06h 40m   \n",
              "\n",
              "                                                stop arr_time      to   price  \n",
              "0                                          non-stop     20:00  Mumbai  25,612  \n",
              "1                                          non-stop     21:15  Mumbai  25,612  \n",
              "2  1-stop\\n\\t\\t\\t\\t\\t\\t\\t\\t\\t\\t\\t\\t\\n\\t\\t\\t\\t\\t\\t...    20:45  Mumbai  42,220  \n",
              "3  1-stop\\n\\t\\t\\t\\t\\t\\t\\t\\t\\t\\t\\t\\t\\n\\t\\t\\t\\t\\t\\t...    23:55  Mumbai  44,450  \n",
              "4  1-stop\\n\\t\\t\\t\\t\\t\\t\\t\\t\\t\\t\\t\\t\\n\\t\\t\\t\\t\\t\\t...    23:55  Mumbai  46,690  "
            ],
            "text/html": [
              "\n",
              "  <div id=\"df-a3c88dfb-5cd0-4751-8578-f2aa1fe0242e\">\n",
              "    <div class=\"colab-df-container\">\n",
              "      <div>\n",
              "<style scoped>\n",
              "    .dataframe tbody tr th:only-of-type {\n",
              "        vertical-align: middle;\n",
              "    }\n",
              "\n",
              "    .dataframe tbody tr th {\n",
              "        vertical-align: top;\n",
              "    }\n",
              "\n",
              "    .dataframe thead th {\n",
              "        text-align: right;\n",
              "    }\n",
              "</style>\n",
              "<table border=\"1\" class=\"dataframe\">\n",
              "  <thead>\n",
              "    <tr style=\"text-align: right;\">\n",
              "      <th></th>\n",
              "      <th>date</th>\n",
              "      <th>airline</th>\n",
              "      <th>ch_code</th>\n",
              "      <th>num_code</th>\n",
              "      <th>dep_time</th>\n",
              "      <th>from</th>\n",
              "      <th>time_taken</th>\n",
              "      <th>stop</th>\n",
              "      <th>arr_time</th>\n",
              "      <th>to</th>\n",
              "      <th>price</th>\n",
              "    </tr>\n",
              "  </thead>\n",
              "  <tbody>\n",
              "    <tr>\n",
              "      <th>0</th>\n",
              "      <td>11-02-2022</td>\n",
              "      <td>Air India</td>\n",
              "      <td>AI</td>\n",
              "      <td>868</td>\n",
              "      <td>18:00</td>\n",
              "      <td>Delhi</td>\n",
              "      <td>02h 00m</td>\n",
              "      <td>non-stop</td>\n",
              "      <td>20:00</td>\n",
              "      <td>Mumbai</td>\n",
              "      <td>25,612</td>\n",
              "    </tr>\n",
              "    <tr>\n",
              "      <th>1</th>\n",
              "      <td>11-02-2022</td>\n",
              "      <td>Air India</td>\n",
              "      <td>AI</td>\n",
              "      <td>624</td>\n",
              "      <td>19:00</td>\n",
              "      <td>Delhi</td>\n",
              "      <td>02h 15m</td>\n",
              "      <td>non-stop</td>\n",
              "      <td>21:15</td>\n",
              "      <td>Mumbai</td>\n",
              "      <td>25,612</td>\n",
              "    </tr>\n",
              "    <tr>\n",
              "      <th>2</th>\n",
              "      <td>11-02-2022</td>\n",
              "      <td>Air India</td>\n",
              "      <td>AI</td>\n",
              "      <td>531</td>\n",
              "      <td>20:00</td>\n",
              "      <td>Delhi</td>\n",
              "      <td>24h 45m</td>\n",
              "      <td>1-stop\\n\\t\\t\\t\\t\\t\\t\\t\\t\\t\\t\\t\\t\\n\\t\\t\\t\\t\\t\\t...</td>\n",
              "      <td>20:45</td>\n",
              "      <td>Mumbai</td>\n",
              "      <td>42,220</td>\n",
              "    </tr>\n",
              "    <tr>\n",
              "      <th>3</th>\n",
              "      <td>11-02-2022</td>\n",
              "      <td>Air India</td>\n",
              "      <td>AI</td>\n",
              "      <td>839</td>\n",
              "      <td>21:25</td>\n",
              "      <td>Delhi</td>\n",
              "      <td>26h 30m</td>\n",
              "      <td>1-stop\\n\\t\\t\\t\\t\\t\\t\\t\\t\\t\\t\\t\\t\\n\\t\\t\\t\\t\\t\\t...</td>\n",
              "      <td>23:55</td>\n",
              "      <td>Mumbai</td>\n",
              "      <td>44,450</td>\n",
              "    </tr>\n",
              "    <tr>\n",
              "      <th>4</th>\n",
              "      <td>11-02-2022</td>\n",
              "      <td>Air India</td>\n",
              "      <td>AI</td>\n",
              "      <td>544</td>\n",
              "      <td>17:15</td>\n",
              "      <td>Delhi</td>\n",
              "      <td>06h 40m</td>\n",
              "      <td>1-stop\\n\\t\\t\\t\\t\\t\\t\\t\\t\\t\\t\\t\\t\\n\\t\\t\\t\\t\\t\\t...</td>\n",
              "      <td>23:55</td>\n",
              "      <td>Mumbai</td>\n",
              "      <td>46,690</td>\n",
              "    </tr>\n",
              "  </tbody>\n",
              "</table>\n",
              "</div>\n",
              "      <button class=\"colab-df-convert\" onclick=\"convertToInteractive('df-a3c88dfb-5cd0-4751-8578-f2aa1fe0242e')\"\n",
              "              title=\"Convert this dataframe to an interactive table.\"\n",
              "              style=\"display:none;\">\n",
              "        \n",
              "  <svg xmlns=\"http://www.w3.org/2000/svg\" height=\"24px\"viewBox=\"0 0 24 24\"\n",
              "       width=\"24px\">\n",
              "    <path d=\"M0 0h24v24H0V0z\" fill=\"none\"/>\n",
              "    <path d=\"M18.56 5.44l.94 2.06.94-2.06 2.06-.94-2.06-.94-.94-2.06-.94 2.06-2.06.94zm-11 1L8.5 8.5l.94-2.06 2.06-.94-2.06-.94L8.5 2.5l-.94 2.06-2.06.94zm10 10l.94 2.06.94-2.06 2.06-.94-2.06-.94-.94-2.06-.94 2.06-2.06.94z\"/><path d=\"M17.41 7.96l-1.37-1.37c-.4-.4-.92-.59-1.43-.59-.52 0-1.04.2-1.43.59L10.3 9.45l-7.72 7.72c-.78.78-.78 2.05 0 2.83L4 21.41c.39.39.9.59 1.41.59.51 0 1.02-.2 1.41-.59l7.78-7.78 2.81-2.81c.8-.78.8-2.07 0-2.86zM5.41 20L4 18.59l7.72-7.72 1.47 1.35L5.41 20z\"/>\n",
              "  </svg>\n",
              "      </button>\n",
              "      \n",
              "  <style>\n",
              "    .colab-df-container {\n",
              "      display:flex;\n",
              "      flex-wrap:wrap;\n",
              "      gap: 12px;\n",
              "    }\n",
              "\n",
              "    .colab-df-convert {\n",
              "      background-color: #E8F0FE;\n",
              "      border: none;\n",
              "      border-radius: 50%;\n",
              "      cursor: pointer;\n",
              "      display: none;\n",
              "      fill: #1967D2;\n",
              "      height: 32px;\n",
              "      padding: 0 0 0 0;\n",
              "      width: 32px;\n",
              "    }\n",
              "\n",
              "    .colab-df-convert:hover {\n",
              "      background-color: #E2EBFA;\n",
              "      box-shadow: 0px 1px 2px rgba(60, 64, 67, 0.3), 0px 1px 3px 1px rgba(60, 64, 67, 0.15);\n",
              "      fill: #174EA6;\n",
              "    }\n",
              "\n",
              "    [theme=dark] .colab-df-convert {\n",
              "      background-color: #3B4455;\n",
              "      fill: #D2E3FC;\n",
              "    }\n",
              "\n",
              "    [theme=dark] .colab-df-convert:hover {\n",
              "      background-color: #434B5C;\n",
              "      box-shadow: 0px 1px 3px 1px rgba(0, 0, 0, 0.15);\n",
              "      filter: drop-shadow(0px 1px 2px rgba(0, 0, 0, 0.3));\n",
              "      fill: #FFFFFF;\n",
              "    }\n",
              "  </style>\n",
              "\n",
              "      <script>\n",
              "        const buttonEl =\n",
              "          document.querySelector('#df-a3c88dfb-5cd0-4751-8578-f2aa1fe0242e button.colab-df-convert');\n",
              "        buttonEl.style.display =\n",
              "          google.colab.kernel.accessAllowed ? 'block' : 'none';\n",
              "\n",
              "        async function convertToInteractive(key) {\n",
              "          const element = document.querySelector('#df-a3c88dfb-5cd0-4751-8578-f2aa1fe0242e');\n",
              "          const dataTable =\n",
              "            await google.colab.kernel.invokeFunction('convertToInteractive',\n",
              "                                                     [key], {});\n",
              "          if (!dataTable) return;\n",
              "\n",
              "          const docLinkHtml = 'Like what you see? Visit the ' +\n",
              "            '<a target=\"_blank\" href=https://colab.research.google.com/notebooks/data_table.ipynb>data table notebook</a>'\n",
              "            + ' to learn more about interactive tables.';\n",
              "          element.innerHTML = '';\n",
              "          dataTable['output_type'] = 'display_data';\n",
              "          await google.colab.output.renderOutput(dataTable, element);\n",
              "          const docLink = document.createElement('div');\n",
              "          docLink.innerHTML = docLinkHtml;\n",
              "          element.appendChild(docLink);\n",
              "        }\n",
              "      </script>\n",
              "    </div>\n",
              "  </div>\n",
              "  "
            ]
          },
          "metadata": {},
          "execution_count": 62
        }
      ],
      "source": [
        "# prints the first five rows of merged dataset along with all columns \n",
        "fpp.head(5) "
      ]
    },
    {
      "cell_type": "code",
      "execution_count": 63,
      "metadata": {
        "colab": {
          "base_uri": "https://localhost:8080/",
          "height": 206
        },
        "id": "1jd_SPVi_mbe",
        "outputId": "c059e06a-9ad6-4924-d5aa-6af3d6c22cd3"
      },
      "outputs": [
        {
          "output_type": "execute_result",
          "data": {
            "text/plain": [
              "              date  airline ch_code  num_code dep_time     from time_taken  \\\n",
              "206769  31-03-2022  Vistara      UK       832    07:05  Chennai    13h 50m   \n",
              "206770  31-03-2022  Vistara      UK       832    07:05  Chennai    13h 50m   \n",
              "206771  31-03-2022  Vistara      UK       826    12:30  Chennai    20h 35m   \n",
              "206772  31-03-2022  Vistara      UK       822    09:45  Chennai    23h 20m   \n",
              "206773  31-03-2022  Vistara      UK       824    20:30  Chennai    24h 25m   \n",
              "\n",
              "                                                     stop arr_time         to  \\\n",
              "206769  1-stop\\n\\t\\t\\t\\t\\t\\t\\t\\t\\t\\t\\t\\t\\n\\t\\t\\t\\t\\t\\t...    20:55  Hyderabad   \n",
              "206770  1-stop\\n\\t\\t\\t\\t\\t\\t\\t\\t\\t\\t\\t\\t\\n\\t\\t\\t\\t\\t\\t...    20:55  Hyderabad   \n",
              "206771  1-stop\\n\\t\\t\\t\\t\\t\\t\\t\\t\\t\\t\\t\\t\\n\\t\\t\\t\\t\\t\\t...    09:05  Hyderabad   \n",
              "206772  1-stop\\n\\t\\t\\t\\t\\t\\t\\t\\t\\t\\t\\t\\t\\n\\t\\t\\t\\t\\t\\t...    09:05  Hyderabad   \n",
              "206773  1-stop\\n\\t\\t\\t\\t\\t\\t\\t\\t\\t\\t\\t\\t\\n\\t\\t\\t\\t\\t\\t...    20:55  Hyderabad   \n",
              "\n",
              "        price  \n",
              "206769  7,697  \n",
              "206770  7,709  \n",
              "206771  8,640  \n",
              "206772  8,640  \n",
              "206773  8,640  "
            ],
            "text/html": [
              "\n",
              "  <div id=\"df-7e1df414-6107-497a-bca7-28dec71b2b42\">\n",
              "    <div class=\"colab-df-container\">\n",
              "      <div>\n",
              "<style scoped>\n",
              "    .dataframe tbody tr th:only-of-type {\n",
              "        vertical-align: middle;\n",
              "    }\n",
              "\n",
              "    .dataframe tbody tr th {\n",
              "        vertical-align: top;\n",
              "    }\n",
              "\n",
              "    .dataframe thead th {\n",
              "        text-align: right;\n",
              "    }\n",
              "</style>\n",
              "<table border=\"1\" class=\"dataframe\">\n",
              "  <thead>\n",
              "    <tr style=\"text-align: right;\">\n",
              "      <th></th>\n",
              "      <th>date</th>\n",
              "      <th>airline</th>\n",
              "      <th>ch_code</th>\n",
              "      <th>num_code</th>\n",
              "      <th>dep_time</th>\n",
              "      <th>from</th>\n",
              "      <th>time_taken</th>\n",
              "      <th>stop</th>\n",
              "      <th>arr_time</th>\n",
              "      <th>to</th>\n",
              "      <th>price</th>\n",
              "    </tr>\n",
              "  </thead>\n",
              "  <tbody>\n",
              "    <tr>\n",
              "      <th>206769</th>\n",
              "      <td>31-03-2022</td>\n",
              "      <td>Vistara</td>\n",
              "      <td>UK</td>\n",
              "      <td>832</td>\n",
              "      <td>07:05</td>\n",
              "      <td>Chennai</td>\n",
              "      <td>13h 50m</td>\n",
              "      <td>1-stop\\n\\t\\t\\t\\t\\t\\t\\t\\t\\t\\t\\t\\t\\n\\t\\t\\t\\t\\t\\t...</td>\n",
              "      <td>20:55</td>\n",
              "      <td>Hyderabad</td>\n",
              "      <td>7,697</td>\n",
              "    </tr>\n",
              "    <tr>\n",
              "      <th>206770</th>\n",
              "      <td>31-03-2022</td>\n",
              "      <td>Vistara</td>\n",
              "      <td>UK</td>\n",
              "      <td>832</td>\n",
              "      <td>07:05</td>\n",
              "      <td>Chennai</td>\n",
              "      <td>13h 50m</td>\n",
              "      <td>1-stop\\n\\t\\t\\t\\t\\t\\t\\t\\t\\t\\t\\t\\t\\n\\t\\t\\t\\t\\t\\t...</td>\n",
              "      <td>20:55</td>\n",
              "      <td>Hyderabad</td>\n",
              "      <td>7,709</td>\n",
              "    </tr>\n",
              "    <tr>\n",
              "      <th>206771</th>\n",
              "      <td>31-03-2022</td>\n",
              "      <td>Vistara</td>\n",
              "      <td>UK</td>\n",
              "      <td>826</td>\n",
              "      <td>12:30</td>\n",
              "      <td>Chennai</td>\n",
              "      <td>20h 35m</td>\n",
              "      <td>1-stop\\n\\t\\t\\t\\t\\t\\t\\t\\t\\t\\t\\t\\t\\n\\t\\t\\t\\t\\t\\t...</td>\n",
              "      <td>09:05</td>\n",
              "      <td>Hyderabad</td>\n",
              "      <td>8,640</td>\n",
              "    </tr>\n",
              "    <tr>\n",
              "      <th>206772</th>\n",
              "      <td>31-03-2022</td>\n",
              "      <td>Vistara</td>\n",
              "      <td>UK</td>\n",
              "      <td>822</td>\n",
              "      <td>09:45</td>\n",
              "      <td>Chennai</td>\n",
              "      <td>23h 20m</td>\n",
              "      <td>1-stop\\n\\t\\t\\t\\t\\t\\t\\t\\t\\t\\t\\t\\t\\n\\t\\t\\t\\t\\t\\t...</td>\n",
              "      <td>09:05</td>\n",
              "      <td>Hyderabad</td>\n",
              "      <td>8,640</td>\n",
              "    </tr>\n",
              "    <tr>\n",
              "      <th>206773</th>\n",
              "      <td>31-03-2022</td>\n",
              "      <td>Vistara</td>\n",
              "      <td>UK</td>\n",
              "      <td>824</td>\n",
              "      <td>20:30</td>\n",
              "      <td>Chennai</td>\n",
              "      <td>24h 25m</td>\n",
              "      <td>1-stop\\n\\t\\t\\t\\t\\t\\t\\t\\t\\t\\t\\t\\t\\n\\t\\t\\t\\t\\t\\t...</td>\n",
              "      <td>20:55</td>\n",
              "      <td>Hyderabad</td>\n",
              "      <td>8,640</td>\n",
              "    </tr>\n",
              "  </tbody>\n",
              "</table>\n",
              "</div>\n",
              "      <button class=\"colab-df-convert\" onclick=\"convertToInteractive('df-7e1df414-6107-497a-bca7-28dec71b2b42')\"\n",
              "              title=\"Convert this dataframe to an interactive table.\"\n",
              "              style=\"display:none;\">\n",
              "        \n",
              "  <svg xmlns=\"http://www.w3.org/2000/svg\" height=\"24px\"viewBox=\"0 0 24 24\"\n",
              "       width=\"24px\">\n",
              "    <path d=\"M0 0h24v24H0V0z\" fill=\"none\"/>\n",
              "    <path d=\"M18.56 5.44l.94 2.06.94-2.06 2.06-.94-2.06-.94-.94-2.06-.94 2.06-2.06.94zm-11 1L8.5 8.5l.94-2.06 2.06-.94-2.06-.94L8.5 2.5l-.94 2.06-2.06.94zm10 10l.94 2.06.94-2.06 2.06-.94-2.06-.94-.94-2.06-.94 2.06-2.06.94z\"/><path d=\"M17.41 7.96l-1.37-1.37c-.4-.4-.92-.59-1.43-.59-.52 0-1.04.2-1.43.59L10.3 9.45l-7.72 7.72c-.78.78-.78 2.05 0 2.83L4 21.41c.39.39.9.59 1.41.59.51 0 1.02-.2 1.41-.59l7.78-7.78 2.81-2.81c.8-.78.8-2.07 0-2.86zM5.41 20L4 18.59l7.72-7.72 1.47 1.35L5.41 20z\"/>\n",
              "  </svg>\n",
              "      </button>\n",
              "      \n",
              "  <style>\n",
              "    .colab-df-container {\n",
              "      display:flex;\n",
              "      flex-wrap:wrap;\n",
              "      gap: 12px;\n",
              "    }\n",
              "\n",
              "    .colab-df-convert {\n",
              "      background-color: #E8F0FE;\n",
              "      border: none;\n",
              "      border-radius: 50%;\n",
              "      cursor: pointer;\n",
              "      display: none;\n",
              "      fill: #1967D2;\n",
              "      height: 32px;\n",
              "      padding: 0 0 0 0;\n",
              "      width: 32px;\n",
              "    }\n",
              "\n",
              "    .colab-df-convert:hover {\n",
              "      background-color: #E2EBFA;\n",
              "      box-shadow: 0px 1px 2px rgba(60, 64, 67, 0.3), 0px 1px 3px 1px rgba(60, 64, 67, 0.15);\n",
              "      fill: #174EA6;\n",
              "    }\n",
              "\n",
              "    [theme=dark] .colab-df-convert {\n",
              "      background-color: #3B4455;\n",
              "      fill: #D2E3FC;\n",
              "    }\n",
              "\n",
              "    [theme=dark] .colab-df-convert:hover {\n",
              "      background-color: #434B5C;\n",
              "      box-shadow: 0px 1px 3px 1px rgba(0, 0, 0, 0.15);\n",
              "      filter: drop-shadow(0px 1px 2px rgba(0, 0, 0, 0.3));\n",
              "      fill: #FFFFFF;\n",
              "    }\n",
              "  </style>\n",
              "\n",
              "      <script>\n",
              "        const buttonEl =\n",
              "          document.querySelector('#df-7e1df414-6107-497a-bca7-28dec71b2b42 button.colab-df-convert');\n",
              "        buttonEl.style.display =\n",
              "          google.colab.kernel.accessAllowed ? 'block' : 'none';\n",
              "\n",
              "        async function convertToInteractive(key) {\n",
              "          const element = document.querySelector('#df-7e1df414-6107-497a-bca7-28dec71b2b42');\n",
              "          const dataTable =\n",
              "            await google.colab.kernel.invokeFunction('convertToInteractive',\n",
              "                                                     [key], {});\n",
              "          if (!dataTable) return;\n",
              "\n",
              "          const docLinkHtml = 'Like what you see? Visit the ' +\n",
              "            '<a target=\"_blank\" href=https://colab.research.google.com/notebooks/data_table.ipynb>data table notebook</a>'\n",
              "            + ' to learn more about interactive tables.';\n",
              "          element.innerHTML = '';\n",
              "          dataTable['output_type'] = 'display_data';\n",
              "          await google.colab.output.renderOutput(dataTable, element);\n",
              "          const docLink = document.createElement('div');\n",
              "          docLink.innerHTML = docLinkHtml;\n",
              "          element.appendChild(docLink);\n",
              "        }\n",
              "      </script>\n",
              "    </div>\n",
              "  </div>\n",
              "  "
            ]
          },
          "metadata": {},
          "execution_count": 63
        }
      ],
      "source": [
        "# prints last five rows of a merged dataset along with all columns \n",
        "fpp.tail(5) "
      ]
    },
    {
      "cell_type": "code",
      "execution_count": 64,
      "metadata": {
        "colab": {
          "base_uri": "https://localhost:8080/"
        },
        "id": "tbDXx29cBTKZ",
        "outputId": "e354044b-3143-4b1d-d2b0-0ae479f4c7d9"
      },
      "outputs": [
        {
          "output_type": "execute_result",
          "data": {
            "text/plain": [
              "(300261, 11)"
            ]
          },
          "metadata": {},
          "execution_count": 64
        }
      ],
      "source": [
        "# check for the number of rows and columns on merged dataset\n",
        "fpp.shape "
      ]
    },
    {
      "cell_type": "markdown",
      "metadata": {
        "id": "UIFvOkTFIyxT"
      },
      "source": [
        "**Checking for the non-null values present in the columns**"
      ]
    },
    {
      "cell_type": "code",
      "execution_count": 65,
      "metadata": {
        "colab": {
          "base_uri": "https://localhost:8080/"
        },
        "id": "rEfEOXzHGl8k",
        "outputId": "e685b458-2adf-44ae-a624-780427a6ee02"
      },
      "outputs": [
        {
          "output_type": "stream",
          "name": "stdout",
          "text": [
            "<class 'pandas.core.frame.DataFrame'>\n",
            "Int64Index: 300261 entries, 0 to 206773\n",
            "Data columns (total 11 columns):\n",
            " #   Column      Non-Null Count   Dtype \n",
            "---  ------      --------------   ----- \n",
            " 0   date        300261 non-null  object\n",
            " 1   airline     300261 non-null  object\n",
            " 2   ch_code     300261 non-null  object\n",
            " 3   num_code    300261 non-null  int64 \n",
            " 4   dep_time    300261 non-null  object\n",
            " 5   from        300261 non-null  object\n",
            " 6   time_taken  300261 non-null  object\n",
            " 7   stop        300261 non-null  object\n",
            " 8   arr_time    300261 non-null  object\n",
            " 9   to          300261 non-null  object\n",
            " 10  price       300261 non-null  object\n",
            "dtypes: int64(1), object(10)\n",
            "memory usage: 27.5+ MB\n"
          ]
        }
      ],
      "source": [
        "fpp.info()"
      ]
    },
    {
      "cell_type": "markdown",
      "metadata": {
        "id": "GjTKdRSCK5gg"
      },
      "source": [
        "**Checking for the Missing Values**"
      ]
    },
    {
      "cell_type": "code",
      "execution_count": 66,
      "metadata": {
        "colab": {
          "base_uri": "https://localhost:8080/",
          "height": 394
        },
        "id": "WR9SnV1mKEUI",
        "outputId": "a1ad30c9-e262-494c-9dc8-697e26e1f038"
      },
      "outputs": [
        {
          "output_type": "execute_result",
          "data": {
            "text/plain": [
              "<pandas.io.formats.style.Styler at 0x7fb73a511b50>"
            ],
            "text/html": [
              "<style type=\"text/css\">\n",
              "#T_f21bf_row0_col0, #T_f21bf_row1_col0, #T_f21bf_row2_col0, #T_f21bf_row3_col0, #T_f21bf_row4_col0, #T_f21bf_row5_col0, #T_f21bf_row6_col0, #T_f21bf_row7_col0, #T_f21bf_row8_col0, #T_f21bf_row9_col0, #T_f21bf_row10_col0 {\n",
              "  background-color: #ffff66;\n",
              "  color: #000000;\n",
              "}\n",
              "</style>\n",
              "<table id=\"T_f21bf\" class=\"dataframe\">\n",
              "  <thead>\n",
              "    <tr>\n",
              "      <th class=\"blank level0\" >&nbsp;</th>\n",
              "      <th id=\"T_f21bf_level0_col0\" class=\"col_heading level0 col0\" >% of Null Values</th>\n",
              "    </tr>\n",
              "  </thead>\n",
              "  <tbody>\n",
              "    <tr>\n",
              "      <th id=\"T_f21bf_level0_row0\" class=\"row_heading level0 row0\" >date</th>\n",
              "      <td id=\"T_f21bf_row0_col0\" class=\"data row0 col0\" >0.000000</td>\n",
              "    </tr>\n",
              "    <tr>\n",
              "      <th id=\"T_f21bf_level0_row1\" class=\"row_heading level0 row1\" >airline</th>\n",
              "      <td id=\"T_f21bf_row1_col0\" class=\"data row1 col0\" >0.000000</td>\n",
              "    </tr>\n",
              "    <tr>\n",
              "      <th id=\"T_f21bf_level0_row2\" class=\"row_heading level0 row2\" >ch_code</th>\n",
              "      <td id=\"T_f21bf_row2_col0\" class=\"data row2 col0\" >0.000000</td>\n",
              "    </tr>\n",
              "    <tr>\n",
              "      <th id=\"T_f21bf_level0_row3\" class=\"row_heading level0 row3\" >num_code</th>\n",
              "      <td id=\"T_f21bf_row3_col0\" class=\"data row3 col0\" >0.000000</td>\n",
              "    </tr>\n",
              "    <tr>\n",
              "      <th id=\"T_f21bf_level0_row4\" class=\"row_heading level0 row4\" >dep_time</th>\n",
              "      <td id=\"T_f21bf_row4_col0\" class=\"data row4 col0\" >0.000000</td>\n",
              "    </tr>\n",
              "    <tr>\n",
              "      <th id=\"T_f21bf_level0_row5\" class=\"row_heading level0 row5\" >from</th>\n",
              "      <td id=\"T_f21bf_row5_col0\" class=\"data row5 col0\" >0.000000</td>\n",
              "    </tr>\n",
              "    <tr>\n",
              "      <th id=\"T_f21bf_level0_row6\" class=\"row_heading level0 row6\" >time_taken</th>\n",
              "      <td id=\"T_f21bf_row6_col0\" class=\"data row6 col0\" >0.000000</td>\n",
              "    </tr>\n",
              "    <tr>\n",
              "      <th id=\"T_f21bf_level0_row7\" class=\"row_heading level0 row7\" >stop</th>\n",
              "      <td id=\"T_f21bf_row7_col0\" class=\"data row7 col0\" >0.000000</td>\n",
              "    </tr>\n",
              "    <tr>\n",
              "      <th id=\"T_f21bf_level0_row8\" class=\"row_heading level0 row8\" >arr_time</th>\n",
              "      <td id=\"T_f21bf_row8_col0\" class=\"data row8 col0\" >0.000000</td>\n",
              "    </tr>\n",
              "    <tr>\n",
              "      <th id=\"T_f21bf_level0_row9\" class=\"row_heading level0 row9\" >to</th>\n",
              "      <td id=\"T_f21bf_row9_col0\" class=\"data row9 col0\" >0.000000</td>\n",
              "    </tr>\n",
              "    <tr>\n",
              "      <th id=\"T_f21bf_level0_row10\" class=\"row_heading level0 row10\" >price</th>\n",
              "      <td id=\"T_f21bf_row10_col0\" class=\"data row10 col0\" >0.000000</td>\n",
              "    </tr>\n",
              "  </tbody>\n",
              "</table>\n"
            ]
          },
          "metadata": {},
          "execution_count": 66
        }
      ],
      "source": [
        "pd.DataFrame([fpp.isna().sum()/fpp.shape[0]*100], index=['% of Null Values']).T.style.background_gradient(cmap='summer_r')"
      ]
    },
    {
      "cell_type": "markdown",
      "metadata": {
        "id": "vAuTG_-WPfKy"
      },
      "source": [
        "It can be clear shows that there is no missing(null-values) present in the dataset."
      ]
    },
    {
      "cell_type": "markdown",
      "metadata": {
        "id": "CGAub5FnnEIn"
      },
      "source": [
        "**Checking for the duplicated values in the dataset and drop the duplicated values if present**"
      ]
    },
    {
      "cell_type": "code",
      "execution_count": 67,
      "metadata": {
        "colab": {
          "base_uri": "https://localhost:8080/"
        },
        "id": "DSAin63BM2Mf",
        "outputId": "9c3ed22c-e852-48a7-8989-d4e75509e8df"
      },
      "outputs": [
        {
          "output_type": "stream",
          "name": "stdout",
          "text": [
            "This data has 2 duplicated data\n"
          ]
        }
      ],
      "source": [
        "print(f\"This data has {fpp.duplicated().sum()} duplicated data\")"
      ]
    },
    {
      "cell_type": "code",
      "execution_count": 68,
      "metadata": {
        "id": "52791e53"
      },
      "outputs": [],
      "source": [
        "fpp.drop_duplicates(keep='first', inplace=True)"
      ]
    },
    {
      "cell_type": "code",
      "execution_count": 69,
      "metadata": {
        "colab": {
          "base_uri": "https://localhost:8080/"
        },
        "id": "YLpp6qKaLUjJ",
        "outputId": "7d9a94af-cd4f-44cb-8ee6-7eddad0b0e57"
      },
      "outputs": [
        {
          "output_type": "stream",
          "name": "stdout",
          "text": [
            "This data has 0 duplicated data\n"
          ]
        }
      ],
      "source": [
        "print(f\"This data has {fpp.duplicated().sum()} duplicated data\")"
      ]
    },
    {
      "cell_type": "code",
      "execution_count": 70,
      "metadata": {
        "colab": {
          "base_uri": "https://localhost:8080/"
        },
        "id": "nDe9pkUMonoS",
        "outputId": "1390aea4-bf2d-41c2-db2f-dabf258a298f"
      },
      "outputs": [
        {
          "output_type": "execute_result",
          "data": {
            "text/plain": [
              "(300259, 11)"
            ]
          },
          "metadata": {},
          "execution_count": 70
        }
      ],
      "source": [
        "fpp.shape"
      ]
    },
    {
      "cell_type": "code",
      "execution_count": 71,
      "metadata": {
        "colab": {
          "base_uri": "https://localhost:8080/"
        },
        "id": "YwQl4rK1H7tf",
        "outputId": "9ca1b6b0-8f66-4a75-e391-31be1544a688"
      },
      "outputs": [
        {
          "output_type": "stream",
          "name": "stdout",
          "text": [
            "<class 'pandas.core.frame.DataFrame'>\n",
            "Int64Index: 300259 entries, 0 to 206773\n",
            "Data columns (total 11 columns):\n",
            " #   Column      Non-Null Count   Dtype \n",
            "---  ------      --------------   ----- \n",
            " 0   date        300259 non-null  object\n",
            " 1   airline     300259 non-null  object\n",
            " 2   ch_code     300259 non-null  object\n",
            " 3   num_code    300259 non-null  int64 \n",
            " 4   dep_time    300259 non-null  object\n",
            " 5   from        300259 non-null  object\n",
            " 6   time_taken  300259 non-null  object\n",
            " 7   stop        300259 non-null  object\n",
            " 8   arr_time    300259 non-null  object\n",
            " 9   to          300259 non-null  object\n",
            " 10  price       300259 non-null  object\n",
            "dtypes: int64(1), object(10)\n",
            "memory usage: 27.5+ MB\n"
          ]
        }
      ],
      "source": [
        "fpp.info()"
      ]
    },
    {
      "cell_type": "code",
      "source": [
        "fpp.dtypes"
      ],
      "metadata": {
        "colab": {
          "base_uri": "https://localhost:8080/"
        },
        "id": "3mliQzk9wBFI",
        "outputId": "72c38434-cf60-41ef-f3e9-8eb4c0415cf1"
      },
      "execution_count": 72,
      "outputs": [
        {
          "output_type": "execute_result",
          "data": {
            "text/plain": [
              "date          object\n",
              "airline       object\n",
              "ch_code       object\n",
              "num_code       int64\n",
              "dep_time      object\n",
              "from          object\n",
              "time_taken    object\n",
              "stop          object\n",
              "arr_time      object\n",
              "to            object\n",
              "price         object\n",
              "dtype: object"
            ]
          },
          "metadata": {},
          "execution_count": 72
        }
      ]
    },
    {
      "cell_type": "code",
      "source": [
        "fpp.nunique()"
      ],
      "metadata": {
        "colab": {
          "base_uri": "https://localhost:8080/"
        },
        "id": "B60Rl8mTx5bj",
        "outputId": "3e166c75-4c3f-42d2-969d-b30863d4349d"
      },
      "execution_count": 73,
      "outputs": [
        {
          "output_type": "execute_result",
          "data": {
            "text/plain": [
              "date             49\n",
              "airline           8\n",
              "ch_code           8\n",
              "num_code       1255\n",
              "dep_time        251\n",
              "from              6\n",
              "time_taken      483\n",
              "stop             40\n",
              "arr_time        266\n",
              "to                6\n",
              "price         12165\n",
              "dtype: int64"
            ]
          },
          "metadata": {},
          "execution_count": 73
        }
      ]
    },
    {
      "cell_type": "markdown",
      "metadata": {
        "id": "RbSogG3kBSnd"
      },
      "source": [
        "**EDA process**"
      ]
    },
    {
      "cell_type": "code",
      "execution_count": 74,
      "metadata": {
        "id": "n1KkCb7PDX1D"
      },
      "outputs": [],
      "source": [
        "# because the date columns is in string format which having the non-numeric character '-' in between the date components. \n",
        "# To solve this error convert the \"date\" column to a datetime data type which converts into int type. \n",
        "# spliting the date column into day, month, year to convert into integers\n",
        "\n",
        "fpp[\"day\"] = pd.to_datetime(fpp.date, format='%d-%m-%Y').dt.day # dt.day will extracting only day from each date and assign to new column day\n",
        "fpp[\"month\"] = pd.to_datetime(fpp.date, format='%d-%m-%Y').dt.month # dt.month will extracting only month from each date and assign to new column month\n",
        "fpp[\"year\"] = pd.to_datetime(fpp.date, format='%d-%m-%Y').dt.year # dt.year # dt.year will extracting only year from each date and assign to new column year"
      ]
    },
    {
      "cell_type": "code",
      "execution_count": 75,
      "metadata": {
        "colab": {
          "base_uri": "https://localhost:8080/",
          "height": 206
        },
        "id": "sHWtqBccNxKX",
        "outputId": "b501d605-5780-42a9-b017-77212ca685ad"
      },
      "outputs": [
        {
          "output_type": "execute_result",
          "data": {
            "text/plain": [
              "         date    airline ch_code  num_code dep_time   from time_taken  \\\n",
              "0  11-02-2022  Air India      AI       868    18:00  Delhi    02h 00m   \n",
              "1  11-02-2022  Air India      AI       624    19:00  Delhi    02h 15m   \n",
              "2  11-02-2022  Air India      AI       531    20:00  Delhi    24h 45m   \n",
              "3  11-02-2022  Air India      AI       839    21:25  Delhi    26h 30m   \n",
              "4  11-02-2022  Air India      AI       544    17:15  Delhi    06h 40m   \n",
              "\n",
              "                                                stop arr_time      to   price  \\\n",
              "0                                          non-stop     20:00  Mumbai  25,612   \n",
              "1                                          non-stop     21:15  Mumbai  25,612   \n",
              "2  1-stop\\n\\t\\t\\t\\t\\t\\t\\t\\t\\t\\t\\t\\t\\n\\t\\t\\t\\t\\t\\t...    20:45  Mumbai  42,220   \n",
              "3  1-stop\\n\\t\\t\\t\\t\\t\\t\\t\\t\\t\\t\\t\\t\\n\\t\\t\\t\\t\\t\\t...    23:55  Mumbai  44,450   \n",
              "4  1-stop\\n\\t\\t\\t\\t\\t\\t\\t\\t\\t\\t\\t\\t\\n\\t\\t\\t\\t\\t\\t...    23:55  Mumbai  46,690   \n",
              "\n",
              "   day  month  year  \n",
              "0   11      2  2022  \n",
              "1   11      2  2022  \n",
              "2   11      2  2022  \n",
              "3   11      2  2022  \n",
              "4   11      2  2022  "
            ],
            "text/html": [
              "\n",
              "  <div id=\"df-777c2d69-a96d-41d1-853c-40b31cf360ec\">\n",
              "    <div class=\"colab-df-container\">\n",
              "      <div>\n",
              "<style scoped>\n",
              "    .dataframe tbody tr th:only-of-type {\n",
              "        vertical-align: middle;\n",
              "    }\n",
              "\n",
              "    .dataframe tbody tr th {\n",
              "        vertical-align: top;\n",
              "    }\n",
              "\n",
              "    .dataframe thead th {\n",
              "        text-align: right;\n",
              "    }\n",
              "</style>\n",
              "<table border=\"1\" class=\"dataframe\">\n",
              "  <thead>\n",
              "    <tr style=\"text-align: right;\">\n",
              "      <th></th>\n",
              "      <th>date</th>\n",
              "      <th>airline</th>\n",
              "      <th>ch_code</th>\n",
              "      <th>num_code</th>\n",
              "      <th>dep_time</th>\n",
              "      <th>from</th>\n",
              "      <th>time_taken</th>\n",
              "      <th>stop</th>\n",
              "      <th>arr_time</th>\n",
              "      <th>to</th>\n",
              "      <th>price</th>\n",
              "      <th>day</th>\n",
              "      <th>month</th>\n",
              "      <th>year</th>\n",
              "    </tr>\n",
              "  </thead>\n",
              "  <tbody>\n",
              "    <tr>\n",
              "      <th>0</th>\n",
              "      <td>11-02-2022</td>\n",
              "      <td>Air India</td>\n",
              "      <td>AI</td>\n",
              "      <td>868</td>\n",
              "      <td>18:00</td>\n",
              "      <td>Delhi</td>\n",
              "      <td>02h 00m</td>\n",
              "      <td>non-stop</td>\n",
              "      <td>20:00</td>\n",
              "      <td>Mumbai</td>\n",
              "      <td>25,612</td>\n",
              "      <td>11</td>\n",
              "      <td>2</td>\n",
              "      <td>2022</td>\n",
              "    </tr>\n",
              "    <tr>\n",
              "      <th>1</th>\n",
              "      <td>11-02-2022</td>\n",
              "      <td>Air India</td>\n",
              "      <td>AI</td>\n",
              "      <td>624</td>\n",
              "      <td>19:00</td>\n",
              "      <td>Delhi</td>\n",
              "      <td>02h 15m</td>\n",
              "      <td>non-stop</td>\n",
              "      <td>21:15</td>\n",
              "      <td>Mumbai</td>\n",
              "      <td>25,612</td>\n",
              "      <td>11</td>\n",
              "      <td>2</td>\n",
              "      <td>2022</td>\n",
              "    </tr>\n",
              "    <tr>\n",
              "      <th>2</th>\n",
              "      <td>11-02-2022</td>\n",
              "      <td>Air India</td>\n",
              "      <td>AI</td>\n",
              "      <td>531</td>\n",
              "      <td>20:00</td>\n",
              "      <td>Delhi</td>\n",
              "      <td>24h 45m</td>\n",
              "      <td>1-stop\\n\\t\\t\\t\\t\\t\\t\\t\\t\\t\\t\\t\\t\\n\\t\\t\\t\\t\\t\\t...</td>\n",
              "      <td>20:45</td>\n",
              "      <td>Mumbai</td>\n",
              "      <td>42,220</td>\n",
              "      <td>11</td>\n",
              "      <td>2</td>\n",
              "      <td>2022</td>\n",
              "    </tr>\n",
              "    <tr>\n",
              "      <th>3</th>\n",
              "      <td>11-02-2022</td>\n",
              "      <td>Air India</td>\n",
              "      <td>AI</td>\n",
              "      <td>839</td>\n",
              "      <td>21:25</td>\n",
              "      <td>Delhi</td>\n",
              "      <td>26h 30m</td>\n",
              "      <td>1-stop\\n\\t\\t\\t\\t\\t\\t\\t\\t\\t\\t\\t\\t\\n\\t\\t\\t\\t\\t\\t...</td>\n",
              "      <td>23:55</td>\n",
              "      <td>Mumbai</td>\n",
              "      <td>44,450</td>\n",
              "      <td>11</td>\n",
              "      <td>2</td>\n",
              "      <td>2022</td>\n",
              "    </tr>\n",
              "    <tr>\n",
              "      <th>4</th>\n",
              "      <td>11-02-2022</td>\n",
              "      <td>Air India</td>\n",
              "      <td>AI</td>\n",
              "      <td>544</td>\n",
              "      <td>17:15</td>\n",
              "      <td>Delhi</td>\n",
              "      <td>06h 40m</td>\n",
              "      <td>1-stop\\n\\t\\t\\t\\t\\t\\t\\t\\t\\t\\t\\t\\t\\n\\t\\t\\t\\t\\t\\t...</td>\n",
              "      <td>23:55</td>\n",
              "      <td>Mumbai</td>\n",
              "      <td>46,690</td>\n",
              "      <td>11</td>\n",
              "      <td>2</td>\n",
              "      <td>2022</td>\n",
              "    </tr>\n",
              "  </tbody>\n",
              "</table>\n",
              "</div>\n",
              "      <button class=\"colab-df-convert\" onclick=\"convertToInteractive('df-777c2d69-a96d-41d1-853c-40b31cf360ec')\"\n",
              "              title=\"Convert this dataframe to an interactive table.\"\n",
              "              style=\"display:none;\">\n",
              "        \n",
              "  <svg xmlns=\"http://www.w3.org/2000/svg\" height=\"24px\"viewBox=\"0 0 24 24\"\n",
              "       width=\"24px\">\n",
              "    <path d=\"M0 0h24v24H0V0z\" fill=\"none\"/>\n",
              "    <path d=\"M18.56 5.44l.94 2.06.94-2.06 2.06-.94-2.06-.94-.94-2.06-.94 2.06-2.06.94zm-11 1L8.5 8.5l.94-2.06 2.06-.94-2.06-.94L8.5 2.5l-.94 2.06-2.06.94zm10 10l.94 2.06.94-2.06 2.06-.94-2.06-.94-.94-2.06-.94 2.06-2.06.94z\"/><path d=\"M17.41 7.96l-1.37-1.37c-.4-.4-.92-.59-1.43-.59-.52 0-1.04.2-1.43.59L10.3 9.45l-7.72 7.72c-.78.78-.78 2.05 0 2.83L4 21.41c.39.39.9.59 1.41.59.51 0 1.02-.2 1.41-.59l7.78-7.78 2.81-2.81c.8-.78.8-2.07 0-2.86zM5.41 20L4 18.59l7.72-7.72 1.47 1.35L5.41 20z\"/>\n",
              "  </svg>\n",
              "      </button>\n",
              "      \n",
              "  <style>\n",
              "    .colab-df-container {\n",
              "      display:flex;\n",
              "      flex-wrap:wrap;\n",
              "      gap: 12px;\n",
              "    }\n",
              "\n",
              "    .colab-df-convert {\n",
              "      background-color: #E8F0FE;\n",
              "      border: none;\n",
              "      border-radius: 50%;\n",
              "      cursor: pointer;\n",
              "      display: none;\n",
              "      fill: #1967D2;\n",
              "      height: 32px;\n",
              "      padding: 0 0 0 0;\n",
              "      width: 32px;\n",
              "    }\n",
              "\n",
              "    .colab-df-convert:hover {\n",
              "      background-color: #E2EBFA;\n",
              "      box-shadow: 0px 1px 2px rgba(60, 64, 67, 0.3), 0px 1px 3px 1px rgba(60, 64, 67, 0.15);\n",
              "      fill: #174EA6;\n",
              "    }\n",
              "\n",
              "    [theme=dark] .colab-df-convert {\n",
              "      background-color: #3B4455;\n",
              "      fill: #D2E3FC;\n",
              "    }\n",
              "\n",
              "    [theme=dark] .colab-df-convert:hover {\n",
              "      background-color: #434B5C;\n",
              "      box-shadow: 0px 1px 3px 1px rgba(0, 0, 0, 0.15);\n",
              "      filter: drop-shadow(0px 1px 2px rgba(0, 0, 0, 0.3));\n",
              "      fill: #FFFFFF;\n",
              "    }\n",
              "  </style>\n",
              "\n",
              "      <script>\n",
              "        const buttonEl =\n",
              "          document.querySelector('#df-777c2d69-a96d-41d1-853c-40b31cf360ec button.colab-df-convert');\n",
              "        buttonEl.style.display =\n",
              "          google.colab.kernel.accessAllowed ? 'block' : 'none';\n",
              "\n",
              "        async function convertToInteractive(key) {\n",
              "          const element = document.querySelector('#df-777c2d69-a96d-41d1-853c-40b31cf360ec');\n",
              "          const dataTable =\n",
              "            await google.colab.kernel.invokeFunction('convertToInteractive',\n",
              "                                                     [key], {});\n",
              "          if (!dataTable) return;\n",
              "\n",
              "          const docLinkHtml = 'Like what you see? Visit the ' +\n",
              "            '<a target=\"_blank\" href=https://colab.research.google.com/notebooks/data_table.ipynb>data table notebook</a>'\n",
              "            + ' to learn more about interactive tables.';\n",
              "          element.innerHTML = '';\n",
              "          dataTable['output_type'] = 'display_data';\n",
              "          await google.colab.output.renderOutput(dataTable, element);\n",
              "          const docLink = document.createElement('div');\n",
              "          docLink.innerHTML = docLinkHtml;\n",
              "          element.appendChild(docLink);\n",
              "        }\n",
              "      </script>\n",
              "    </div>\n",
              "  </div>\n",
              "  "
            ]
          },
          "metadata": {},
          "execution_count": 75
        }
      ],
      "source": [
        "fpp.head(5)"
      ]
    },
    {
      "cell_type": "code",
      "execution_count": 76,
      "metadata": {
        "id": "FNmwiGHVOjH7"
      },
      "outputs": [],
      "source": [
        "fpp.drop(['date'], axis=1, inplace=True) # Hence the date column is splited we can drop the date column"
      ]
    },
    {
      "cell_type": "code",
      "execution_count": 77,
      "metadata": {
        "colab": {
          "base_uri": "https://localhost:8080/",
          "height": 206
        },
        "id": "oLyiaJ3EPLdS",
        "outputId": "c001f320-0aea-4d35-e8c8-4b907b86ec59"
      },
      "outputs": [
        {
          "output_type": "execute_result",
          "data": {
            "text/plain": [
              "     airline ch_code  num_code dep_time   from time_taken  \\\n",
              "0  Air India      AI       868    18:00  Delhi    02h 00m   \n",
              "1  Air India      AI       624    19:00  Delhi    02h 15m   \n",
              "2  Air India      AI       531    20:00  Delhi    24h 45m   \n",
              "3  Air India      AI       839    21:25  Delhi    26h 30m   \n",
              "4  Air India      AI       544    17:15  Delhi    06h 40m   \n",
              "\n",
              "                                                stop arr_time      to   price  \\\n",
              "0                                          non-stop     20:00  Mumbai  25,612   \n",
              "1                                          non-stop     21:15  Mumbai  25,612   \n",
              "2  1-stop\\n\\t\\t\\t\\t\\t\\t\\t\\t\\t\\t\\t\\t\\n\\t\\t\\t\\t\\t\\t...    20:45  Mumbai  42,220   \n",
              "3  1-stop\\n\\t\\t\\t\\t\\t\\t\\t\\t\\t\\t\\t\\t\\n\\t\\t\\t\\t\\t\\t...    23:55  Mumbai  44,450   \n",
              "4  1-stop\\n\\t\\t\\t\\t\\t\\t\\t\\t\\t\\t\\t\\t\\n\\t\\t\\t\\t\\t\\t...    23:55  Mumbai  46,690   \n",
              "\n",
              "   day  month  year  \n",
              "0   11      2  2022  \n",
              "1   11      2  2022  \n",
              "2   11      2  2022  \n",
              "3   11      2  2022  \n",
              "4   11      2  2022  "
            ],
            "text/html": [
              "\n",
              "  <div id=\"df-b597da6f-7175-4f08-a5dd-fc090f17fa39\">\n",
              "    <div class=\"colab-df-container\">\n",
              "      <div>\n",
              "<style scoped>\n",
              "    .dataframe tbody tr th:only-of-type {\n",
              "        vertical-align: middle;\n",
              "    }\n",
              "\n",
              "    .dataframe tbody tr th {\n",
              "        vertical-align: top;\n",
              "    }\n",
              "\n",
              "    .dataframe thead th {\n",
              "        text-align: right;\n",
              "    }\n",
              "</style>\n",
              "<table border=\"1\" class=\"dataframe\">\n",
              "  <thead>\n",
              "    <tr style=\"text-align: right;\">\n",
              "      <th></th>\n",
              "      <th>airline</th>\n",
              "      <th>ch_code</th>\n",
              "      <th>num_code</th>\n",
              "      <th>dep_time</th>\n",
              "      <th>from</th>\n",
              "      <th>time_taken</th>\n",
              "      <th>stop</th>\n",
              "      <th>arr_time</th>\n",
              "      <th>to</th>\n",
              "      <th>price</th>\n",
              "      <th>day</th>\n",
              "      <th>month</th>\n",
              "      <th>year</th>\n",
              "    </tr>\n",
              "  </thead>\n",
              "  <tbody>\n",
              "    <tr>\n",
              "      <th>0</th>\n",
              "      <td>Air India</td>\n",
              "      <td>AI</td>\n",
              "      <td>868</td>\n",
              "      <td>18:00</td>\n",
              "      <td>Delhi</td>\n",
              "      <td>02h 00m</td>\n",
              "      <td>non-stop</td>\n",
              "      <td>20:00</td>\n",
              "      <td>Mumbai</td>\n",
              "      <td>25,612</td>\n",
              "      <td>11</td>\n",
              "      <td>2</td>\n",
              "      <td>2022</td>\n",
              "    </tr>\n",
              "    <tr>\n",
              "      <th>1</th>\n",
              "      <td>Air India</td>\n",
              "      <td>AI</td>\n",
              "      <td>624</td>\n",
              "      <td>19:00</td>\n",
              "      <td>Delhi</td>\n",
              "      <td>02h 15m</td>\n",
              "      <td>non-stop</td>\n",
              "      <td>21:15</td>\n",
              "      <td>Mumbai</td>\n",
              "      <td>25,612</td>\n",
              "      <td>11</td>\n",
              "      <td>2</td>\n",
              "      <td>2022</td>\n",
              "    </tr>\n",
              "    <tr>\n",
              "      <th>2</th>\n",
              "      <td>Air India</td>\n",
              "      <td>AI</td>\n",
              "      <td>531</td>\n",
              "      <td>20:00</td>\n",
              "      <td>Delhi</td>\n",
              "      <td>24h 45m</td>\n",
              "      <td>1-stop\\n\\t\\t\\t\\t\\t\\t\\t\\t\\t\\t\\t\\t\\n\\t\\t\\t\\t\\t\\t...</td>\n",
              "      <td>20:45</td>\n",
              "      <td>Mumbai</td>\n",
              "      <td>42,220</td>\n",
              "      <td>11</td>\n",
              "      <td>2</td>\n",
              "      <td>2022</td>\n",
              "    </tr>\n",
              "    <tr>\n",
              "      <th>3</th>\n",
              "      <td>Air India</td>\n",
              "      <td>AI</td>\n",
              "      <td>839</td>\n",
              "      <td>21:25</td>\n",
              "      <td>Delhi</td>\n",
              "      <td>26h 30m</td>\n",
              "      <td>1-stop\\n\\t\\t\\t\\t\\t\\t\\t\\t\\t\\t\\t\\t\\n\\t\\t\\t\\t\\t\\t...</td>\n",
              "      <td>23:55</td>\n",
              "      <td>Mumbai</td>\n",
              "      <td>44,450</td>\n",
              "      <td>11</td>\n",
              "      <td>2</td>\n",
              "      <td>2022</td>\n",
              "    </tr>\n",
              "    <tr>\n",
              "      <th>4</th>\n",
              "      <td>Air India</td>\n",
              "      <td>AI</td>\n",
              "      <td>544</td>\n",
              "      <td>17:15</td>\n",
              "      <td>Delhi</td>\n",
              "      <td>06h 40m</td>\n",
              "      <td>1-stop\\n\\t\\t\\t\\t\\t\\t\\t\\t\\t\\t\\t\\t\\n\\t\\t\\t\\t\\t\\t...</td>\n",
              "      <td>23:55</td>\n",
              "      <td>Mumbai</td>\n",
              "      <td>46,690</td>\n",
              "      <td>11</td>\n",
              "      <td>2</td>\n",
              "      <td>2022</td>\n",
              "    </tr>\n",
              "  </tbody>\n",
              "</table>\n",
              "</div>\n",
              "      <button class=\"colab-df-convert\" onclick=\"convertToInteractive('df-b597da6f-7175-4f08-a5dd-fc090f17fa39')\"\n",
              "              title=\"Convert this dataframe to an interactive table.\"\n",
              "              style=\"display:none;\">\n",
              "        \n",
              "  <svg xmlns=\"http://www.w3.org/2000/svg\" height=\"24px\"viewBox=\"0 0 24 24\"\n",
              "       width=\"24px\">\n",
              "    <path d=\"M0 0h24v24H0V0z\" fill=\"none\"/>\n",
              "    <path d=\"M18.56 5.44l.94 2.06.94-2.06 2.06-.94-2.06-.94-.94-2.06-.94 2.06-2.06.94zm-11 1L8.5 8.5l.94-2.06 2.06-.94-2.06-.94L8.5 2.5l-.94 2.06-2.06.94zm10 10l.94 2.06.94-2.06 2.06-.94-2.06-.94-.94-2.06-.94 2.06-2.06.94z\"/><path d=\"M17.41 7.96l-1.37-1.37c-.4-.4-.92-.59-1.43-.59-.52 0-1.04.2-1.43.59L10.3 9.45l-7.72 7.72c-.78.78-.78 2.05 0 2.83L4 21.41c.39.39.9.59 1.41.59.51 0 1.02-.2 1.41-.59l7.78-7.78 2.81-2.81c.8-.78.8-2.07 0-2.86zM5.41 20L4 18.59l7.72-7.72 1.47 1.35L5.41 20z\"/>\n",
              "  </svg>\n",
              "      </button>\n",
              "      \n",
              "  <style>\n",
              "    .colab-df-container {\n",
              "      display:flex;\n",
              "      flex-wrap:wrap;\n",
              "      gap: 12px;\n",
              "    }\n",
              "\n",
              "    .colab-df-convert {\n",
              "      background-color: #E8F0FE;\n",
              "      border: none;\n",
              "      border-radius: 50%;\n",
              "      cursor: pointer;\n",
              "      display: none;\n",
              "      fill: #1967D2;\n",
              "      height: 32px;\n",
              "      padding: 0 0 0 0;\n",
              "      width: 32px;\n",
              "    }\n",
              "\n",
              "    .colab-df-convert:hover {\n",
              "      background-color: #E2EBFA;\n",
              "      box-shadow: 0px 1px 2px rgba(60, 64, 67, 0.3), 0px 1px 3px 1px rgba(60, 64, 67, 0.15);\n",
              "      fill: #174EA6;\n",
              "    }\n",
              "\n",
              "    [theme=dark] .colab-df-convert {\n",
              "      background-color: #3B4455;\n",
              "      fill: #D2E3FC;\n",
              "    }\n",
              "\n",
              "    [theme=dark] .colab-df-convert:hover {\n",
              "      background-color: #434B5C;\n",
              "      box-shadow: 0px 1px 3px 1px rgba(0, 0, 0, 0.15);\n",
              "      filter: drop-shadow(0px 1px 2px rgba(0, 0, 0, 0.3));\n",
              "      fill: #FFFFFF;\n",
              "    }\n",
              "  </style>\n",
              "\n",
              "      <script>\n",
              "        const buttonEl =\n",
              "          document.querySelector('#df-b597da6f-7175-4f08-a5dd-fc090f17fa39 button.colab-df-convert');\n",
              "        buttonEl.style.display =\n",
              "          google.colab.kernel.accessAllowed ? 'block' : 'none';\n",
              "\n",
              "        async function convertToInteractive(key) {\n",
              "          const element = document.querySelector('#df-b597da6f-7175-4f08-a5dd-fc090f17fa39');\n",
              "          const dataTable =\n",
              "            await google.colab.kernel.invokeFunction('convertToInteractive',\n",
              "                                                     [key], {});\n",
              "          if (!dataTable) return;\n",
              "\n",
              "          const docLinkHtml = 'Like what you see? Visit the ' +\n",
              "            '<a target=\"_blank\" href=https://colab.research.google.com/notebooks/data_table.ipynb>data table notebook</a>'\n",
              "            + ' to learn more about interactive tables.';\n",
              "          element.innerHTML = '';\n",
              "          dataTable['output_type'] = 'display_data';\n",
              "          await google.colab.output.renderOutput(dataTable, element);\n",
              "          const docLink = document.createElement('div');\n",
              "          docLink.innerHTML = docLinkHtml;\n",
              "          element.appendChild(docLink);\n",
              "        }\n",
              "      </script>\n",
              "    </div>\n",
              "  </div>\n",
              "  "
            ]
          },
          "metadata": {},
          "execution_count": 77
        }
      ],
      "source": [
        "fpp.head()"
      ]
    },
    {
      "cell_type": "code",
      "source": [
        "# because the time format is in hh:mm format and contains a colon, which is not a numeric character. \n",
        "# To solve this error convert the \"dep_time\" column to a datetime data type which converts into int type. "
      ],
      "metadata": {
        "id": "DO5ofkK4_sUO"
      },
      "execution_count": 78,
      "outputs": []
    },
    {
      "cell_type": "code",
      "execution_count": 79,
      "metadata": {
        "id": "SApBpet7PPOz"
      },
      "outputs": [],
      "source": [
        "#similarly split the departure time into hours and minutes inorder to convert the data type of the departure time\n",
        "fpp[\"dep_hour\"] = pd.to_datetime(fpp['dep_time']).dt.hour # dt.hour will extracting only hour from each dep_time and assign to new column hour\n",
        "fpp[\"dep_min\"] = pd.to_datetime(fpp['dep_time']).dt.minute # dt.minute will extracting only minutes from each dep_time and assign to new column minutes"
      ]
    },
    {
      "cell_type": "code",
      "execution_count": 80,
      "metadata": {
        "id": "7hQNyooFSuk_"
      },
      "outputs": [],
      "source": [
        "fpp.drop(['dep_time'], axis=1, inplace=True) # Hence the dep_time column is splited we can drop the date column"
      ]
    },
    {
      "cell_type": "code",
      "execution_count": 81,
      "metadata": {
        "colab": {
          "base_uri": "https://localhost:8080/",
          "height": 206
        },
        "id": "fd7R__dWTp66",
        "outputId": "91358712-12e4-477d-8d8b-ec37119b3541"
      },
      "outputs": [
        {
          "output_type": "execute_result",
          "data": {
            "text/plain": [
              "     airline ch_code  num_code   from time_taken  \\\n",
              "0  Air India      AI       868  Delhi    02h 00m   \n",
              "1  Air India      AI       624  Delhi    02h 15m   \n",
              "2  Air India      AI       531  Delhi    24h 45m   \n",
              "3  Air India      AI       839  Delhi    26h 30m   \n",
              "4  Air India      AI       544  Delhi    06h 40m   \n",
              "\n",
              "                                                stop arr_time      to   price  \\\n",
              "0                                          non-stop     20:00  Mumbai  25,612   \n",
              "1                                          non-stop     21:15  Mumbai  25,612   \n",
              "2  1-stop\\n\\t\\t\\t\\t\\t\\t\\t\\t\\t\\t\\t\\t\\n\\t\\t\\t\\t\\t\\t...    20:45  Mumbai  42,220   \n",
              "3  1-stop\\n\\t\\t\\t\\t\\t\\t\\t\\t\\t\\t\\t\\t\\n\\t\\t\\t\\t\\t\\t...    23:55  Mumbai  44,450   \n",
              "4  1-stop\\n\\t\\t\\t\\t\\t\\t\\t\\t\\t\\t\\t\\t\\n\\t\\t\\t\\t\\t\\t...    23:55  Mumbai  46,690   \n",
              "\n",
              "   day  month  year  dep_hour  dep_min  \n",
              "0   11      2  2022        18        0  \n",
              "1   11      2  2022        19        0  \n",
              "2   11      2  2022        20        0  \n",
              "3   11      2  2022        21       25  \n",
              "4   11      2  2022        17       15  "
            ],
            "text/html": [
              "\n",
              "  <div id=\"df-bb220a3c-d8c3-483a-be0a-a368036939f3\">\n",
              "    <div class=\"colab-df-container\">\n",
              "      <div>\n",
              "<style scoped>\n",
              "    .dataframe tbody tr th:only-of-type {\n",
              "        vertical-align: middle;\n",
              "    }\n",
              "\n",
              "    .dataframe tbody tr th {\n",
              "        vertical-align: top;\n",
              "    }\n",
              "\n",
              "    .dataframe thead th {\n",
              "        text-align: right;\n",
              "    }\n",
              "</style>\n",
              "<table border=\"1\" class=\"dataframe\">\n",
              "  <thead>\n",
              "    <tr style=\"text-align: right;\">\n",
              "      <th></th>\n",
              "      <th>airline</th>\n",
              "      <th>ch_code</th>\n",
              "      <th>num_code</th>\n",
              "      <th>from</th>\n",
              "      <th>time_taken</th>\n",
              "      <th>stop</th>\n",
              "      <th>arr_time</th>\n",
              "      <th>to</th>\n",
              "      <th>price</th>\n",
              "      <th>day</th>\n",
              "      <th>month</th>\n",
              "      <th>year</th>\n",
              "      <th>dep_hour</th>\n",
              "      <th>dep_min</th>\n",
              "    </tr>\n",
              "  </thead>\n",
              "  <tbody>\n",
              "    <tr>\n",
              "      <th>0</th>\n",
              "      <td>Air India</td>\n",
              "      <td>AI</td>\n",
              "      <td>868</td>\n",
              "      <td>Delhi</td>\n",
              "      <td>02h 00m</td>\n",
              "      <td>non-stop</td>\n",
              "      <td>20:00</td>\n",
              "      <td>Mumbai</td>\n",
              "      <td>25,612</td>\n",
              "      <td>11</td>\n",
              "      <td>2</td>\n",
              "      <td>2022</td>\n",
              "      <td>18</td>\n",
              "      <td>0</td>\n",
              "    </tr>\n",
              "    <tr>\n",
              "      <th>1</th>\n",
              "      <td>Air India</td>\n",
              "      <td>AI</td>\n",
              "      <td>624</td>\n",
              "      <td>Delhi</td>\n",
              "      <td>02h 15m</td>\n",
              "      <td>non-stop</td>\n",
              "      <td>21:15</td>\n",
              "      <td>Mumbai</td>\n",
              "      <td>25,612</td>\n",
              "      <td>11</td>\n",
              "      <td>2</td>\n",
              "      <td>2022</td>\n",
              "      <td>19</td>\n",
              "      <td>0</td>\n",
              "    </tr>\n",
              "    <tr>\n",
              "      <th>2</th>\n",
              "      <td>Air India</td>\n",
              "      <td>AI</td>\n",
              "      <td>531</td>\n",
              "      <td>Delhi</td>\n",
              "      <td>24h 45m</td>\n",
              "      <td>1-stop\\n\\t\\t\\t\\t\\t\\t\\t\\t\\t\\t\\t\\t\\n\\t\\t\\t\\t\\t\\t...</td>\n",
              "      <td>20:45</td>\n",
              "      <td>Mumbai</td>\n",
              "      <td>42,220</td>\n",
              "      <td>11</td>\n",
              "      <td>2</td>\n",
              "      <td>2022</td>\n",
              "      <td>20</td>\n",
              "      <td>0</td>\n",
              "    </tr>\n",
              "    <tr>\n",
              "      <th>3</th>\n",
              "      <td>Air India</td>\n",
              "      <td>AI</td>\n",
              "      <td>839</td>\n",
              "      <td>Delhi</td>\n",
              "      <td>26h 30m</td>\n",
              "      <td>1-stop\\n\\t\\t\\t\\t\\t\\t\\t\\t\\t\\t\\t\\t\\n\\t\\t\\t\\t\\t\\t...</td>\n",
              "      <td>23:55</td>\n",
              "      <td>Mumbai</td>\n",
              "      <td>44,450</td>\n",
              "      <td>11</td>\n",
              "      <td>2</td>\n",
              "      <td>2022</td>\n",
              "      <td>21</td>\n",
              "      <td>25</td>\n",
              "    </tr>\n",
              "    <tr>\n",
              "      <th>4</th>\n",
              "      <td>Air India</td>\n",
              "      <td>AI</td>\n",
              "      <td>544</td>\n",
              "      <td>Delhi</td>\n",
              "      <td>06h 40m</td>\n",
              "      <td>1-stop\\n\\t\\t\\t\\t\\t\\t\\t\\t\\t\\t\\t\\t\\n\\t\\t\\t\\t\\t\\t...</td>\n",
              "      <td>23:55</td>\n",
              "      <td>Mumbai</td>\n",
              "      <td>46,690</td>\n",
              "      <td>11</td>\n",
              "      <td>2</td>\n",
              "      <td>2022</td>\n",
              "      <td>17</td>\n",
              "      <td>15</td>\n",
              "    </tr>\n",
              "  </tbody>\n",
              "</table>\n",
              "</div>\n",
              "      <button class=\"colab-df-convert\" onclick=\"convertToInteractive('df-bb220a3c-d8c3-483a-be0a-a368036939f3')\"\n",
              "              title=\"Convert this dataframe to an interactive table.\"\n",
              "              style=\"display:none;\">\n",
              "        \n",
              "  <svg xmlns=\"http://www.w3.org/2000/svg\" height=\"24px\"viewBox=\"0 0 24 24\"\n",
              "       width=\"24px\">\n",
              "    <path d=\"M0 0h24v24H0V0z\" fill=\"none\"/>\n",
              "    <path d=\"M18.56 5.44l.94 2.06.94-2.06 2.06-.94-2.06-.94-.94-2.06-.94 2.06-2.06.94zm-11 1L8.5 8.5l.94-2.06 2.06-.94-2.06-.94L8.5 2.5l-.94 2.06-2.06.94zm10 10l.94 2.06.94-2.06 2.06-.94-2.06-.94-.94-2.06-.94 2.06-2.06.94z\"/><path d=\"M17.41 7.96l-1.37-1.37c-.4-.4-.92-.59-1.43-.59-.52 0-1.04.2-1.43.59L10.3 9.45l-7.72 7.72c-.78.78-.78 2.05 0 2.83L4 21.41c.39.39.9.59 1.41.59.51 0 1.02-.2 1.41-.59l7.78-7.78 2.81-2.81c.8-.78.8-2.07 0-2.86zM5.41 20L4 18.59l7.72-7.72 1.47 1.35L5.41 20z\"/>\n",
              "  </svg>\n",
              "      </button>\n",
              "      \n",
              "  <style>\n",
              "    .colab-df-container {\n",
              "      display:flex;\n",
              "      flex-wrap:wrap;\n",
              "      gap: 12px;\n",
              "    }\n",
              "\n",
              "    .colab-df-convert {\n",
              "      background-color: #E8F0FE;\n",
              "      border: none;\n",
              "      border-radius: 50%;\n",
              "      cursor: pointer;\n",
              "      display: none;\n",
              "      fill: #1967D2;\n",
              "      height: 32px;\n",
              "      padding: 0 0 0 0;\n",
              "      width: 32px;\n",
              "    }\n",
              "\n",
              "    .colab-df-convert:hover {\n",
              "      background-color: #E2EBFA;\n",
              "      box-shadow: 0px 1px 2px rgba(60, 64, 67, 0.3), 0px 1px 3px 1px rgba(60, 64, 67, 0.15);\n",
              "      fill: #174EA6;\n",
              "    }\n",
              "\n",
              "    [theme=dark] .colab-df-convert {\n",
              "      background-color: #3B4455;\n",
              "      fill: #D2E3FC;\n",
              "    }\n",
              "\n",
              "    [theme=dark] .colab-df-convert:hover {\n",
              "      background-color: #434B5C;\n",
              "      box-shadow: 0px 1px 3px 1px rgba(0, 0, 0, 0.15);\n",
              "      filter: drop-shadow(0px 1px 2px rgba(0, 0, 0, 0.3));\n",
              "      fill: #FFFFFF;\n",
              "    }\n",
              "  </style>\n",
              "\n",
              "      <script>\n",
              "        const buttonEl =\n",
              "          document.querySelector('#df-bb220a3c-d8c3-483a-be0a-a368036939f3 button.colab-df-convert');\n",
              "        buttonEl.style.display =\n",
              "          google.colab.kernel.accessAllowed ? 'block' : 'none';\n",
              "\n",
              "        async function convertToInteractive(key) {\n",
              "          const element = document.querySelector('#df-bb220a3c-d8c3-483a-be0a-a368036939f3');\n",
              "          const dataTable =\n",
              "            await google.colab.kernel.invokeFunction('convertToInteractive',\n",
              "                                                     [key], {});\n",
              "          if (!dataTable) return;\n",
              "\n",
              "          const docLinkHtml = 'Like what you see? Visit the ' +\n",
              "            '<a target=\"_blank\" href=https://colab.research.google.com/notebooks/data_table.ipynb>data table notebook</a>'\n",
              "            + ' to learn more about interactive tables.';\n",
              "          element.innerHTML = '';\n",
              "          dataTable['output_type'] = 'display_data';\n",
              "          await google.colab.output.renderOutput(dataTable, element);\n",
              "          const docLink = document.createElement('div');\n",
              "          docLink.innerHTML = docLinkHtml;\n",
              "          element.appendChild(docLink);\n",
              "        }\n",
              "      </script>\n",
              "    </div>\n",
              "  </div>\n",
              "  "
            ]
          },
          "metadata": {},
          "execution_count": 81
        }
      ],
      "source": [
        "fpp.head(5)"
      ]
    },
    {
      "cell_type": "code",
      "source": [
        "# because the time format is in hh:mm format and contains a colon, which is not a numeric character. \n",
        "# To solve this error convert the \"arr_time\" column to a datetime data type which converts into int type."
      ],
      "metadata": {
        "id": "cBuhjaMbCYbv"
      },
      "execution_count": 82,
      "outputs": []
    },
    {
      "cell_type": "code",
      "execution_count": 83,
      "metadata": {
        "id": "E-0LWMe5TzrH"
      },
      "outputs": [],
      "source": [
        "#similarly split the arriving time into hours and minutes inorder to convert the data type of the arriving time\n",
        "\n",
        "fpp[\"arr_hour\"] = pd.to_datetime(fpp['arr_time']).dt.hour # dt.hour will extracting only hour from each arr_time and assign to new column hour\n",
        "fpp[\"arr_min\"] = pd.to_datetime(fpp['arr_time']).dt.minute # dt.minute will extracting only minute from each arr_time and assign to new column minutes\n",
        "\n"
      ]
    },
    {
      "cell_type": "code",
      "execution_count": 84,
      "metadata": {
        "colab": {
          "base_uri": "https://localhost:8080/",
          "height": 206
        },
        "id": "XroDy4w9UzYW",
        "outputId": "60bbf973-4de9-4572-8e0d-5875b12fbad5"
      },
      "outputs": [
        {
          "output_type": "execute_result",
          "data": {
            "text/plain": [
              "     airline ch_code  num_code   from time_taken  \\\n",
              "0  Air India      AI       868  Delhi    02h 00m   \n",
              "1  Air India      AI       624  Delhi    02h 15m   \n",
              "2  Air India      AI       531  Delhi    24h 45m   \n",
              "3  Air India      AI       839  Delhi    26h 30m   \n",
              "4  Air India      AI       544  Delhi    06h 40m   \n",
              "\n",
              "                                                stop      to   price  day  \\\n",
              "0                                          non-stop   Mumbai  25,612   11   \n",
              "1                                          non-stop   Mumbai  25,612   11   \n",
              "2  1-stop\\n\\t\\t\\t\\t\\t\\t\\t\\t\\t\\t\\t\\t\\n\\t\\t\\t\\t\\t\\t...  Mumbai  42,220   11   \n",
              "3  1-stop\\n\\t\\t\\t\\t\\t\\t\\t\\t\\t\\t\\t\\t\\n\\t\\t\\t\\t\\t\\t...  Mumbai  44,450   11   \n",
              "4  1-stop\\n\\t\\t\\t\\t\\t\\t\\t\\t\\t\\t\\t\\t\\n\\t\\t\\t\\t\\t\\t...  Mumbai  46,690   11   \n",
              "\n",
              "   month  year  dep_hour  dep_min  arr_hour  arr_min  \n",
              "0      2  2022        18        0        20        0  \n",
              "1      2  2022        19        0        21       15  \n",
              "2      2  2022        20        0        20       45  \n",
              "3      2  2022        21       25        23       55  \n",
              "4      2  2022        17       15        23       55  "
            ],
            "text/html": [
              "\n",
              "  <div id=\"df-44c2a413-ec64-4d47-912c-ce4fe225f069\">\n",
              "    <div class=\"colab-df-container\">\n",
              "      <div>\n",
              "<style scoped>\n",
              "    .dataframe tbody tr th:only-of-type {\n",
              "        vertical-align: middle;\n",
              "    }\n",
              "\n",
              "    .dataframe tbody tr th {\n",
              "        vertical-align: top;\n",
              "    }\n",
              "\n",
              "    .dataframe thead th {\n",
              "        text-align: right;\n",
              "    }\n",
              "</style>\n",
              "<table border=\"1\" class=\"dataframe\">\n",
              "  <thead>\n",
              "    <tr style=\"text-align: right;\">\n",
              "      <th></th>\n",
              "      <th>airline</th>\n",
              "      <th>ch_code</th>\n",
              "      <th>num_code</th>\n",
              "      <th>from</th>\n",
              "      <th>time_taken</th>\n",
              "      <th>stop</th>\n",
              "      <th>to</th>\n",
              "      <th>price</th>\n",
              "      <th>day</th>\n",
              "      <th>month</th>\n",
              "      <th>year</th>\n",
              "      <th>dep_hour</th>\n",
              "      <th>dep_min</th>\n",
              "      <th>arr_hour</th>\n",
              "      <th>arr_min</th>\n",
              "    </tr>\n",
              "  </thead>\n",
              "  <tbody>\n",
              "    <tr>\n",
              "      <th>0</th>\n",
              "      <td>Air India</td>\n",
              "      <td>AI</td>\n",
              "      <td>868</td>\n",
              "      <td>Delhi</td>\n",
              "      <td>02h 00m</td>\n",
              "      <td>non-stop</td>\n",
              "      <td>Mumbai</td>\n",
              "      <td>25,612</td>\n",
              "      <td>11</td>\n",
              "      <td>2</td>\n",
              "      <td>2022</td>\n",
              "      <td>18</td>\n",
              "      <td>0</td>\n",
              "      <td>20</td>\n",
              "      <td>0</td>\n",
              "    </tr>\n",
              "    <tr>\n",
              "      <th>1</th>\n",
              "      <td>Air India</td>\n",
              "      <td>AI</td>\n",
              "      <td>624</td>\n",
              "      <td>Delhi</td>\n",
              "      <td>02h 15m</td>\n",
              "      <td>non-stop</td>\n",
              "      <td>Mumbai</td>\n",
              "      <td>25,612</td>\n",
              "      <td>11</td>\n",
              "      <td>2</td>\n",
              "      <td>2022</td>\n",
              "      <td>19</td>\n",
              "      <td>0</td>\n",
              "      <td>21</td>\n",
              "      <td>15</td>\n",
              "    </tr>\n",
              "    <tr>\n",
              "      <th>2</th>\n",
              "      <td>Air India</td>\n",
              "      <td>AI</td>\n",
              "      <td>531</td>\n",
              "      <td>Delhi</td>\n",
              "      <td>24h 45m</td>\n",
              "      <td>1-stop\\n\\t\\t\\t\\t\\t\\t\\t\\t\\t\\t\\t\\t\\n\\t\\t\\t\\t\\t\\t...</td>\n",
              "      <td>Mumbai</td>\n",
              "      <td>42,220</td>\n",
              "      <td>11</td>\n",
              "      <td>2</td>\n",
              "      <td>2022</td>\n",
              "      <td>20</td>\n",
              "      <td>0</td>\n",
              "      <td>20</td>\n",
              "      <td>45</td>\n",
              "    </tr>\n",
              "    <tr>\n",
              "      <th>3</th>\n",
              "      <td>Air India</td>\n",
              "      <td>AI</td>\n",
              "      <td>839</td>\n",
              "      <td>Delhi</td>\n",
              "      <td>26h 30m</td>\n",
              "      <td>1-stop\\n\\t\\t\\t\\t\\t\\t\\t\\t\\t\\t\\t\\t\\n\\t\\t\\t\\t\\t\\t...</td>\n",
              "      <td>Mumbai</td>\n",
              "      <td>44,450</td>\n",
              "      <td>11</td>\n",
              "      <td>2</td>\n",
              "      <td>2022</td>\n",
              "      <td>21</td>\n",
              "      <td>25</td>\n",
              "      <td>23</td>\n",
              "      <td>55</td>\n",
              "    </tr>\n",
              "    <tr>\n",
              "      <th>4</th>\n",
              "      <td>Air India</td>\n",
              "      <td>AI</td>\n",
              "      <td>544</td>\n",
              "      <td>Delhi</td>\n",
              "      <td>06h 40m</td>\n",
              "      <td>1-stop\\n\\t\\t\\t\\t\\t\\t\\t\\t\\t\\t\\t\\t\\n\\t\\t\\t\\t\\t\\t...</td>\n",
              "      <td>Mumbai</td>\n",
              "      <td>46,690</td>\n",
              "      <td>11</td>\n",
              "      <td>2</td>\n",
              "      <td>2022</td>\n",
              "      <td>17</td>\n",
              "      <td>15</td>\n",
              "      <td>23</td>\n",
              "      <td>55</td>\n",
              "    </tr>\n",
              "  </tbody>\n",
              "</table>\n",
              "</div>\n",
              "      <button class=\"colab-df-convert\" onclick=\"convertToInteractive('df-44c2a413-ec64-4d47-912c-ce4fe225f069')\"\n",
              "              title=\"Convert this dataframe to an interactive table.\"\n",
              "              style=\"display:none;\">\n",
              "        \n",
              "  <svg xmlns=\"http://www.w3.org/2000/svg\" height=\"24px\"viewBox=\"0 0 24 24\"\n",
              "       width=\"24px\">\n",
              "    <path d=\"M0 0h24v24H0V0z\" fill=\"none\"/>\n",
              "    <path d=\"M18.56 5.44l.94 2.06.94-2.06 2.06-.94-2.06-.94-.94-2.06-.94 2.06-2.06.94zm-11 1L8.5 8.5l.94-2.06 2.06-.94-2.06-.94L8.5 2.5l-.94 2.06-2.06.94zm10 10l.94 2.06.94-2.06 2.06-.94-2.06-.94-.94-2.06-.94 2.06-2.06.94z\"/><path d=\"M17.41 7.96l-1.37-1.37c-.4-.4-.92-.59-1.43-.59-.52 0-1.04.2-1.43.59L10.3 9.45l-7.72 7.72c-.78.78-.78 2.05 0 2.83L4 21.41c.39.39.9.59 1.41.59.51 0 1.02-.2 1.41-.59l7.78-7.78 2.81-2.81c.8-.78.8-2.07 0-2.86zM5.41 20L4 18.59l7.72-7.72 1.47 1.35L5.41 20z\"/>\n",
              "  </svg>\n",
              "      </button>\n",
              "      \n",
              "  <style>\n",
              "    .colab-df-container {\n",
              "      display:flex;\n",
              "      flex-wrap:wrap;\n",
              "      gap: 12px;\n",
              "    }\n",
              "\n",
              "    .colab-df-convert {\n",
              "      background-color: #E8F0FE;\n",
              "      border: none;\n",
              "      border-radius: 50%;\n",
              "      cursor: pointer;\n",
              "      display: none;\n",
              "      fill: #1967D2;\n",
              "      height: 32px;\n",
              "      padding: 0 0 0 0;\n",
              "      width: 32px;\n",
              "    }\n",
              "\n",
              "    .colab-df-convert:hover {\n",
              "      background-color: #E2EBFA;\n",
              "      box-shadow: 0px 1px 2px rgba(60, 64, 67, 0.3), 0px 1px 3px 1px rgba(60, 64, 67, 0.15);\n",
              "      fill: #174EA6;\n",
              "    }\n",
              "\n",
              "    [theme=dark] .colab-df-convert {\n",
              "      background-color: #3B4455;\n",
              "      fill: #D2E3FC;\n",
              "    }\n",
              "\n",
              "    [theme=dark] .colab-df-convert:hover {\n",
              "      background-color: #434B5C;\n",
              "      box-shadow: 0px 1px 3px 1px rgba(0, 0, 0, 0.15);\n",
              "      filter: drop-shadow(0px 1px 2px rgba(0, 0, 0, 0.3));\n",
              "      fill: #FFFFFF;\n",
              "    }\n",
              "  </style>\n",
              "\n",
              "      <script>\n",
              "        const buttonEl =\n",
              "          document.querySelector('#df-44c2a413-ec64-4d47-912c-ce4fe225f069 button.colab-df-convert');\n",
              "        buttonEl.style.display =\n",
              "          google.colab.kernel.accessAllowed ? 'block' : 'none';\n",
              "\n",
              "        async function convertToInteractive(key) {\n",
              "          const element = document.querySelector('#df-44c2a413-ec64-4d47-912c-ce4fe225f069');\n",
              "          const dataTable =\n",
              "            await google.colab.kernel.invokeFunction('convertToInteractive',\n",
              "                                                     [key], {});\n",
              "          if (!dataTable) return;\n",
              "\n",
              "          const docLinkHtml = 'Like what you see? Visit the ' +\n",
              "            '<a target=\"_blank\" href=https://colab.research.google.com/notebooks/data_table.ipynb>data table notebook</a>'\n",
              "            + ' to learn more about interactive tables.';\n",
              "          element.innerHTML = '';\n",
              "          dataTable['output_type'] = 'display_data';\n",
              "          await google.colab.output.renderOutput(dataTable, element);\n",
              "          const docLink = document.createElement('div');\n",
              "          docLink.innerHTML = docLinkHtml;\n",
              "          element.appendChild(docLink);\n",
              "        }\n",
              "      </script>\n",
              "    </div>\n",
              "  </div>\n",
              "  "
            ]
          },
          "metadata": {},
          "execution_count": 84
        }
      ],
      "source": [
        "fpp.drop(['arr_time'], axis=1, inplace=True) # Hence the arr_time column is splited we can drop the date column\n",
        "fpp.head(5)"
      ]
    },
    {
      "cell_type": "code",
      "source": [
        "# Specifically, it looks like there is a string value in the \"time_taken\" column that cannot be converted to a valid datetime object.\n",
        "# the error due to a formatting issue or a data entry error."
      ],
      "metadata": {
        "id": "tF5Oc_ZRXPH1"
      },
      "execution_count": 85,
      "outputs": []
    },
    {
      "cell_type": "code",
      "execution_count": 86,
      "metadata": {
        "id": "VErnyWH-X-ZK"
      },
      "outputs": [],
      "source": [
        "# time_taken column is a duration time column \n",
        "# splitting the time_taken column values into hours and minutes  \n",
        "duration=list(fpp['time_taken']) # it creates a list of all the values in the \"time_taken\" column\n",
        "for i in range(len(duration)):   # it ranges of len of duration to itirate each values of duration list\n",
        "    if len(duration[i].split(' '))==2: # it checks if the duration string has two parts separated by a space character. If the length of this list is 2, it means that the duration string has the expected format.\n",
        "        pass                           # if the duration has the expected format it pass the statement\n",
        "    else:                               # if the duration does not have the expected format \n",
        "        if 'h' in duration[i]: # Check if duration contains only h which means hour for each value of duration\n",
        "             duration[i]=duration[i] + ' 0m' # adding 0 minutes that gives only hour\n",
        "        else:\n",
        "             duration[i]='0h '+ duration[i] # if duration contains only minutes then it adds 0 hours that gives only minutes"
      ]
    },
    {
      "cell_type": "code",
      "source": [
        "# beacuse of adding the 0 values null values are formed"
      ],
      "metadata": {
        "id": "F9mhEHhBYSx3"
      },
      "execution_count": 87,
      "outputs": []
    },
    {
      "cell_type": "code",
      "execution_count": 88,
      "metadata": {
        "id": "oBOlM4jGq7ZG"
      },
      "outputs": [],
      "source": [
        "fpp['time_taken']=duration # assinging duration list to time_taken column to update the values of column"
      ]
    },
    {
      "cell_type": "code",
      "execution_count": 89,
      "metadata": {
        "id": "ZkIPWZTdrhaj"
      },
      "outputs": [],
      "source": [
        "def hour(x):  # the function splits the string at the space character and takes the first element value, excluding the last character \"h\" .\n",
        "    return x.split(' ')[0][0:-1] # it extract the hour value from the input string x and remove the \"h\" character \n",
        "\n",
        "def minutes(x):\n",
        "    return x.split(' ')[1][0:-1] # it extract the minute value from the input string x and remove the \"m\" character"
      ]
    },
    {
      "cell_type": "code",
      "execution_count": 90,
      "metadata": {
        "id": "U-gDlIEar0fO"
      },
      "outputs": [],
      "source": [
        "fpp['dur_hour']=fpp['time_taken'].apply(hour)  # it will applies the hour function to the time_taken column and assigns the resulting  hour values to a new column called dur_hour.\n",
        "fpp['dur_min']=fpp['time_taken'].apply(minutes)\n"
      ]
    },
    {
      "cell_type": "code",
      "execution_count": 91,
      "metadata": {
        "colab": {
          "base_uri": "https://localhost:8080/",
          "height": 206
        },
        "id": "4jpZyXyMsMo0",
        "outputId": "d294520e-3e10-4071-afa1-e7932df9b6f7"
      },
      "outputs": [
        {
          "output_type": "execute_result",
          "data": {
            "text/plain": [
              "     airline ch_code  num_code   from time_taken  \\\n",
              "0  Air India      AI       868  Delhi    02h 00m   \n",
              "1  Air India      AI       624  Delhi    02h 15m   \n",
              "2  Air India      AI       531  Delhi    24h 45m   \n",
              "3  Air India      AI       839  Delhi    26h 30m   \n",
              "4  Air India      AI       544  Delhi    06h 40m   \n",
              "\n",
              "                                                stop      to   price  day  \\\n",
              "0                                          non-stop   Mumbai  25,612   11   \n",
              "1                                          non-stop   Mumbai  25,612   11   \n",
              "2  1-stop\\n\\t\\t\\t\\t\\t\\t\\t\\t\\t\\t\\t\\t\\n\\t\\t\\t\\t\\t\\t...  Mumbai  42,220   11   \n",
              "3  1-stop\\n\\t\\t\\t\\t\\t\\t\\t\\t\\t\\t\\t\\t\\n\\t\\t\\t\\t\\t\\t...  Mumbai  44,450   11   \n",
              "4  1-stop\\n\\t\\t\\t\\t\\t\\t\\t\\t\\t\\t\\t\\t\\n\\t\\t\\t\\t\\t\\t...  Mumbai  46,690   11   \n",
              "\n",
              "   month  year  dep_hour  dep_min  arr_hour  arr_min dur_hour dur_min  \n",
              "0      2  2022        18        0        20        0       02      00  \n",
              "1      2  2022        19        0        21       15       02      15  \n",
              "2      2  2022        20        0        20       45       24      45  \n",
              "3      2  2022        21       25        23       55       26      30  \n",
              "4      2  2022        17       15        23       55       06      40  "
            ],
            "text/html": [
              "\n",
              "  <div id=\"df-25e3ed5d-78e4-42e8-9c55-95af5e367eeb\">\n",
              "    <div class=\"colab-df-container\">\n",
              "      <div>\n",
              "<style scoped>\n",
              "    .dataframe tbody tr th:only-of-type {\n",
              "        vertical-align: middle;\n",
              "    }\n",
              "\n",
              "    .dataframe tbody tr th {\n",
              "        vertical-align: top;\n",
              "    }\n",
              "\n",
              "    .dataframe thead th {\n",
              "        text-align: right;\n",
              "    }\n",
              "</style>\n",
              "<table border=\"1\" class=\"dataframe\">\n",
              "  <thead>\n",
              "    <tr style=\"text-align: right;\">\n",
              "      <th></th>\n",
              "      <th>airline</th>\n",
              "      <th>ch_code</th>\n",
              "      <th>num_code</th>\n",
              "      <th>from</th>\n",
              "      <th>time_taken</th>\n",
              "      <th>stop</th>\n",
              "      <th>to</th>\n",
              "      <th>price</th>\n",
              "      <th>day</th>\n",
              "      <th>month</th>\n",
              "      <th>year</th>\n",
              "      <th>dep_hour</th>\n",
              "      <th>dep_min</th>\n",
              "      <th>arr_hour</th>\n",
              "      <th>arr_min</th>\n",
              "      <th>dur_hour</th>\n",
              "      <th>dur_min</th>\n",
              "    </tr>\n",
              "  </thead>\n",
              "  <tbody>\n",
              "    <tr>\n",
              "      <th>0</th>\n",
              "      <td>Air India</td>\n",
              "      <td>AI</td>\n",
              "      <td>868</td>\n",
              "      <td>Delhi</td>\n",
              "      <td>02h 00m</td>\n",
              "      <td>non-stop</td>\n",
              "      <td>Mumbai</td>\n",
              "      <td>25,612</td>\n",
              "      <td>11</td>\n",
              "      <td>2</td>\n",
              "      <td>2022</td>\n",
              "      <td>18</td>\n",
              "      <td>0</td>\n",
              "      <td>20</td>\n",
              "      <td>0</td>\n",
              "      <td>02</td>\n",
              "      <td>00</td>\n",
              "    </tr>\n",
              "    <tr>\n",
              "      <th>1</th>\n",
              "      <td>Air India</td>\n",
              "      <td>AI</td>\n",
              "      <td>624</td>\n",
              "      <td>Delhi</td>\n",
              "      <td>02h 15m</td>\n",
              "      <td>non-stop</td>\n",
              "      <td>Mumbai</td>\n",
              "      <td>25,612</td>\n",
              "      <td>11</td>\n",
              "      <td>2</td>\n",
              "      <td>2022</td>\n",
              "      <td>19</td>\n",
              "      <td>0</td>\n",
              "      <td>21</td>\n",
              "      <td>15</td>\n",
              "      <td>02</td>\n",
              "      <td>15</td>\n",
              "    </tr>\n",
              "    <tr>\n",
              "      <th>2</th>\n",
              "      <td>Air India</td>\n",
              "      <td>AI</td>\n",
              "      <td>531</td>\n",
              "      <td>Delhi</td>\n",
              "      <td>24h 45m</td>\n",
              "      <td>1-stop\\n\\t\\t\\t\\t\\t\\t\\t\\t\\t\\t\\t\\t\\n\\t\\t\\t\\t\\t\\t...</td>\n",
              "      <td>Mumbai</td>\n",
              "      <td>42,220</td>\n",
              "      <td>11</td>\n",
              "      <td>2</td>\n",
              "      <td>2022</td>\n",
              "      <td>20</td>\n",
              "      <td>0</td>\n",
              "      <td>20</td>\n",
              "      <td>45</td>\n",
              "      <td>24</td>\n",
              "      <td>45</td>\n",
              "    </tr>\n",
              "    <tr>\n",
              "      <th>3</th>\n",
              "      <td>Air India</td>\n",
              "      <td>AI</td>\n",
              "      <td>839</td>\n",
              "      <td>Delhi</td>\n",
              "      <td>26h 30m</td>\n",
              "      <td>1-stop\\n\\t\\t\\t\\t\\t\\t\\t\\t\\t\\t\\t\\t\\n\\t\\t\\t\\t\\t\\t...</td>\n",
              "      <td>Mumbai</td>\n",
              "      <td>44,450</td>\n",
              "      <td>11</td>\n",
              "      <td>2</td>\n",
              "      <td>2022</td>\n",
              "      <td>21</td>\n",
              "      <td>25</td>\n",
              "      <td>23</td>\n",
              "      <td>55</td>\n",
              "      <td>26</td>\n",
              "      <td>30</td>\n",
              "    </tr>\n",
              "    <tr>\n",
              "      <th>4</th>\n",
              "      <td>Air India</td>\n",
              "      <td>AI</td>\n",
              "      <td>544</td>\n",
              "      <td>Delhi</td>\n",
              "      <td>06h 40m</td>\n",
              "      <td>1-stop\\n\\t\\t\\t\\t\\t\\t\\t\\t\\t\\t\\t\\t\\n\\t\\t\\t\\t\\t\\t...</td>\n",
              "      <td>Mumbai</td>\n",
              "      <td>46,690</td>\n",
              "      <td>11</td>\n",
              "      <td>2</td>\n",
              "      <td>2022</td>\n",
              "      <td>17</td>\n",
              "      <td>15</td>\n",
              "      <td>23</td>\n",
              "      <td>55</td>\n",
              "      <td>06</td>\n",
              "      <td>40</td>\n",
              "    </tr>\n",
              "  </tbody>\n",
              "</table>\n",
              "</div>\n",
              "      <button class=\"colab-df-convert\" onclick=\"convertToInteractive('df-25e3ed5d-78e4-42e8-9c55-95af5e367eeb')\"\n",
              "              title=\"Convert this dataframe to an interactive table.\"\n",
              "              style=\"display:none;\">\n",
              "        \n",
              "  <svg xmlns=\"http://www.w3.org/2000/svg\" height=\"24px\"viewBox=\"0 0 24 24\"\n",
              "       width=\"24px\">\n",
              "    <path d=\"M0 0h24v24H0V0z\" fill=\"none\"/>\n",
              "    <path d=\"M18.56 5.44l.94 2.06.94-2.06 2.06-.94-2.06-.94-.94-2.06-.94 2.06-2.06.94zm-11 1L8.5 8.5l.94-2.06 2.06-.94-2.06-.94L8.5 2.5l-.94 2.06-2.06.94zm10 10l.94 2.06.94-2.06 2.06-.94-2.06-.94-.94-2.06-.94 2.06-2.06.94z\"/><path d=\"M17.41 7.96l-1.37-1.37c-.4-.4-.92-.59-1.43-.59-.52 0-1.04.2-1.43.59L10.3 9.45l-7.72 7.72c-.78.78-.78 2.05 0 2.83L4 21.41c.39.39.9.59 1.41.59.51 0 1.02-.2 1.41-.59l7.78-7.78 2.81-2.81c.8-.78.8-2.07 0-2.86zM5.41 20L4 18.59l7.72-7.72 1.47 1.35L5.41 20z\"/>\n",
              "  </svg>\n",
              "      </button>\n",
              "      \n",
              "  <style>\n",
              "    .colab-df-container {\n",
              "      display:flex;\n",
              "      flex-wrap:wrap;\n",
              "      gap: 12px;\n",
              "    }\n",
              "\n",
              "    .colab-df-convert {\n",
              "      background-color: #E8F0FE;\n",
              "      border: none;\n",
              "      border-radius: 50%;\n",
              "      cursor: pointer;\n",
              "      display: none;\n",
              "      fill: #1967D2;\n",
              "      height: 32px;\n",
              "      padding: 0 0 0 0;\n",
              "      width: 32px;\n",
              "    }\n",
              "\n",
              "    .colab-df-convert:hover {\n",
              "      background-color: #E2EBFA;\n",
              "      box-shadow: 0px 1px 2px rgba(60, 64, 67, 0.3), 0px 1px 3px 1px rgba(60, 64, 67, 0.15);\n",
              "      fill: #174EA6;\n",
              "    }\n",
              "\n",
              "    [theme=dark] .colab-df-convert {\n",
              "      background-color: #3B4455;\n",
              "      fill: #D2E3FC;\n",
              "    }\n",
              "\n",
              "    [theme=dark] .colab-df-convert:hover {\n",
              "      background-color: #434B5C;\n",
              "      box-shadow: 0px 1px 3px 1px rgba(0, 0, 0, 0.15);\n",
              "      filter: drop-shadow(0px 1px 2px rgba(0, 0, 0, 0.3));\n",
              "      fill: #FFFFFF;\n",
              "    }\n",
              "  </style>\n",
              "\n",
              "      <script>\n",
              "        const buttonEl =\n",
              "          document.querySelector('#df-25e3ed5d-78e4-42e8-9c55-95af5e367eeb button.colab-df-convert');\n",
              "        buttonEl.style.display =\n",
              "          google.colab.kernel.accessAllowed ? 'block' : 'none';\n",
              "\n",
              "        async function convertToInteractive(key) {\n",
              "          const element = document.querySelector('#df-25e3ed5d-78e4-42e8-9c55-95af5e367eeb');\n",
              "          const dataTable =\n",
              "            await google.colab.kernel.invokeFunction('convertToInteractive',\n",
              "                                                     [key], {});\n",
              "          if (!dataTable) return;\n",
              "\n",
              "          const docLinkHtml = 'Like what you see? Visit the ' +\n",
              "            '<a target=\"_blank\" href=https://colab.research.google.com/notebooks/data_table.ipynb>data table notebook</a>'\n",
              "            + ' to learn more about interactive tables.';\n",
              "          element.innerHTML = '';\n",
              "          dataTable['output_type'] = 'display_data';\n",
              "          await google.colab.output.renderOutput(dataTable, element);\n",
              "          const docLink = document.createElement('div');\n",
              "          docLink.innerHTML = docLinkHtml;\n",
              "          element.appendChild(docLink);\n",
              "        }\n",
              "      </script>\n",
              "    </div>\n",
              "  </div>\n",
              "  "
            ]
          },
          "metadata": {},
          "execution_count": 91
        }
      ],
      "source": [
        "fpp.head(5)"
      ]
    },
    {
      "cell_type": "code",
      "execution_count": 92,
      "metadata": {
        "colab": {
          "base_uri": "https://localhost:8080/",
          "height": 206
        },
        "id": "JDilfgTCsTK4",
        "outputId": "68b50f81-4531-43f9-85ba-b3e269f6d76f"
      },
      "outputs": [
        {
          "output_type": "execute_result",
          "data": {
            "text/plain": [
              "     airline ch_code  num_code   from  \\\n",
              "0  Air India      AI       868  Delhi   \n",
              "1  Air India      AI       624  Delhi   \n",
              "2  Air India      AI       531  Delhi   \n",
              "3  Air India      AI       839  Delhi   \n",
              "4  Air India      AI       544  Delhi   \n",
              "\n",
              "                                                stop      to   price  day  \\\n",
              "0                                          non-stop   Mumbai  25,612   11   \n",
              "1                                          non-stop   Mumbai  25,612   11   \n",
              "2  1-stop\\n\\t\\t\\t\\t\\t\\t\\t\\t\\t\\t\\t\\t\\n\\t\\t\\t\\t\\t\\t...  Mumbai  42,220   11   \n",
              "3  1-stop\\n\\t\\t\\t\\t\\t\\t\\t\\t\\t\\t\\t\\t\\n\\t\\t\\t\\t\\t\\t...  Mumbai  44,450   11   \n",
              "4  1-stop\\n\\t\\t\\t\\t\\t\\t\\t\\t\\t\\t\\t\\t\\n\\t\\t\\t\\t\\t\\t...  Mumbai  46,690   11   \n",
              "\n",
              "   month  year  dep_hour  dep_min  arr_hour  arr_min dur_hour dur_min  \n",
              "0      2  2022        18        0        20        0       02      00  \n",
              "1      2  2022        19        0        21       15       02      15  \n",
              "2      2  2022        20        0        20       45       24      45  \n",
              "3      2  2022        21       25        23       55       26      30  \n",
              "4      2  2022        17       15        23       55       06      40  "
            ],
            "text/html": [
              "\n",
              "  <div id=\"df-9b67dab3-3bf3-4c81-a84a-bd249a5180a7\">\n",
              "    <div class=\"colab-df-container\">\n",
              "      <div>\n",
              "<style scoped>\n",
              "    .dataframe tbody tr th:only-of-type {\n",
              "        vertical-align: middle;\n",
              "    }\n",
              "\n",
              "    .dataframe tbody tr th {\n",
              "        vertical-align: top;\n",
              "    }\n",
              "\n",
              "    .dataframe thead th {\n",
              "        text-align: right;\n",
              "    }\n",
              "</style>\n",
              "<table border=\"1\" class=\"dataframe\">\n",
              "  <thead>\n",
              "    <tr style=\"text-align: right;\">\n",
              "      <th></th>\n",
              "      <th>airline</th>\n",
              "      <th>ch_code</th>\n",
              "      <th>num_code</th>\n",
              "      <th>from</th>\n",
              "      <th>stop</th>\n",
              "      <th>to</th>\n",
              "      <th>price</th>\n",
              "      <th>day</th>\n",
              "      <th>month</th>\n",
              "      <th>year</th>\n",
              "      <th>dep_hour</th>\n",
              "      <th>dep_min</th>\n",
              "      <th>arr_hour</th>\n",
              "      <th>arr_min</th>\n",
              "      <th>dur_hour</th>\n",
              "      <th>dur_min</th>\n",
              "    </tr>\n",
              "  </thead>\n",
              "  <tbody>\n",
              "    <tr>\n",
              "      <th>0</th>\n",
              "      <td>Air India</td>\n",
              "      <td>AI</td>\n",
              "      <td>868</td>\n",
              "      <td>Delhi</td>\n",
              "      <td>non-stop</td>\n",
              "      <td>Mumbai</td>\n",
              "      <td>25,612</td>\n",
              "      <td>11</td>\n",
              "      <td>2</td>\n",
              "      <td>2022</td>\n",
              "      <td>18</td>\n",
              "      <td>0</td>\n",
              "      <td>20</td>\n",
              "      <td>0</td>\n",
              "      <td>02</td>\n",
              "      <td>00</td>\n",
              "    </tr>\n",
              "    <tr>\n",
              "      <th>1</th>\n",
              "      <td>Air India</td>\n",
              "      <td>AI</td>\n",
              "      <td>624</td>\n",
              "      <td>Delhi</td>\n",
              "      <td>non-stop</td>\n",
              "      <td>Mumbai</td>\n",
              "      <td>25,612</td>\n",
              "      <td>11</td>\n",
              "      <td>2</td>\n",
              "      <td>2022</td>\n",
              "      <td>19</td>\n",
              "      <td>0</td>\n",
              "      <td>21</td>\n",
              "      <td>15</td>\n",
              "      <td>02</td>\n",
              "      <td>15</td>\n",
              "    </tr>\n",
              "    <tr>\n",
              "      <th>2</th>\n",
              "      <td>Air India</td>\n",
              "      <td>AI</td>\n",
              "      <td>531</td>\n",
              "      <td>Delhi</td>\n",
              "      <td>1-stop\\n\\t\\t\\t\\t\\t\\t\\t\\t\\t\\t\\t\\t\\n\\t\\t\\t\\t\\t\\t...</td>\n",
              "      <td>Mumbai</td>\n",
              "      <td>42,220</td>\n",
              "      <td>11</td>\n",
              "      <td>2</td>\n",
              "      <td>2022</td>\n",
              "      <td>20</td>\n",
              "      <td>0</td>\n",
              "      <td>20</td>\n",
              "      <td>45</td>\n",
              "      <td>24</td>\n",
              "      <td>45</td>\n",
              "    </tr>\n",
              "    <tr>\n",
              "      <th>3</th>\n",
              "      <td>Air India</td>\n",
              "      <td>AI</td>\n",
              "      <td>839</td>\n",
              "      <td>Delhi</td>\n",
              "      <td>1-stop\\n\\t\\t\\t\\t\\t\\t\\t\\t\\t\\t\\t\\t\\n\\t\\t\\t\\t\\t\\t...</td>\n",
              "      <td>Mumbai</td>\n",
              "      <td>44,450</td>\n",
              "      <td>11</td>\n",
              "      <td>2</td>\n",
              "      <td>2022</td>\n",
              "      <td>21</td>\n",
              "      <td>25</td>\n",
              "      <td>23</td>\n",
              "      <td>55</td>\n",
              "      <td>26</td>\n",
              "      <td>30</td>\n",
              "    </tr>\n",
              "    <tr>\n",
              "      <th>4</th>\n",
              "      <td>Air India</td>\n",
              "      <td>AI</td>\n",
              "      <td>544</td>\n",
              "      <td>Delhi</td>\n",
              "      <td>1-stop\\n\\t\\t\\t\\t\\t\\t\\t\\t\\t\\t\\t\\t\\n\\t\\t\\t\\t\\t\\t...</td>\n",
              "      <td>Mumbai</td>\n",
              "      <td>46,690</td>\n",
              "      <td>11</td>\n",
              "      <td>2</td>\n",
              "      <td>2022</td>\n",
              "      <td>17</td>\n",
              "      <td>15</td>\n",
              "      <td>23</td>\n",
              "      <td>55</td>\n",
              "      <td>06</td>\n",
              "      <td>40</td>\n",
              "    </tr>\n",
              "  </tbody>\n",
              "</table>\n",
              "</div>\n",
              "      <button class=\"colab-df-convert\" onclick=\"convertToInteractive('df-9b67dab3-3bf3-4c81-a84a-bd249a5180a7')\"\n",
              "              title=\"Convert this dataframe to an interactive table.\"\n",
              "              style=\"display:none;\">\n",
              "        \n",
              "  <svg xmlns=\"http://www.w3.org/2000/svg\" height=\"24px\"viewBox=\"0 0 24 24\"\n",
              "       width=\"24px\">\n",
              "    <path d=\"M0 0h24v24H0V0z\" fill=\"none\"/>\n",
              "    <path d=\"M18.56 5.44l.94 2.06.94-2.06 2.06-.94-2.06-.94-.94-2.06-.94 2.06-2.06.94zm-11 1L8.5 8.5l.94-2.06 2.06-.94-2.06-.94L8.5 2.5l-.94 2.06-2.06.94zm10 10l.94 2.06.94-2.06 2.06-.94-2.06-.94-.94-2.06-.94 2.06-2.06.94z\"/><path d=\"M17.41 7.96l-1.37-1.37c-.4-.4-.92-.59-1.43-.59-.52 0-1.04.2-1.43.59L10.3 9.45l-7.72 7.72c-.78.78-.78 2.05 0 2.83L4 21.41c.39.39.9.59 1.41.59.51 0 1.02-.2 1.41-.59l7.78-7.78 2.81-2.81c.8-.78.8-2.07 0-2.86zM5.41 20L4 18.59l7.72-7.72 1.47 1.35L5.41 20z\"/>\n",
              "  </svg>\n",
              "      </button>\n",
              "      \n",
              "  <style>\n",
              "    .colab-df-container {\n",
              "      display:flex;\n",
              "      flex-wrap:wrap;\n",
              "      gap: 12px;\n",
              "    }\n",
              "\n",
              "    .colab-df-convert {\n",
              "      background-color: #E8F0FE;\n",
              "      border: none;\n",
              "      border-radius: 50%;\n",
              "      cursor: pointer;\n",
              "      display: none;\n",
              "      fill: #1967D2;\n",
              "      height: 32px;\n",
              "      padding: 0 0 0 0;\n",
              "      width: 32px;\n",
              "    }\n",
              "\n",
              "    .colab-df-convert:hover {\n",
              "      background-color: #E2EBFA;\n",
              "      box-shadow: 0px 1px 2px rgba(60, 64, 67, 0.3), 0px 1px 3px 1px rgba(60, 64, 67, 0.15);\n",
              "      fill: #174EA6;\n",
              "    }\n",
              "\n",
              "    [theme=dark] .colab-df-convert {\n",
              "      background-color: #3B4455;\n",
              "      fill: #D2E3FC;\n",
              "    }\n",
              "\n",
              "    [theme=dark] .colab-df-convert:hover {\n",
              "      background-color: #434B5C;\n",
              "      box-shadow: 0px 1px 3px 1px rgba(0, 0, 0, 0.15);\n",
              "      filter: drop-shadow(0px 1px 2px rgba(0, 0, 0, 0.3));\n",
              "      fill: #FFFFFF;\n",
              "    }\n",
              "  </style>\n",
              "\n",
              "      <script>\n",
              "        const buttonEl =\n",
              "          document.querySelector('#df-9b67dab3-3bf3-4c81-a84a-bd249a5180a7 button.colab-df-convert');\n",
              "        buttonEl.style.display =\n",
              "          google.colab.kernel.accessAllowed ? 'block' : 'none';\n",
              "\n",
              "        async function convertToInteractive(key) {\n",
              "          const element = document.querySelector('#df-9b67dab3-3bf3-4c81-a84a-bd249a5180a7');\n",
              "          const dataTable =\n",
              "            await google.colab.kernel.invokeFunction('convertToInteractive',\n",
              "                                                     [key], {});\n",
              "          if (!dataTable) return;\n",
              "\n",
              "          const docLinkHtml = 'Like what you see? Visit the ' +\n",
              "            '<a target=\"_blank\" href=https://colab.research.google.com/notebooks/data_table.ipynb>data table notebook</a>'\n",
              "            + ' to learn more about interactive tables.';\n",
              "          element.innerHTML = '';\n",
              "          dataTable['output_type'] = 'display_data';\n",
              "          await google.colab.output.renderOutput(dataTable, element);\n",
              "          const docLink = document.createElement('div');\n",
              "          docLink.innerHTML = docLinkHtml;\n",
              "          element.appendChild(docLink);\n",
              "        }\n",
              "      </script>\n",
              "    </div>\n",
              "  </div>\n",
              "  "
            ]
          },
          "metadata": {},
          "execution_count": 92
        }
      ],
      "source": [
        "fpp.drop(['time_taken'], axis=1, inplace=True) # Hence the time_taken column is splited we can drop the date column\n",
        "fpp.head(5)"
      ]
    },
    {
      "cell_type": "code",
      "source": [
        "\n"
      ],
      "metadata": {
        "id": "0pyy6PJ8SWS-"
      },
      "execution_count": 92,
      "outputs": []
    },
    {
      "cell_type": "code",
      "execution_count": 93,
      "metadata": {
        "id": "aQtzVk8svVeF"
      },
      "outputs": [],
      "source": [
        "# because of spliting of string with space character there are some empty strings are formed and will cause an error during convert into int\n",
        "# there are empty strings ('') in either the 'dur_hour' or 'dur_min', so need to fix this before converting it to int or float values \n",
        "# Filter out the rows with empty strings, this will remove any rows with empty strings in either column before converting to float\n",
        "fpp = fpp[fpp['dur_hour'] != '']\n",
        "fpp = fpp[fpp['dur_min'] != '']\n",
        "fpp['dur_hour'] = fpp['dur_hour'].astype(float)\n",
        "fpp['dur_min'] = fpp['dur_min'].astype(float)\n",
        "\n",
        "# Replace the empty strings with NaN (Not a Number) using the numpy.nan value, which can be converted to a floating-point number without issue\n",
        "#This will replace the empty strings with NaN, which can be handled by functions that work with floating-point numbers. \n",
        "fpp['dur_hour'] = fpp['dur_hour'].replace('', np.nan).astype(float)\n",
        "fpp['dur_min'] = fpp['dur_min'].replace('', np.nan).astype(float)"
      ]
    },
    {
      "cell_type": "code",
      "execution_count": 94,
      "metadata": {
        "id": "8xF4uniP3dh5"
      },
      "outputs": [],
      "source": [
        "# Round the floating-point values to the nearest integer using the round() function before converting them to integers\n",
        "fpp['dur_hour'] = round(fpp['dur_hour']).astype(int)\n",
        "fpp['dur_min'] = round(fpp['dur_min']).astype(int)\n",
        "\n"
      ]
    },
    {
      "cell_type": "code",
      "execution_count": 95,
      "metadata": {
        "id": "jv2TsZER6uoo"
      },
      "outputs": [],
      "source": [
        "fpp['price'] = fpp['price'].str.replace(',', '').astype(int) # it removes the ',' which is prsent in the price values and convert it into int data type"
      ]
    },
    {
      "cell_type": "code",
      "execution_count": 96,
      "metadata": {
        "id": "CiuxozJ96-qE",
        "colab": {
          "base_uri": "https://localhost:8080/"
        },
        "outputId": "b83a7577-bbd3-4330-8901-cc0d237081f4"
      },
      "outputs": [
        {
          "output_type": "execute_result",
          "data": {
            "text/plain": [
              "airline     object\n",
              "ch_code     object\n",
              "num_code     int64\n",
              "from        object\n",
              "stop        object\n",
              "to          object\n",
              "price        int64\n",
              "day          int64\n",
              "month        int64\n",
              "year         int64\n",
              "dep_hour     int64\n",
              "dep_min      int64\n",
              "arr_hour     int64\n",
              "arr_min      int64\n",
              "dur_hour     int64\n",
              "dur_min      int64\n",
              "dtype: object"
            ]
          },
          "metadata": {},
          "execution_count": 96
        }
      ],
      "source": [
        "fpp.dtypes"
      ]
    },
    {
      "cell_type": "code",
      "execution_count": 97,
      "metadata": {
        "id": "cpRPSJ0r3lU6",
        "colab": {
          "base_uri": "https://localhost:8080/"
        },
        "outputId": "bdf102a9-6fca-4ba1-8cc3-6832658d4f13"
      },
      "outputs": [
        {
          "output_type": "execute_result",
          "data": {
            "text/plain": [
              "airline     0\n",
              "ch_code     0\n",
              "num_code    0\n",
              "from        0\n",
              "stop        0\n",
              "to          0\n",
              "price       0\n",
              "day         0\n",
              "month       0\n",
              "year        0\n",
              "dep_hour    0\n",
              "dep_min     0\n",
              "arr_hour    0\n",
              "arr_min     0\n",
              "dur_hour    0\n",
              "dur_min     0\n",
              "dtype: int64"
            ]
          },
          "metadata": {},
          "execution_count": 97
        }
      ],
      "source": [
        "fpp.isna().sum()"
      ]
    },
    {
      "cell_type": "code",
      "execution_count": 98,
      "metadata": {
        "id": "uBTkpJ-i80pl",
        "colab": {
          "base_uri": "https://localhost:8080/"
        },
        "outputId": "15b2a727-8523-477a-c1a4-bc89b378bc56"
      },
      "outputs": [
        {
          "output_type": "execute_result",
          "data": {
            "text/plain": [
              "0"
            ]
          },
          "metadata": {},
          "execution_count": 98
        }
      ],
      "source": [
        "fpp.duplicated().sum()"
      ]
    },
    {
      "cell_type": "code",
      "execution_count": 99,
      "metadata": {
        "id": "zdN67ow-3y1V",
        "colab": {
          "base_uri": "https://localhost:8080/"
        },
        "outputId": "02f2c5cb-5983-43d6-8ecb-cb76a5d7faa8"
      },
      "outputs": [
        {
          "output_type": "execute_result",
          "data": {
            "text/plain": [
              "(300255, 16)"
            ]
          },
          "metadata": {},
          "execution_count": 99
        }
      ],
      "source": [
        "fpp.shape"
      ]
    },
    {
      "cell_type": "code",
      "execution_count": 100,
      "metadata": {
        "id": "RBe8kExv8xYu",
        "colab": {
          "base_uri": "https://localhost:8080/"
        },
        "outputId": "20e42062-9e2c-4bbb-ab0a-f6ac9a447361"
      },
      "outputs": [
        {
          "output_type": "stream",
          "name": "stdout",
          "text": [
            "['airline', 'ch_code', 'from', 'stop', 'to']\n",
            " \n",
            "['num_code', 'price', 'day', 'month', 'year', 'dep_hour', 'dep_min', 'arr_hour', 'arr_min', 'dur_hour', 'dur_min']\n"
          ]
        }
      ],
      "source": [
        "# seperating the categorical columnas and numerical columns\n",
        "\n",
        "fpp_cat_colms = [column for column in fpp.columns if fpp[column].dtype=='object']\n",
        "print(fpp_cat_colms)\n",
        "\n",
        "print(' ')\n",
        "\n",
        "fpp_num_colms = [column for column in fpp.columns if fpp[column].dtype!='object']\n",
        "print(fpp_num_colms)"
      ]
    },
    {
      "cell_type": "code",
      "execution_count": 101,
      "metadata": {
        "id": "6YZ32fn7D0PY",
        "colab": {
          "base_uri": "https://localhost:8080/",
          "height": 206
        },
        "outputId": "0bda5e5b-a55c-4eec-d2bd-39ccc7c8fdf6"
      },
      "outputs": [
        {
          "output_type": "execute_result",
          "data": {
            "text/plain": [
              "     airline ch_code  num_code   from  \\\n",
              "0  Air India      AI       868  Delhi   \n",
              "1  Air India      AI       624  Delhi   \n",
              "2  Air India      AI       531  Delhi   \n",
              "3  Air India      AI       839  Delhi   \n",
              "4  Air India      AI       544  Delhi   \n",
              "\n",
              "                                                stop      to  price  day  \\\n",
              "0                                          non-stop   Mumbai  25612   11   \n",
              "1                                          non-stop   Mumbai  25612   11   \n",
              "2  1-stop\\n\\t\\t\\t\\t\\t\\t\\t\\t\\t\\t\\t\\t\\n\\t\\t\\t\\t\\t\\t...  Mumbai  42220   11   \n",
              "3  1-stop\\n\\t\\t\\t\\t\\t\\t\\t\\t\\t\\t\\t\\t\\n\\t\\t\\t\\t\\t\\t...  Mumbai  44450   11   \n",
              "4  1-stop\\n\\t\\t\\t\\t\\t\\t\\t\\t\\t\\t\\t\\t\\n\\t\\t\\t\\t\\t\\t...  Mumbai  46690   11   \n",
              "\n",
              "   month  year  dep_hour  dep_min  arr_hour  arr_min  dur_hour  dur_min  \n",
              "0      2  2022        18        0        20        0         2        0  \n",
              "1      2  2022        19        0        21       15         2       15  \n",
              "2      2  2022        20        0        20       45        24       45  \n",
              "3      2  2022        21       25        23       55        26       30  \n",
              "4      2  2022        17       15        23       55         6       40  "
            ],
            "text/html": [
              "\n",
              "  <div id=\"df-66110d20-b4d7-422e-acab-8e4ff97e6ad8\">\n",
              "    <div class=\"colab-df-container\">\n",
              "      <div>\n",
              "<style scoped>\n",
              "    .dataframe tbody tr th:only-of-type {\n",
              "        vertical-align: middle;\n",
              "    }\n",
              "\n",
              "    .dataframe tbody tr th {\n",
              "        vertical-align: top;\n",
              "    }\n",
              "\n",
              "    .dataframe thead th {\n",
              "        text-align: right;\n",
              "    }\n",
              "</style>\n",
              "<table border=\"1\" class=\"dataframe\">\n",
              "  <thead>\n",
              "    <tr style=\"text-align: right;\">\n",
              "      <th></th>\n",
              "      <th>airline</th>\n",
              "      <th>ch_code</th>\n",
              "      <th>num_code</th>\n",
              "      <th>from</th>\n",
              "      <th>stop</th>\n",
              "      <th>to</th>\n",
              "      <th>price</th>\n",
              "      <th>day</th>\n",
              "      <th>month</th>\n",
              "      <th>year</th>\n",
              "      <th>dep_hour</th>\n",
              "      <th>dep_min</th>\n",
              "      <th>arr_hour</th>\n",
              "      <th>arr_min</th>\n",
              "      <th>dur_hour</th>\n",
              "      <th>dur_min</th>\n",
              "    </tr>\n",
              "  </thead>\n",
              "  <tbody>\n",
              "    <tr>\n",
              "      <th>0</th>\n",
              "      <td>Air India</td>\n",
              "      <td>AI</td>\n",
              "      <td>868</td>\n",
              "      <td>Delhi</td>\n",
              "      <td>non-stop</td>\n",
              "      <td>Mumbai</td>\n",
              "      <td>25612</td>\n",
              "      <td>11</td>\n",
              "      <td>2</td>\n",
              "      <td>2022</td>\n",
              "      <td>18</td>\n",
              "      <td>0</td>\n",
              "      <td>20</td>\n",
              "      <td>0</td>\n",
              "      <td>2</td>\n",
              "      <td>0</td>\n",
              "    </tr>\n",
              "    <tr>\n",
              "      <th>1</th>\n",
              "      <td>Air India</td>\n",
              "      <td>AI</td>\n",
              "      <td>624</td>\n",
              "      <td>Delhi</td>\n",
              "      <td>non-stop</td>\n",
              "      <td>Mumbai</td>\n",
              "      <td>25612</td>\n",
              "      <td>11</td>\n",
              "      <td>2</td>\n",
              "      <td>2022</td>\n",
              "      <td>19</td>\n",
              "      <td>0</td>\n",
              "      <td>21</td>\n",
              "      <td>15</td>\n",
              "      <td>2</td>\n",
              "      <td>15</td>\n",
              "    </tr>\n",
              "    <tr>\n",
              "      <th>2</th>\n",
              "      <td>Air India</td>\n",
              "      <td>AI</td>\n",
              "      <td>531</td>\n",
              "      <td>Delhi</td>\n",
              "      <td>1-stop\\n\\t\\t\\t\\t\\t\\t\\t\\t\\t\\t\\t\\t\\n\\t\\t\\t\\t\\t\\t...</td>\n",
              "      <td>Mumbai</td>\n",
              "      <td>42220</td>\n",
              "      <td>11</td>\n",
              "      <td>2</td>\n",
              "      <td>2022</td>\n",
              "      <td>20</td>\n",
              "      <td>0</td>\n",
              "      <td>20</td>\n",
              "      <td>45</td>\n",
              "      <td>24</td>\n",
              "      <td>45</td>\n",
              "    </tr>\n",
              "    <tr>\n",
              "      <th>3</th>\n",
              "      <td>Air India</td>\n",
              "      <td>AI</td>\n",
              "      <td>839</td>\n",
              "      <td>Delhi</td>\n",
              "      <td>1-stop\\n\\t\\t\\t\\t\\t\\t\\t\\t\\t\\t\\t\\t\\n\\t\\t\\t\\t\\t\\t...</td>\n",
              "      <td>Mumbai</td>\n",
              "      <td>44450</td>\n",
              "      <td>11</td>\n",
              "      <td>2</td>\n",
              "      <td>2022</td>\n",
              "      <td>21</td>\n",
              "      <td>25</td>\n",
              "      <td>23</td>\n",
              "      <td>55</td>\n",
              "      <td>26</td>\n",
              "      <td>30</td>\n",
              "    </tr>\n",
              "    <tr>\n",
              "      <th>4</th>\n",
              "      <td>Air India</td>\n",
              "      <td>AI</td>\n",
              "      <td>544</td>\n",
              "      <td>Delhi</td>\n",
              "      <td>1-stop\\n\\t\\t\\t\\t\\t\\t\\t\\t\\t\\t\\t\\t\\n\\t\\t\\t\\t\\t\\t...</td>\n",
              "      <td>Mumbai</td>\n",
              "      <td>46690</td>\n",
              "      <td>11</td>\n",
              "      <td>2</td>\n",
              "      <td>2022</td>\n",
              "      <td>17</td>\n",
              "      <td>15</td>\n",
              "      <td>23</td>\n",
              "      <td>55</td>\n",
              "      <td>6</td>\n",
              "      <td>40</td>\n",
              "    </tr>\n",
              "  </tbody>\n",
              "</table>\n",
              "</div>\n",
              "      <button class=\"colab-df-convert\" onclick=\"convertToInteractive('df-66110d20-b4d7-422e-acab-8e4ff97e6ad8')\"\n",
              "              title=\"Convert this dataframe to an interactive table.\"\n",
              "              style=\"display:none;\">\n",
              "        \n",
              "  <svg xmlns=\"http://www.w3.org/2000/svg\" height=\"24px\"viewBox=\"0 0 24 24\"\n",
              "       width=\"24px\">\n",
              "    <path d=\"M0 0h24v24H0V0z\" fill=\"none\"/>\n",
              "    <path d=\"M18.56 5.44l.94 2.06.94-2.06 2.06-.94-2.06-.94-.94-2.06-.94 2.06-2.06.94zm-11 1L8.5 8.5l.94-2.06 2.06-.94-2.06-.94L8.5 2.5l-.94 2.06-2.06.94zm10 10l.94 2.06.94-2.06 2.06-.94-2.06-.94-.94-2.06-.94 2.06-2.06.94z\"/><path d=\"M17.41 7.96l-1.37-1.37c-.4-.4-.92-.59-1.43-.59-.52 0-1.04.2-1.43.59L10.3 9.45l-7.72 7.72c-.78.78-.78 2.05 0 2.83L4 21.41c.39.39.9.59 1.41.59.51 0 1.02-.2 1.41-.59l7.78-7.78 2.81-2.81c.8-.78.8-2.07 0-2.86zM5.41 20L4 18.59l7.72-7.72 1.47 1.35L5.41 20z\"/>\n",
              "  </svg>\n",
              "      </button>\n",
              "      \n",
              "  <style>\n",
              "    .colab-df-container {\n",
              "      display:flex;\n",
              "      flex-wrap:wrap;\n",
              "      gap: 12px;\n",
              "    }\n",
              "\n",
              "    .colab-df-convert {\n",
              "      background-color: #E8F0FE;\n",
              "      border: none;\n",
              "      border-radius: 50%;\n",
              "      cursor: pointer;\n",
              "      display: none;\n",
              "      fill: #1967D2;\n",
              "      height: 32px;\n",
              "      padding: 0 0 0 0;\n",
              "      width: 32px;\n",
              "    }\n",
              "\n",
              "    .colab-df-convert:hover {\n",
              "      background-color: #E2EBFA;\n",
              "      box-shadow: 0px 1px 2px rgba(60, 64, 67, 0.3), 0px 1px 3px 1px rgba(60, 64, 67, 0.15);\n",
              "      fill: #174EA6;\n",
              "    }\n",
              "\n",
              "    [theme=dark] .colab-df-convert {\n",
              "      background-color: #3B4455;\n",
              "      fill: #D2E3FC;\n",
              "    }\n",
              "\n",
              "    [theme=dark] .colab-df-convert:hover {\n",
              "      background-color: #434B5C;\n",
              "      box-shadow: 0px 1px 3px 1px rgba(0, 0, 0, 0.15);\n",
              "      filter: drop-shadow(0px 1px 2px rgba(0, 0, 0, 0.3));\n",
              "      fill: #FFFFFF;\n",
              "    }\n",
              "  </style>\n",
              "\n",
              "      <script>\n",
              "        const buttonEl =\n",
              "          document.querySelector('#df-66110d20-b4d7-422e-acab-8e4ff97e6ad8 button.colab-df-convert');\n",
              "        buttonEl.style.display =\n",
              "          google.colab.kernel.accessAllowed ? 'block' : 'none';\n",
              "\n",
              "        async function convertToInteractive(key) {\n",
              "          const element = document.querySelector('#df-66110d20-b4d7-422e-acab-8e4ff97e6ad8');\n",
              "          const dataTable =\n",
              "            await google.colab.kernel.invokeFunction('convertToInteractive',\n",
              "                                                     [key], {});\n",
              "          if (!dataTable) return;\n",
              "\n",
              "          const docLinkHtml = 'Like what you see? Visit the ' +\n",
              "            '<a target=\"_blank\" href=https://colab.research.google.com/notebooks/data_table.ipynb>data table notebook</a>'\n",
              "            + ' to learn more about interactive tables.';\n",
              "          element.innerHTML = '';\n",
              "          dataTable['output_type'] = 'display_data';\n",
              "          await google.colab.output.renderOutput(dataTable, element);\n",
              "          const docLink = document.createElement('div');\n",
              "          docLink.innerHTML = docLinkHtml;\n",
              "          element.appendChild(docLink);\n",
              "        }\n",
              "      </script>\n",
              "    </div>\n",
              "  </div>\n",
              "  "
            ]
          },
          "metadata": {},
          "execution_count": 101
        }
      ],
      "source": [
        "fpp.head()"
      ]
    },
    {
      "cell_type": "code",
      "execution_count": 102,
      "metadata": {
        "id": "p9snLe-6F1Pg",
        "colab": {
          "base_uri": "https://localhost:8080/",
          "height": 351
        },
        "outputId": "670ea9ef-885e-4ea6-b6fa-3e830b964966"
      },
      "outputs": [
        {
          "output_type": "execute_result",
          "data": {
            "text/plain": [
              "   num_code                                               stop  price  day  \\\n",
              "0       868                                          non-stop   25612   11   \n",
              "1       624                                          non-stop   25612   11   \n",
              "2       531  1-stop\\n\\t\\t\\t\\t\\t\\t\\t\\t\\t\\t\\t\\t\\n\\t\\t\\t\\t\\t\\t...  42220   11   \n",
              "3       839  1-stop\\n\\t\\t\\t\\t\\t\\t\\t\\t\\t\\t\\t\\t\\n\\t\\t\\t\\t\\t\\t...  44450   11   \n",
              "4       544  1-stop\\n\\t\\t\\t\\t\\t\\t\\t\\t\\t\\t\\t\\t\\n\\t\\t\\t\\t\\t\\t...  46690   11   \n",
              "\n",
              "   month  year  dep_hour  dep_min  arr_hour  arr_min  ...  to_Hyderabad  \\\n",
              "0      2  2022        18        0        20        0  ...             0   \n",
              "1      2  2022        19        0        21       15  ...             0   \n",
              "2      2  2022        20        0        20       45  ...             0   \n",
              "3      2  2022        21       25        23       55  ...             0   \n",
              "4      2  2022        17       15        23       55  ...             0   \n",
              "\n",
              "   to_Kolkata  to_Mumbai  ch_code_6E  ch_code_AI  ch_code_G8  ch_code_I5  \\\n",
              "0           0          1           0           1           0           0   \n",
              "1           0          1           0           1           0           0   \n",
              "2           0          1           0           1           0           0   \n",
              "3           0          1           0           1           0           0   \n",
              "4           0          1           0           1           0           0   \n",
              "\n",
              "   ch_code_S5  ch_code_SG  ch_code_UK  \n",
              "0           0           0           0  \n",
              "1           0           0           0  \n",
              "2           0           0           0  \n",
              "3           0           0           0  \n",
              "4           0           0           0  \n",
              "\n",
              "[5 rows x 36 columns]"
            ],
            "text/html": [
              "\n",
              "  <div id=\"df-a044fc16-7e7a-409e-b908-8b06e20aef4c\">\n",
              "    <div class=\"colab-df-container\">\n",
              "      <div>\n",
              "<style scoped>\n",
              "    .dataframe tbody tr th:only-of-type {\n",
              "        vertical-align: middle;\n",
              "    }\n",
              "\n",
              "    .dataframe tbody tr th {\n",
              "        vertical-align: top;\n",
              "    }\n",
              "\n",
              "    .dataframe thead th {\n",
              "        text-align: right;\n",
              "    }\n",
              "</style>\n",
              "<table border=\"1\" class=\"dataframe\">\n",
              "  <thead>\n",
              "    <tr style=\"text-align: right;\">\n",
              "      <th></th>\n",
              "      <th>num_code</th>\n",
              "      <th>stop</th>\n",
              "      <th>price</th>\n",
              "      <th>day</th>\n",
              "      <th>month</th>\n",
              "      <th>year</th>\n",
              "      <th>dep_hour</th>\n",
              "      <th>dep_min</th>\n",
              "      <th>arr_hour</th>\n",
              "      <th>arr_min</th>\n",
              "      <th>...</th>\n",
              "      <th>to_Hyderabad</th>\n",
              "      <th>to_Kolkata</th>\n",
              "      <th>to_Mumbai</th>\n",
              "      <th>ch_code_6E</th>\n",
              "      <th>ch_code_AI</th>\n",
              "      <th>ch_code_G8</th>\n",
              "      <th>ch_code_I5</th>\n",
              "      <th>ch_code_S5</th>\n",
              "      <th>ch_code_SG</th>\n",
              "      <th>ch_code_UK</th>\n",
              "    </tr>\n",
              "  </thead>\n",
              "  <tbody>\n",
              "    <tr>\n",
              "      <th>0</th>\n",
              "      <td>868</td>\n",
              "      <td>non-stop</td>\n",
              "      <td>25612</td>\n",
              "      <td>11</td>\n",
              "      <td>2</td>\n",
              "      <td>2022</td>\n",
              "      <td>18</td>\n",
              "      <td>0</td>\n",
              "      <td>20</td>\n",
              "      <td>0</td>\n",
              "      <td>...</td>\n",
              "      <td>0</td>\n",
              "      <td>0</td>\n",
              "      <td>1</td>\n",
              "      <td>0</td>\n",
              "      <td>1</td>\n",
              "      <td>0</td>\n",
              "      <td>0</td>\n",
              "      <td>0</td>\n",
              "      <td>0</td>\n",
              "      <td>0</td>\n",
              "    </tr>\n",
              "    <tr>\n",
              "      <th>1</th>\n",
              "      <td>624</td>\n",
              "      <td>non-stop</td>\n",
              "      <td>25612</td>\n",
              "      <td>11</td>\n",
              "      <td>2</td>\n",
              "      <td>2022</td>\n",
              "      <td>19</td>\n",
              "      <td>0</td>\n",
              "      <td>21</td>\n",
              "      <td>15</td>\n",
              "      <td>...</td>\n",
              "      <td>0</td>\n",
              "      <td>0</td>\n",
              "      <td>1</td>\n",
              "      <td>0</td>\n",
              "      <td>1</td>\n",
              "      <td>0</td>\n",
              "      <td>0</td>\n",
              "      <td>0</td>\n",
              "      <td>0</td>\n",
              "      <td>0</td>\n",
              "    </tr>\n",
              "    <tr>\n",
              "      <th>2</th>\n",
              "      <td>531</td>\n",
              "      <td>1-stop\\n\\t\\t\\t\\t\\t\\t\\t\\t\\t\\t\\t\\t\\n\\t\\t\\t\\t\\t\\t...</td>\n",
              "      <td>42220</td>\n",
              "      <td>11</td>\n",
              "      <td>2</td>\n",
              "      <td>2022</td>\n",
              "      <td>20</td>\n",
              "      <td>0</td>\n",
              "      <td>20</td>\n",
              "      <td>45</td>\n",
              "      <td>...</td>\n",
              "      <td>0</td>\n",
              "      <td>0</td>\n",
              "      <td>1</td>\n",
              "      <td>0</td>\n",
              "      <td>1</td>\n",
              "      <td>0</td>\n",
              "      <td>0</td>\n",
              "      <td>0</td>\n",
              "      <td>0</td>\n",
              "      <td>0</td>\n",
              "    </tr>\n",
              "    <tr>\n",
              "      <th>3</th>\n",
              "      <td>839</td>\n",
              "      <td>1-stop\\n\\t\\t\\t\\t\\t\\t\\t\\t\\t\\t\\t\\t\\n\\t\\t\\t\\t\\t\\t...</td>\n",
              "      <td>44450</td>\n",
              "      <td>11</td>\n",
              "      <td>2</td>\n",
              "      <td>2022</td>\n",
              "      <td>21</td>\n",
              "      <td>25</td>\n",
              "      <td>23</td>\n",
              "      <td>55</td>\n",
              "      <td>...</td>\n",
              "      <td>0</td>\n",
              "      <td>0</td>\n",
              "      <td>1</td>\n",
              "      <td>0</td>\n",
              "      <td>1</td>\n",
              "      <td>0</td>\n",
              "      <td>0</td>\n",
              "      <td>0</td>\n",
              "      <td>0</td>\n",
              "      <td>0</td>\n",
              "    </tr>\n",
              "    <tr>\n",
              "      <th>4</th>\n",
              "      <td>544</td>\n",
              "      <td>1-stop\\n\\t\\t\\t\\t\\t\\t\\t\\t\\t\\t\\t\\t\\n\\t\\t\\t\\t\\t\\t...</td>\n",
              "      <td>46690</td>\n",
              "      <td>11</td>\n",
              "      <td>2</td>\n",
              "      <td>2022</td>\n",
              "      <td>17</td>\n",
              "      <td>15</td>\n",
              "      <td>23</td>\n",
              "      <td>55</td>\n",
              "      <td>...</td>\n",
              "      <td>0</td>\n",
              "      <td>0</td>\n",
              "      <td>1</td>\n",
              "      <td>0</td>\n",
              "      <td>1</td>\n",
              "      <td>0</td>\n",
              "      <td>0</td>\n",
              "      <td>0</td>\n",
              "      <td>0</td>\n",
              "      <td>0</td>\n",
              "    </tr>\n",
              "  </tbody>\n",
              "</table>\n",
              "<p>5 rows × 36 columns</p>\n",
              "</div>\n",
              "      <button class=\"colab-df-convert\" onclick=\"convertToInteractive('df-a044fc16-7e7a-409e-b908-8b06e20aef4c')\"\n",
              "              title=\"Convert this dataframe to an interactive table.\"\n",
              "              style=\"display:none;\">\n",
              "        \n",
              "  <svg xmlns=\"http://www.w3.org/2000/svg\" height=\"24px\"viewBox=\"0 0 24 24\"\n",
              "       width=\"24px\">\n",
              "    <path d=\"M0 0h24v24H0V0z\" fill=\"none\"/>\n",
              "    <path d=\"M18.56 5.44l.94 2.06.94-2.06 2.06-.94-2.06-.94-.94-2.06-.94 2.06-2.06.94zm-11 1L8.5 8.5l.94-2.06 2.06-.94-2.06-.94L8.5 2.5l-.94 2.06-2.06.94zm10 10l.94 2.06.94-2.06 2.06-.94-2.06-.94-.94-2.06-.94 2.06-2.06.94z\"/><path d=\"M17.41 7.96l-1.37-1.37c-.4-.4-.92-.59-1.43-.59-.52 0-1.04.2-1.43.59L10.3 9.45l-7.72 7.72c-.78.78-.78 2.05 0 2.83L4 21.41c.39.39.9.59 1.41.59.51 0 1.02-.2 1.41-.59l7.78-7.78 2.81-2.81c.8-.78.8-2.07 0-2.86zM5.41 20L4 18.59l7.72-7.72 1.47 1.35L5.41 20z\"/>\n",
              "  </svg>\n",
              "      </button>\n",
              "      \n",
              "  <style>\n",
              "    .colab-df-container {\n",
              "      display:flex;\n",
              "      flex-wrap:wrap;\n",
              "      gap: 12px;\n",
              "    }\n",
              "\n",
              "    .colab-df-convert {\n",
              "      background-color: #E8F0FE;\n",
              "      border: none;\n",
              "      border-radius: 50%;\n",
              "      cursor: pointer;\n",
              "      display: none;\n",
              "      fill: #1967D2;\n",
              "      height: 32px;\n",
              "      padding: 0 0 0 0;\n",
              "      width: 32px;\n",
              "    }\n",
              "\n",
              "    .colab-df-convert:hover {\n",
              "      background-color: #E2EBFA;\n",
              "      box-shadow: 0px 1px 2px rgba(60, 64, 67, 0.3), 0px 1px 3px 1px rgba(60, 64, 67, 0.15);\n",
              "      fill: #174EA6;\n",
              "    }\n",
              "\n",
              "    [theme=dark] .colab-df-convert {\n",
              "      background-color: #3B4455;\n",
              "      fill: #D2E3FC;\n",
              "    }\n",
              "\n",
              "    [theme=dark] .colab-df-convert:hover {\n",
              "      background-color: #434B5C;\n",
              "      box-shadow: 0px 1px 3px 1px rgba(0, 0, 0, 0.15);\n",
              "      filter: drop-shadow(0px 1px 2px rgba(0, 0, 0, 0.3));\n",
              "      fill: #FFFFFF;\n",
              "    }\n",
              "  </style>\n",
              "\n",
              "      <script>\n",
              "        const buttonEl =\n",
              "          document.querySelector('#df-a044fc16-7e7a-409e-b908-8b06e20aef4c button.colab-df-convert');\n",
              "        buttonEl.style.display =\n",
              "          google.colab.kernel.accessAllowed ? 'block' : 'none';\n",
              "\n",
              "        async function convertToInteractive(key) {\n",
              "          const element = document.querySelector('#df-a044fc16-7e7a-409e-b908-8b06e20aef4c');\n",
              "          const dataTable =\n",
              "            await google.colab.kernel.invokeFunction('convertToInteractive',\n",
              "                                                     [key], {});\n",
              "          if (!dataTable) return;\n",
              "\n",
              "          const docLinkHtml = 'Like what you see? Visit the ' +\n",
              "            '<a target=\"_blank\" href=https://colab.research.google.com/notebooks/data_table.ipynb>data table notebook</a>'\n",
              "            + ' to learn more about interactive tables.';\n",
              "          element.innerHTML = '';\n",
              "          dataTable['output_type'] = 'display_data';\n",
              "          await google.colab.output.renderOutput(dataTable, element);\n",
              "          const docLink = document.createElement('div');\n",
              "          docLink.innerHTML = docLinkHtml;\n",
              "          element.appendChild(docLink);\n",
              "        }\n",
              "      </script>\n",
              "    </div>\n",
              "  </div>\n",
              "  "
            ]
          },
          "metadata": {},
          "execution_count": 102
        }
      ],
      "source": [
        "# converting categorical values to numerical values \n",
        "fpp = pd.get_dummies(data=fpp, columns=['airline', 'from', 'to', 'ch_code'], drop_first=True)\n",
        "fpp.head(5)"
      ]
    },
    {
      "cell_type": "code",
      "source": [
        "fpp.shape"
      ],
      "metadata": {
        "colab": {
          "base_uri": "https://localhost:8080/"
        },
        "id": "2oxkeEgz7L9O",
        "outputId": "2ad28e49-d918-4979-f235-9cbc6cd675e3"
      },
      "execution_count": 103,
      "outputs": [
        {
          "output_type": "execute_result",
          "data": {
            "text/plain": [
              "(300255, 36)"
            ]
          },
          "metadata": {},
          "execution_count": 103
        }
      ]
    },
    {
      "cell_type": "code",
      "execution_count": 104,
      "metadata": {
        "id": "qW3A79UzUCje",
        "colab": {
          "base_uri": "https://localhost:8080/"
        },
        "outputId": "f3a33007-87fc-4396-a968-c9d6db11c11b"
      },
      "outputs": [
        {
          "output_type": "execute_result",
          "data": {
            "text/plain": [
              "40"
            ]
          },
          "metadata": {},
          "execution_count": 104
        }
      ],
      "source": [
        "fpp['stop'].nunique()"
      ]
    },
    {
      "cell_type": "code",
      "execution_count": 105,
      "metadata": {
        "id": "eHQ9Fl9zOhh4",
        "colab": {
          "base_uri": "https://localhost:8080/"
        },
        "outputId": "d85cd11f-ad89-4446-d111-cffda25b587c"
      },
      "outputs": [
        {
          "output_type": "execute_result",
          "data": {
            "text/plain": [
              "1-stop\\n\\t\\t\\t\\t\\t\\t\\t\\t\\t\\t\\t\\t\\n\\t\\t\\t\\t\\t\\t\\t\\t\\t\\t\\t\\t                      243599\n",
              "non-stop                                                                         36044\n",
              "2+-stop                                                                          13286\n",
              "1-stop\\n\\t\\t\\t\\t\\t\\t\\t\\t\\t\\t\\t\\tVia IXU\\n\\t\\t\\t\\t\\t\\t\\t\\t\\t\\t\\t\\t                 1839\n",
              "1-stop\\n\\t\\t\\t\\t\\t\\t\\t\\t\\t\\t\\t\\tVia IDR\\n\\t\\t\\t\\t\\t\\t\\t\\t\\t\\t\\t\\t                 1398\n",
              "1-stop\\n\\t\\t\\t\\t\\t\\t\\t\\t\\t\\t\\t\\tVia Patna\\n\\t\\t\\t\\t\\t\\t\\t\\t\\t\\t\\t\\t                674\n",
              "1-stop\\n\\t\\t\\t\\t\\t\\t\\t\\t\\t\\t\\t\\tVia Indore\\n\\t\\t\\t\\t\\t\\t\\t\\t\\t\\t\\t\\t               381\n",
              "1-stop\\n\\t\\t\\t\\t\\t\\t\\t\\t\\t\\t\\t\\tVia PAT\\n\\t\\t\\t\\t\\t\\t\\t\\t\\t\\t\\t\\t                  354\n",
              "1-stop\\n\\t\\t\\t\\t\\t\\t\\t\\t\\t\\t\\t\\tVia MYQ\\n\\t\\t\\t\\t\\t\\t\\t\\t\\t\\t\\t\\t                  321\n",
              "1-stop\\n\\t\\t\\t\\t\\t\\t\\t\\t\\t\\t\\t\\tVia Bhubaneswar\\n\\t\\t\\t\\t\\t\\t\\t\\t\\t\\t\\t\\t          301\n",
              "1-stop\\n\\t\\t\\t\\t\\t\\t\\t\\t\\t\\t\\t\\tVia KLH\\n\\t\\t\\t\\t\\t\\t\\t\\t\\t\\t\\t\\t                  284\n",
              "1-stop\\n\\t\\t\\t\\t\\t\\t\\t\\t\\t\\t\\t\\tVia JGB\\n\\t\\t\\t\\t\\t\\t\\t\\t\\t\\t\\t\\t                  193\n",
              "1-stop\\n\\t\\t\\t\\t\\t\\t\\t\\t\\t\\t\\t\\tVia JRG\\n\\t\\t\\t\\t\\t\\t\\t\\t\\t\\t\\t\\t                  175\n",
              "1-stop\\n\\t\\t\\t\\t\\t\\t\\t\\t\\t\\t\\t\\tVia STV\\n\\t\\t\\t\\t\\t\\t\\t\\t\\t\\t\\t\\t                  169\n",
              "1-stop\\n\\t\\t\\t\\t\\t\\t\\t\\t\\t\\t\\t\\tVia BBI\\n\\t\\t\\t\\t\\t\\t\\t\\t\\t\\t\\t\\t                  158\n",
              "1-stop\\n\\t\\t\\t\\t\\t\\t\\t\\t\\t\\t\\t\\tVia Delhi\\n\\t\\t\\t\\t\\t\\t\\t\\t\\t\\t\\t\\t                153\n",
              "1-stop\\n\\t\\t\\t\\t\\t\\t\\t\\t\\t\\t\\t\\tVia Hyderabad\\n\\t\\t\\t\\t\\t\\t\\t\\t\\t\\t\\t\\t            143\n",
              "1-stop\\n\\t\\t\\t\\t\\t\\t\\t\\t\\t\\t\\t\\tVia IXE\\n\\t\\t\\t\\t\\t\\t\\t\\t\\t\\t\\t\\t                  120\n",
              "1-stop\\n\\t\\t\\t\\t\\t\\t\\t\\t\\t\\t\\t\\tVia Ranchi\\n\\t\\t\\t\\t\\t\\t\\t\\t\\t\\t\\t\\t               114\n",
              "1-stop\\n\\t\\t\\t\\t\\t\\t\\t\\t\\t\\t\\t\\tVia Raipur\\n\\t\\t\\t\\t\\t\\t\\t\\t\\t\\t\\t\\t               102\n",
              "1-stop\\n\\t\\t\\t\\t\\t\\t\\t\\t\\t\\t\\t\\tVia Chennai\\n\\t\\t\\t\\t\\t\\t\\t\\t\\t\\t\\t\\t               77\n",
              "1-stop\\n\\t\\t\\t\\t\\t\\t\\t\\t\\t\\t\\t\\tVia Guwahati\\n\\t\\t\\t\\t\\t\\t\\t\\t\\t\\t\\t\\t              55\n",
              "1-stop\\n\\t\\t\\t\\t\\t\\t\\t\\t\\t\\t\\t\\tVia Mysore\\n\\t\\t\\t\\t\\t\\t\\t\\t\\t\\t\\t\\t                45\n",
              "1-stop\\n\\t\\t\\t\\t\\t\\t\\t\\t\\t\\t\\t\\tVia Mangalore\\n\\t\\t\\t\\t\\t\\t\\t\\t\\t\\t\\t\\t             39\n",
              "1-stop\\n\\t\\t\\t\\t\\t\\t\\t\\t\\t\\t\\t\\tVia Mumbai\\n\\t\\t\\t\\t\\t\\t\\t\\t\\t\\t\\t\\t                31\n",
              "1-stop\\n\\t\\t\\t\\t\\t\\t\\t\\t\\t\\t\\t\\tVia Kolkata\\n\\t\\t\\t\\t\\t\\t\\t\\t\\t\\t\\t\\t               28\n",
              "1-stop\\n\\t\\t\\t\\t\\t\\t\\t\\t\\t\\t\\t\\tVia VTZ\\n\\t\\t\\t\\t\\t\\t\\t\\t\\t\\t\\t\\t                   27\n",
              "1-stop\\n\\t\\t\\t\\t\\t\\t\\t\\t\\t\\t\\t\\tVia Nagpur\\n\\t\\t\\t\\t\\t\\t\\t\\t\\t\\t\\t\\t                25\n",
              "1-stop\\n\\t\\t\\t\\t\\t\\t\\t\\t\\t\\t\\t\\tVia RPR\\n\\t\\t\\t\\t\\t\\t\\t\\t\\t\\t\\t\\t                   22\n",
              "1-stop\\n\\t\\t\\t\\t\\t\\t\\t\\t\\t\\t\\t\\tVia NDC\\n\\t\\t\\t\\t\\t\\t\\t\\t\\t\\t\\t\\t                   22\n",
              "1-stop\\n\\t\\t\\t\\t\\t\\t\\t\\t\\t\\t\\t\\tVia GOP\\n\\t\\t\\t\\t\\t\\t\\t\\t\\t\\t\\t\\t                   16\n",
              "1-stop\\n\\t\\t\\t\\t\\t\\t\\t\\t\\t\\t\\t\\tVia Surat\\n\\t\\t\\t\\t\\t\\t\\t\\t\\t\\t\\t\\t                 14\n",
              "1-stop\\n\\t\\t\\t\\t\\t\\t\\t\\t\\t\\t\\t\\tVia Lucknow\\n\\t\\t\\t\\t\\t\\t\\t\\t\\t\\t\\t\\t               13\n",
              "1-stop\\n\\t\\t\\t\\t\\t\\t\\t\\t\\t\\t\\t\\tVia NAG\\n\\t\\t\\t\\t\\t\\t\\t\\t\\t\\t\\t\\t                    9\n",
              "1-stop\\n\\t\\t\\t\\t\\t\\t\\t\\t\\t\\t\\t\\tVia Vishakhapatnam\\n\\t\\t\\t\\t\\t\\t\\t\\t\\t\\t\\t\\t         8\n",
              "1-stop\\n\\t\\t\\t\\t\\t\\t\\t\\t\\t\\t\\t\\tVia Kolhapur\\n\\t\\t\\t\\t\\t\\t\\t\\t\\t\\t\\t\\t               5\n",
              "1-stop\\n\\t\\t\\t\\t\\t\\t\\t\\t\\t\\t\\t\\tVia IXR\\n\\t\\t\\t\\t\\t\\t\\t\\t\\t\\t\\t\\t                    4\n",
              "1-stop\\n\\t\\t\\t\\t\\t\\t\\t\\t\\t\\t\\t\\tVia GAU\\n\\t\\t\\t\\t\\t\\t\\t\\t\\t\\t\\t\\t                    3\n",
              "1-stop\\n\\t\\t\\t\\t\\t\\t\\t\\t\\t\\t\\t\\tVia GAY\\n\\t\\t\\t\\t\\t\\t\\t\\t\\t\\t\\t\\t                    3\n",
              "1-stop\\n\\t\\t\\t\\t\\t\\t\\t\\t\\t\\t\\t\\tVia HYD\\n\\t\\t\\t\\t\\t\\t\\t\\t\\t\\t\\t\\t                    1\n",
              "Name: stop, dtype: int64"
            ]
          },
          "metadata": {},
          "execution_count": 105
        }
      ],
      "source": [
        "fpp['stop'].value_counts()"
      ]
    },
    {
      "cell_type": "code",
      "source": [
        "# the pd_getdummies can not be applied to the 'stop' column, because it contains more number of unique values\n",
        "# if one hot encode is applied then the input data for the model becomes very wide\n",
        "# the created features become sparse(most of the levels hardly appear in the data)\n",
        "# One Hot Encoding does not handle new or unseen categories\n",
        "# for this can use the label encoder, it can handel high number of unique values "
      ],
      "metadata": {
        "id": "JPqKuQ9stfgK"
      },
      "execution_count": 106,
      "outputs": []
    },
    {
      "cell_type": "code",
      "source": [
        "# applying label encoder \n",
        "from sklearn.preprocessing import LabelEncoder \n",
        "\n",
        "fpp_lable = LabelEncoder() \n",
        "\n",
        "fpp[ 'stop' ]= fpp_lable.fit_transform(fpp[ 'stop' ])   \n",
        "print(fpp[ 'stop' ].unique())  \n",
        "print(\"Data Frame after Label Encoding:\\n\")  \n",
        "fpp.head(5)"
      ],
      "metadata": {
        "colab": {
          "base_uri": "https://localhost:8080/",
          "height": 369
        },
        "id": "qmESdoJttgBx",
        "outputId": "33f00cf8-4bac-4700-901b-65780afe6704"
      },
      "execution_count": 107,
      "outputs": [
        {
          "output_type": "stream",
          "name": "stdout",
          "text": [
            "[39  0 11 14  3 21 34 10  6 38  8  5 36 27 12 32 29 31 30 20  9  4  2  1\n",
            " 35 15  7 28 26 37 23 24 18 22 19 17 33 13 16 25]\n",
            "Data Frame after Label Encoding:\n",
            "\n"
          ]
        },
        {
          "output_type": "execute_result",
          "data": {
            "text/plain": [
              "   num_code  stop  price  day  month  year  dep_hour  dep_min  arr_hour  \\\n",
              "0       868    39  25612   11      2  2022        18        0        20   \n",
              "1       624    39  25612   11      2  2022        19        0        21   \n",
              "2       531     0  42220   11      2  2022        20        0        20   \n",
              "3       839     0  44450   11      2  2022        21       25        23   \n",
              "4       544     0  46690   11      2  2022        17       15        23   \n",
              "\n",
              "   arr_min  ...  to_Hyderabad  to_Kolkata  to_Mumbai  ch_code_6E  ch_code_AI  \\\n",
              "0        0  ...             0           0          1           0           1   \n",
              "1       15  ...             0           0          1           0           1   \n",
              "2       45  ...             0           0          1           0           1   \n",
              "3       55  ...             0           0          1           0           1   \n",
              "4       55  ...             0           0          1           0           1   \n",
              "\n",
              "   ch_code_G8  ch_code_I5  ch_code_S5  ch_code_SG  ch_code_UK  \n",
              "0           0           0           0           0           0  \n",
              "1           0           0           0           0           0  \n",
              "2           0           0           0           0           0  \n",
              "3           0           0           0           0           0  \n",
              "4           0           0           0           0           0  \n",
              "\n",
              "[5 rows x 36 columns]"
            ],
            "text/html": [
              "\n",
              "  <div id=\"df-5b1caa34-2c92-49b3-b298-e05f3d7341e9\">\n",
              "    <div class=\"colab-df-container\">\n",
              "      <div>\n",
              "<style scoped>\n",
              "    .dataframe tbody tr th:only-of-type {\n",
              "        vertical-align: middle;\n",
              "    }\n",
              "\n",
              "    .dataframe tbody tr th {\n",
              "        vertical-align: top;\n",
              "    }\n",
              "\n",
              "    .dataframe thead th {\n",
              "        text-align: right;\n",
              "    }\n",
              "</style>\n",
              "<table border=\"1\" class=\"dataframe\">\n",
              "  <thead>\n",
              "    <tr style=\"text-align: right;\">\n",
              "      <th></th>\n",
              "      <th>num_code</th>\n",
              "      <th>stop</th>\n",
              "      <th>price</th>\n",
              "      <th>day</th>\n",
              "      <th>month</th>\n",
              "      <th>year</th>\n",
              "      <th>dep_hour</th>\n",
              "      <th>dep_min</th>\n",
              "      <th>arr_hour</th>\n",
              "      <th>arr_min</th>\n",
              "      <th>...</th>\n",
              "      <th>to_Hyderabad</th>\n",
              "      <th>to_Kolkata</th>\n",
              "      <th>to_Mumbai</th>\n",
              "      <th>ch_code_6E</th>\n",
              "      <th>ch_code_AI</th>\n",
              "      <th>ch_code_G8</th>\n",
              "      <th>ch_code_I5</th>\n",
              "      <th>ch_code_S5</th>\n",
              "      <th>ch_code_SG</th>\n",
              "      <th>ch_code_UK</th>\n",
              "    </tr>\n",
              "  </thead>\n",
              "  <tbody>\n",
              "    <tr>\n",
              "      <th>0</th>\n",
              "      <td>868</td>\n",
              "      <td>39</td>\n",
              "      <td>25612</td>\n",
              "      <td>11</td>\n",
              "      <td>2</td>\n",
              "      <td>2022</td>\n",
              "      <td>18</td>\n",
              "      <td>0</td>\n",
              "      <td>20</td>\n",
              "      <td>0</td>\n",
              "      <td>...</td>\n",
              "      <td>0</td>\n",
              "      <td>0</td>\n",
              "      <td>1</td>\n",
              "      <td>0</td>\n",
              "      <td>1</td>\n",
              "      <td>0</td>\n",
              "      <td>0</td>\n",
              "      <td>0</td>\n",
              "      <td>0</td>\n",
              "      <td>0</td>\n",
              "    </tr>\n",
              "    <tr>\n",
              "      <th>1</th>\n",
              "      <td>624</td>\n",
              "      <td>39</td>\n",
              "      <td>25612</td>\n",
              "      <td>11</td>\n",
              "      <td>2</td>\n",
              "      <td>2022</td>\n",
              "      <td>19</td>\n",
              "      <td>0</td>\n",
              "      <td>21</td>\n",
              "      <td>15</td>\n",
              "      <td>...</td>\n",
              "      <td>0</td>\n",
              "      <td>0</td>\n",
              "      <td>1</td>\n",
              "      <td>0</td>\n",
              "      <td>1</td>\n",
              "      <td>0</td>\n",
              "      <td>0</td>\n",
              "      <td>0</td>\n",
              "      <td>0</td>\n",
              "      <td>0</td>\n",
              "    </tr>\n",
              "    <tr>\n",
              "      <th>2</th>\n",
              "      <td>531</td>\n",
              "      <td>0</td>\n",
              "      <td>42220</td>\n",
              "      <td>11</td>\n",
              "      <td>2</td>\n",
              "      <td>2022</td>\n",
              "      <td>20</td>\n",
              "      <td>0</td>\n",
              "      <td>20</td>\n",
              "      <td>45</td>\n",
              "      <td>...</td>\n",
              "      <td>0</td>\n",
              "      <td>0</td>\n",
              "      <td>1</td>\n",
              "      <td>0</td>\n",
              "      <td>1</td>\n",
              "      <td>0</td>\n",
              "      <td>0</td>\n",
              "      <td>0</td>\n",
              "      <td>0</td>\n",
              "      <td>0</td>\n",
              "    </tr>\n",
              "    <tr>\n",
              "      <th>3</th>\n",
              "      <td>839</td>\n",
              "      <td>0</td>\n",
              "      <td>44450</td>\n",
              "      <td>11</td>\n",
              "      <td>2</td>\n",
              "      <td>2022</td>\n",
              "      <td>21</td>\n",
              "      <td>25</td>\n",
              "      <td>23</td>\n",
              "      <td>55</td>\n",
              "      <td>...</td>\n",
              "      <td>0</td>\n",
              "      <td>0</td>\n",
              "      <td>1</td>\n",
              "      <td>0</td>\n",
              "      <td>1</td>\n",
              "      <td>0</td>\n",
              "      <td>0</td>\n",
              "      <td>0</td>\n",
              "      <td>0</td>\n",
              "      <td>0</td>\n",
              "    </tr>\n",
              "    <tr>\n",
              "      <th>4</th>\n",
              "      <td>544</td>\n",
              "      <td>0</td>\n",
              "      <td>46690</td>\n",
              "      <td>11</td>\n",
              "      <td>2</td>\n",
              "      <td>2022</td>\n",
              "      <td>17</td>\n",
              "      <td>15</td>\n",
              "      <td>23</td>\n",
              "      <td>55</td>\n",
              "      <td>...</td>\n",
              "      <td>0</td>\n",
              "      <td>0</td>\n",
              "      <td>1</td>\n",
              "      <td>0</td>\n",
              "      <td>1</td>\n",
              "      <td>0</td>\n",
              "      <td>0</td>\n",
              "      <td>0</td>\n",
              "      <td>0</td>\n",
              "      <td>0</td>\n",
              "    </tr>\n",
              "  </tbody>\n",
              "</table>\n",
              "<p>5 rows × 36 columns</p>\n",
              "</div>\n",
              "      <button class=\"colab-df-convert\" onclick=\"convertToInteractive('df-5b1caa34-2c92-49b3-b298-e05f3d7341e9')\"\n",
              "              title=\"Convert this dataframe to an interactive table.\"\n",
              "              style=\"display:none;\">\n",
              "        \n",
              "  <svg xmlns=\"http://www.w3.org/2000/svg\" height=\"24px\"viewBox=\"0 0 24 24\"\n",
              "       width=\"24px\">\n",
              "    <path d=\"M0 0h24v24H0V0z\" fill=\"none\"/>\n",
              "    <path d=\"M18.56 5.44l.94 2.06.94-2.06 2.06-.94-2.06-.94-.94-2.06-.94 2.06-2.06.94zm-11 1L8.5 8.5l.94-2.06 2.06-.94-2.06-.94L8.5 2.5l-.94 2.06-2.06.94zm10 10l.94 2.06.94-2.06 2.06-.94-2.06-.94-.94-2.06-.94 2.06-2.06.94z\"/><path d=\"M17.41 7.96l-1.37-1.37c-.4-.4-.92-.59-1.43-.59-.52 0-1.04.2-1.43.59L10.3 9.45l-7.72 7.72c-.78.78-.78 2.05 0 2.83L4 21.41c.39.39.9.59 1.41.59.51 0 1.02-.2 1.41-.59l7.78-7.78 2.81-2.81c.8-.78.8-2.07 0-2.86zM5.41 20L4 18.59l7.72-7.72 1.47 1.35L5.41 20z\"/>\n",
              "  </svg>\n",
              "      </button>\n",
              "      \n",
              "  <style>\n",
              "    .colab-df-container {\n",
              "      display:flex;\n",
              "      flex-wrap:wrap;\n",
              "      gap: 12px;\n",
              "    }\n",
              "\n",
              "    .colab-df-convert {\n",
              "      background-color: #E8F0FE;\n",
              "      border: none;\n",
              "      border-radius: 50%;\n",
              "      cursor: pointer;\n",
              "      display: none;\n",
              "      fill: #1967D2;\n",
              "      height: 32px;\n",
              "      padding: 0 0 0 0;\n",
              "      width: 32px;\n",
              "    }\n",
              "\n",
              "    .colab-df-convert:hover {\n",
              "      background-color: #E2EBFA;\n",
              "      box-shadow: 0px 1px 2px rgba(60, 64, 67, 0.3), 0px 1px 3px 1px rgba(60, 64, 67, 0.15);\n",
              "      fill: #174EA6;\n",
              "    }\n",
              "\n",
              "    [theme=dark] .colab-df-convert {\n",
              "      background-color: #3B4455;\n",
              "      fill: #D2E3FC;\n",
              "    }\n",
              "\n",
              "    [theme=dark] .colab-df-convert:hover {\n",
              "      background-color: #434B5C;\n",
              "      box-shadow: 0px 1px 3px 1px rgba(0, 0, 0, 0.15);\n",
              "      filter: drop-shadow(0px 1px 2px rgba(0, 0, 0, 0.3));\n",
              "      fill: #FFFFFF;\n",
              "    }\n",
              "  </style>\n",
              "\n",
              "      <script>\n",
              "        const buttonEl =\n",
              "          document.querySelector('#df-5b1caa34-2c92-49b3-b298-e05f3d7341e9 button.colab-df-convert');\n",
              "        buttonEl.style.display =\n",
              "          google.colab.kernel.accessAllowed ? 'block' : 'none';\n",
              "\n",
              "        async function convertToInteractive(key) {\n",
              "          const element = document.querySelector('#df-5b1caa34-2c92-49b3-b298-e05f3d7341e9');\n",
              "          const dataTable =\n",
              "            await google.colab.kernel.invokeFunction('convertToInteractive',\n",
              "                                                     [key], {});\n",
              "          if (!dataTable) return;\n",
              "\n",
              "          const docLinkHtml = 'Like what you see? Visit the ' +\n",
              "            '<a target=\"_blank\" href=https://colab.research.google.com/notebooks/data_table.ipynb>data table notebook</a>'\n",
              "            + ' to learn more about interactive tables.';\n",
              "          element.innerHTML = '';\n",
              "          dataTable['output_type'] = 'display_data';\n",
              "          await google.colab.output.renderOutput(dataTable, element);\n",
              "          const docLink = document.createElement('div');\n",
              "          docLink.innerHTML = docLinkHtml;\n",
              "          element.appendChild(docLink);\n",
              "        }\n",
              "      </script>\n",
              "    </div>\n",
              "  </div>\n",
              "  "
            ]
          },
          "metadata": {},
          "execution_count": 107
        }
      ]
    },
    {
      "cell_type": "code",
      "source": [],
      "metadata": {
        "id": "uRnXeMo1huvJ"
      },
      "execution_count": 107,
      "outputs": []
    },
    {
      "cell_type": "code",
      "execution_count": 108,
      "metadata": {
        "id": "mUpRYGOzKFy1",
        "colab": {
          "base_uri": "https://localhost:8080/"
        },
        "outputId": "de43f50e-83c6-4c15-c0ff-a8d481440226"
      },
      "outputs": [
        {
          "output_type": "execute_result",
          "data": {
            "text/plain": [
              "num_code            int64\n",
              "stop                int64\n",
              "price               int64\n",
              "day                 int64\n",
              "month               int64\n",
              "year                int64\n",
              "dep_hour            int64\n",
              "dep_min             int64\n",
              "arr_hour            int64\n",
              "arr_min             int64\n",
              "dur_hour            int64\n",
              "dur_min             int64\n",
              "airline_AirAsia     uint8\n",
              "airline_GO FIRST    uint8\n",
              "airline_Indigo      uint8\n",
              "airline_SpiceJet    uint8\n",
              "airline_StarAir     uint8\n",
              "airline_Trujet      uint8\n",
              "airline_Vistara     uint8\n",
              "from_Chennai        uint8\n",
              "from_Delhi          uint8\n",
              "from_Hyderabad      uint8\n",
              "from_Kolkata        uint8\n",
              "from_Mumbai         uint8\n",
              "to_Chennai          uint8\n",
              "to_Delhi            uint8\n",
              "to_Hyderabad        uint8\n",
              "to_Kolkata          uint8\n",
              "to_Mumbai           uint8\n",
              "ch_code_6E          uint8\n",
              "ch_code_AI          uint8\n",
              "ch_code_G8          uint8\n",
              "ch_code_I5          uint8\n",
              "ch_code_S5          uint8\n",
              "ch_code_SG          uint8\n",
              "ch_code_UK          uint8\n",
              "dtype: object"
            ]
          },
          "metadata": {},
          "execution_count": 108
        }
      ],
      "source": [
        "fpp.dtypes"
      ]
    },
    {
      "cell_type": "code",
      "execution_count": 109,
      "metadata": {
        "id": "pq-jCelMKugt"
      },
      "outputs": [],
      "source": [
        "fpp['airline_AirAsia'] = fpp['airline_AirAsia'].astype(int)\n",
        "fpp['airline_GO FIRST'] = fpp['airline_GO FIRST'].astype(int)\n",
        "fpp['airline_Indigo'] = fpp['airline_Indigo'].astype(int)\n",
        "fpp['airline_SpiceJet'] = fpp['airline_SpiceJet'].astype(int)\n",
        "fpp['airline_StarAir'] = fpp['airline_StarAir'].astype(int)\n",
        "fpp['airline_Trujet'] = fpp['airline_Trujet'].astype(int)\n",
        "fpp['airline_Vistara'] = fpp['airline_Vistara'].astype(int)\n",
        "fpp['from_Chennai'] = fpp['from_Chennai'].astype(int)\n",
        "fpp['from_Delhi'] = fpp['from_Delhi'].astype(int)\n",
        "fpp['from_Hyderabad'] = fpp['from_Hyderabad'].astype(int)\n",
        "fpp['from_Kolkata'] = fpp['from_Kolkata'].astype(int)\n",
        "fpp['from_Mumbai'] = fpp['from_Mumbai'].astype(int)\n",
        "fpp['to_Chennai'] = fpp['to_Chennai'].astype(int)\n",
        "fpp['to_Delhi'] = fpp['to_Delhi'].astype(int)\n",
        "fpp['to_Hyderabad'] = fpp['to_Hyderabad'].astype(int)\n",
        "fpp['to_Kolkata'] = fpp['to_Kolkata'].astype(int)\n",
        "fpp['to_Mumbai'] = fpp['to_Mumbai'].astype(int)\n",
        "fpp['ch_code_6E'] = fpp['ch_code_6E'].astype(int)\n",
        "fpp['ch_code_AI'] = fpp['ch_code_AI'].astype(int)\n",
        "fpp['ch_code_G8'] = fpp['ch_code_G8'].astype(int)\n",
        "fpp['ch_code_I5'] = fpp['ch_code_I5'].astype(int)\n",
        "fpp['ch_code_S5'] = fpp['ch_code_S5'].astype(int)\n",
        "fpp['ch_code_SG'] = fpp['ch_code_SG'].astype(int)\n",
        "fpp['ch_code_UK'] = fpp['ch_code_UK'].astype(int)"
      ]
    },
    {
      "cell_type": "code",
      "execution_count": 110,
      "metadata": {
        "id": "yd8PMA8RN0b3",
        "colab": {
          "base_uri": "https://localhost:8080/"
        },
        "outputId": "d73e0c92-8c46-4acf-a837-ad5feaea0a88"
      },
      "outputs": [
        {
          "output_type": "execute_result",
          "data": {
            "text/plain": [
              "num_code            int64\n",
              "stop                int64\n",
              "price               int64\n",
              "day                 int64\n",
              "month               int64\n",
              "year                int64\n",
              "dep_hour            int64\n",
              "dep_min             int64\n",
              "arr_hour            int64\n",
              "arr_min             int64\n",
              "dur_hour            int64\n",
              "dur_min             int64\n",
              "airline_AirAsia     int64\n",
              "airline_GO FIRST    int64\n",
              "airline_Indigo      int64\n",
              "airline_SpiceJet    int64\n",
              "airline_StarAir     int64\n",
              "airline_Trujet      int64\n",
              "airline_Vistara     int64\n",
              "from_Chennai        int64\n",
              "from_Delhi          int64\n",
              "from_Hyderabad      int64\n",
              "from_Kolkata        int64\n",
              "from_Mumbai         int64\n",
              "to_Chennai          int64\n",
              "to_Delhi            int64\n",
              "to_Hyderabad        int64\n",
              "to_Kolkata          int64\n",
              "to_Mumbai           int64\n",
              "ch_code_6E          int64\n",
              "ch_code_AI          int64\n",
              "ch_code_G8          int64\n",
              "ch_code_I5          int64\n",
              "ch_code_S5          int64\n",
              "ch_code_SG          int64\n",
              "ch_code_UK          int64\n",
              "dtype: object"
            ]
          },
          "metadata": {},
          "execution_count": 110
        }
      ],
      "source": [
        "fpp.dtypes"
      ]
    },
    {
      "cell_type": "markdown",
      "metadata": {
        "id": "IH9cYYOiSzPL"
      },
      "source": [
        "**Checking for an outliers**"
      ]
    },
    {
      "cell_type": "code",
      "execution_count": 111,
      "metadata": {
        "id": "tIBvETBerki6",
        "colab": {
          "base_uri": "https://localhost:8080/"
        },
        "outputId": "cbe4719e-46c2-4009-a741-4fe7ccd44716"
      },
      "outputs": [
        {
          "output_type": "stream",
          "name": "stdout",
          "text": [
            "['num_code', 'stop', 'price', 'day', 'month', 'year', 'dep_hour', 'dep_min', 'arr_hour', 'arr_min', 'dur_hour', 'dur_min', 'airline_AirAsia', 'airline_GO FIRST', 'airline_Indigo', 'airline_SpiceJet', 'airline_StarAir', 'airline_Trujet', 'airline_Vistara', 'from_Chennai', 'from_Delhi', 'from_Hyderabad', 'from_Kolkata', 'from_Mumbai', 'to_Chennai', 'to_Delhi', 'to_Hyderabad', 'to_Kolkata', 'to_Mumbai', 'ch_code_6E', 'ch_code_AI', 'ch_code_G8', 'ch_code_I5', 'ch_code_S5', 'ch_code_SG', 'ch_code_UK']\n"
          ]
        }
      ],
      "source": [
        "fpp_num_colms = [column for column in fpp.columns if fpp[column].dtype!='object']\n",
        "print(fpp_num_colms)"
      ]
    },
    {
      "cell_type": "code",
      "execution_count": 112,
      "metadata": {
        "id": "MiApF0LMkmUJ",
        "colab": {
          "base_uri": "https://localhost:8080/",
          "height": 1000
        },
        "outputId": "34450565-1dde-4fbd-c07a-e4be7cca722c"
      },
      "outputs": [
        {
          "output_type": "stream",
          "name": "stdout",
          "text": [
            "num_code\n",
            "dict_keys(['whiskers', 'caps', 'boxes', 'medians', 'fliers', 'means'])\n",
            "whiskers: [array([637., 203.]), array([ 927., 1321.])]\n",
            "\n",
            "caps: [array([203, 203]), array([1321, 1321])]\n",
            "\n",
            "boxes: [array([637., 637., 927., 927., 637.])]\n",
            "\n",
            "medians: [array([818., 818.])]\n",
            "\n",
            "fliers: [array([ 101,  103,  165, ..., 6215, 2462, 7193])]\n",
            "\n",
            "means: []\n",
            "\n"
          ]
        },
        {
          "output_type": "display_data",
          "data": {
            "text/plain": [
              "<Figure size 432x288 with 1 Axes>"
            ],
            "image/png": "[encoded data removed]"
          },
          "metadata": {
            "needs_background": "light"
          }
        },
        {
          "output_type": "stream",
          "name": "stdout",
          "text": [
            "******************************************************************************************\n",
            "stop\n",
            "dict_keys(['whiskers', 'caps', 'boxes', 'medians', 'fliers', 'means'])\n",
            "whiskers: [array([0., 0.]), array([0., 0.])]\n",
            "\n",
            "caps: [array([0, 0]), array([0, 0])]\n",
            "\n",
            "boxes: [array([0., 0., 0., 0., 0.])]\n",
            "\n",
            "medians: [array([0., 0.])]\n",
            "\n",
            "fliers: [array([39, 39, 39, ..., 39, 39, 39])]\n",
            "\n",
            "means: []\n",
            "\n"
          ]
        },
        {
          "output_type": "display_data",
          "data": {
            "text/plain": [
              "<Figure size 432x288 with 1 Axes>"
            ],
            "image/png": "[encoded data removed]"
          },
          "metadata": {
            "needs_background": "light"
          }
        },
        {
          "output_type": "stream",
          "name": "stdout",
          "text": [
            "******************************************************************************************\n",
            "price\n",
            "dict_keys(['whiskers', 'caps', 'boxes', 'medians', 'fliers', 'means'])\n",
            "whiskers: [array([4783., 1105.]), array([42521., 98972.])]\n",
            "\n",
            "caps: [array([1105, 1105]), array([98972, 98972])]\n",
            "\n",
            "boxes: [array([ 4783.,  4783., 42521., 42521.,  4783.])]\n",
            "\n",
            "medians: [array([7425., 7425.])]\n",
            "\n",
            "fliers: [array([114434, 116562, 100395,  99129, 101369, 117307, 105961, 102114,\n",
            "       102114, 102114, 102114, 102114, 110850, 110872, 102114, 102114,\n",
            "       102114, 114507, 104987, 104466, 104466, 100288, 100288, 100473,\n",
            "       100473, 103335,  99577, 111437,  99403, 101531, 102404, 102404,\n",
            "       105764, 105764, 105764, 111163, 114523,  99403, 100276, 101844,\n",
            "       101844, 101844, 105764, 100276, 102404, 101531, 100909,  99677,\n",
            "       108604, 111964, 106476, 111964, 100204, 111883,  99451, 103819,\n",
            "        99680, 101920, 105168, 107576, 100111, 100671, 101780, 104031,\n",
            "       107492, 123071, 102648, 108360, 102648, 101780, 101780, 109217,\n",
            "       102648, 102648, 102648, 102648, 102648, 110936,  99204,  99327,\n",
            "       104255, 104255,  99204,  99327, 107934,  99551, 105549, 105638,\n",
            "       105638,  99389, 105549, 105638, 106753, 101612, 105185, 104255,\n",
            "       106753, 110225, 114705, 100539, 115211, 103683,  99584,  99584,\n",
            "       101376, 110218, 101152, 101824, 103056, 105744, 109776, 114704,\n",
            "       105744, 107216, 107216, 101152, 106416, 107597, 107597, 102832,\n",
            "       102384, 104624, 102384])]\n",
            "\n",
            "means: []\n",
            "\n"
          ]
        },
        {
          "output_type": "display_data",
          "data": {
            "text/plain": [
              "<Figure size 432x288 with 1 Axes>"
            ],
            "image/png": "[encoded data removed]"
          },
          "metadata": {
            "needs_background": "light"
          }
        },
        {
          "output_type": "stream",
          "name": "stdout",
          "text": [
            "******************************************************************************************\n",
            "day\n",
            "dict_keys(['whiskers', 'caps', 'boxes', 'medians', 'fliers', 'means'])\n",
            "whiskers: [array([12.,  1.]), array([24., 31.])]\n",
            "\n",
            "caps: [array([1, 1]), array([31, 31])]\n",
            "\n",
            "boxes: [array([12., 12., 24., 24., 12.])]\n",
            "\n",
            "medians: [array([18., 18.])]\n",
            "\n",
            "fliers: [array([], dtype=int64)]\n",
            "\n",
            "means: []\n",
            "\n"
          ]
        },
        {
          "output_type": "display_data",
          "data": {
            "text/plain": [
              "<Figure size 432x288 with 1 Axes>"
            ],
            "image/png": "[encoded data removed]"
          },
          "metadata": {
            "needs_background": "light"
          }
        },
        {
          "output_type": "stream",
          "name": "stdout",
          "text": [
            "******************************************************************************************\n",
            "month\n",
            "dict_keys(['whiskers', 'caps', 'boxes', 'medians', 'fliers', 'means'])\n",
            "whiskers: [array([2., 2.]), array([3., 3.])]\n",
            "\n",
            "caps: [array([2, 2]), array([3, 3])]\n",
            "\n",
            "boxes: [array([2., 2., 3., 3., 2.])]\n",
            "\n",
            "medians: [array([3., 3.])]\n",
            "\n",
            "fliers: [array([], dtype=int64)]\n",
            "\n",
            "means: []\n",
            "\n"
          ]
        },
        {
          "output_type": "display_data",
          "data": {
            "text/plain": [
              "<Figure size 432x288 with 1 Axes>"
            ],
            "image/png": "[encoded data removed]"
          },
          "metadata": {
            "needs_background": "light"
          }
        },
        {
          "output_type": "stream",
          "name": "stdout",
          "text": [
            "******************************************************************************************\n",
            "year\n",
            "dict_keys(['whiskers', 'caps', 'boxes', 'medians', 'fliers', 'means'])\n",
            "whiskers: [array([2022., 2022.]), array([2022., 2022.])]\n",
            "\n",
            "caps: [array([2022, 2022]), array([2022, 2022])]\n",
            "\n",
            "boxes: [array([2022., 2022., 2022., 2022., 2022.])]\n",
            "\n",
            "medians: [array([2022., 2022.])]\n",
            "\n",
            "fliers: [array([], dtype=int64)]\n",
            "\n",
            "means: []\n",
            "\n"
          ]
        },
        {
          "output_type": "display_data",
          "data": {
            "text/plain": [
              "<Figure size 432x288 with 1 Axes>"
            ],
            "image/png": "[encoded data removed]"
          },
          "metadata": {
            "needs_background": "light"
          }
        },
        {
          "output_type": "stream",
          "name": "stdout",
          "text": [
            "******************************************************************************************\n",
            "dep_hour\n",
            "dict_keys(['whiskers', 'caps', 'boxes', 'medians', 'fliers', 'means'])\n",
            "whiskers: [array([8., 0.]), array([18., 23.])]\n",
            "\n",
            "caps: [array([0, 0]), array([23, 23])]\n",
            "\n",
            "boxes: [array([ 8.,  8., 18., 18.,  8.])]\n",
            "\n",
            "medians: [array([12., 12.])]\n",
            "\n",
            "fliers: [array([], dtype=int64)]\n",
            "\n",
            "means: []\n",
            "\n"
          ]
        },
        {
          "output_type": "display_data",
          "data": {
            "text/plain": [
              "<Figure size 432x288 with 1 Axes>"
            ],
            "image/png": "[encoded data removed]"
          },
          "metadata": {
            "needs_background": "light"
          }
        },
        {
          "output_type": "stream",
          "name": "stdout",
          "text": [
            "******************************************************************************************\n",
            "dep_min\n",
            "dict_keys(['whiskers', 'caps', 'boxes', 'medians', 'fliers', 'means'])\n",
            "whiskers: [array([10.,  0.]), array([45., 55.])]\n",
            "\n",
            "caps: [array([0, 0]), array([55, 55])]\n",
            "\n",
            "boxes: [array([10., 10., 45., 45., 10.])]\n",
            "\n",
            "medians: [array([30., 30.])]\n",
            "\n",
            "fliers: [array([], dtype=int64)]\n",
            "\n",
            "means: []\n",
            "\n"
          ]
        },
        {
          "output_type": "display_data",
          "data": {
            "text/plain": [
              "<Figure size 432x288 with 1 Axes>"
            ],
            "image/png": "[encoded data removed]"
          },
          "metadata": {
            "needs_background": "light"
          }
        },
        {
          "output_type": "stream",
          "name": "stdout",
          "text": [
            "******************************************************************************************\n",
            "arr_hour\n",
            "dict_keys(['whiskers', 'caps', 'boxes', 'medians', 'fliers', 'means'])\n",
            "whiskers: [array([10.,  0.]), array([20., 23.])]\n",
            "\n",
            "caps: [array([0, 0]), array([23, 23])]\n",
            "\n",
            "boxes: [array([10., 10., 20., 20., 10.])]\n",
            "\n",
            "medians: [array([17., 17.])]\n",
            "\n",
            "fliers: [array([], dtype=int64)]\n",
            "\n",
            "means: []\n",
            "\n"
          ]
        },
        {
          "output_type": "display_data",
          "data": {
            "text/plain": [
              "<Figure size 432x288 with 1 Axes>"
            ],
            "image/png": "[encoded data removed]"
          },
          "metadata": {
            "needs_background": "light"
          }
        },
        {
          "output_type": "stream",
          "name": "stdout",
          "text": [
            "******************************************************************************************\n",
            "arr_min\n",
            "dict_keys(['whiskers', 'caps', 'boxes', 'medians', 'fliers', 'means'])\n",
            "whiskers: [array([15.,  0.]), array([45., 59.])]\n",
            "\n",
            "caps: [array([0, 0]), array([59, 59])]\n",
            "\n",
            "boxes: [array([15., 15., 45., 45., 15.])]\n",
            "\n",
            "medians: [array([30., 30.])]\n",
            "\n",
            "fliers: [array([], dtype=int64)]\n",
            "\n",
            "means: []\n",
            "\n"
          ]
        },
        {
          "output_type": "display_data",
          "data": {
            "text/plain": [
              "<Figure size 432x288 with 1 Axes>"
            ],
            "image/png": "[encoded data removed]"
          },
          "metadata": {
            "needs_background": "light"
          }
        },
        {
          "output_type": "stream",
          "name": "stdout",
          "text": [
            "******************************************************************************************\n",
            "dur_hour\n",
            "dict_keys(['whiskers', 'caps', 'boxes', 'medians', 'fliers', 'means'])\n",
            "whiskers: [array([6., 0.]), array([16., 31.])]\n",
            "\n",
            "caps: [array([0, 0]), array([31, 31])]\n",
            "\n",
            "boxes: [array([ 6.,  6., 16., 16.,  6.])]\n",
            "\n",
            "medians: [array([11., 11.])]\n",
            "\n",
            "fliers: [array([37, 36, 37, ..., 34, 32, 34])]\n",
            "\n",
            "means: []\n",
            "\n"
          ]
        },
        {
          "output_type": "display_data",
          "data": {
            "text/plain": [
              "<Figure size 432x288 with 1 Axes>"
            ],
            "image/png": "[encoded data removed]"
          },
          "metadata": {
            "needs_background": "light"
          }
        },
        {
          "output_type": "stream",
          "name": "stdout",
          "text": [
            "******************************************************************************************\n",
            "dur_min\n",
            "dict_keys(['whiskers', 'caps', 'boxes', 'medians', 'fliers', 'means'])\n",
            "whiskers: [array([10.,  0.]), array([40., 59.])]\n",
            "\n",
            "caps: [array([0, 0]), array([59, 59])]\n",
            "\n",
            "boxes: [array([10., 10., 40., 40., 10.])]\n",
            "\n",
            "medians: [array([25., 25.])]\n",
            "\n",
            "fliers: [array([], dtype=int64)]\n",
            "\n",
            "means: []\n",
            "\n"
          ]
        },
        {
          "output_type": "display_data",
          "data": {
            "text/plain": [
              "<Figure size 432x288 with 1 Axes>"
            ],
            "image/png": "[encoded data removed]"
          },
          "metadata": {
            "needs_background": "light"
          }
        },
        {
          "output_type": "stream",
          "name": "stdout",
          "text": [
            "******************************************************************************************\n",
            "airline_AirAsia\n",
            "dict_keys(['whiskers', 'caps', 'boxes', 'medians', 'fliers', 'means'])\n",
            "whiskers: [array([0., 0.]), array([0., 0.])]\n",
            "\n",
            "caps: [array([0, 0]), array([0, 0])]\n",
            "\n",
            "boxes: [array([0., 0., 0., 0., 0.])]\n",
            "\n",
            "medians: [array([0., 0.])]\n",
            "\n",
            "fliers: [array([1, 1, 1, ..., 1, 1, 1])]\n",
            "\n",
            "means: []\n",
            "\n"
          ]
        },
        {
          "output_type": "display_data",
          "data": {
            "text/plain": [
              "<Figure size 432x288 with 1 Axes>"
            ],
            "image/png": "[encoded data removed]"
          },
          "metadata": {
            "needs_background": "light"
          }
        },
        {
          "output_type": "stream",
          "name": "stdout",
          "text": [
            "******************************************************************************************\n",
            "airline_GO FIRST\n",
            "dict_keys(['whiskers', 'caps', 'boxes', 'medians', 'fliers', 'means'])\n",
            "whiskers: [array([0., 0.]), array([0., 0.])]\n",
            "\n",
            "caps: [array([0, 0]), array([0, 0])]\n",
            "\n",
            "boxes: [array([0., 0., 0., 0., 0.])]\n",
            "\n",
            "medians: [array([0., 0.])]\n",
            "\n",
            "fliers: [array([1, 1, 1, ..., 1, 1, 1])]\n",
            "\n",
            "means: []\n",
            "\n"
          ]
        },
        {
          "output_type": "display_data",
          "data": {
            "text/plain": [
              "<Figure size 432x288 with 1 Axes>"
            ],
            "image/png": "[encoded data removed]"
          },
          "metadata": {
            "needs_background": "light"
          }
        },
        {
          "output_type": "stream",
          "name": "stdout",
          "text": [
            "******************************************************************************************\n",
            "airline_Indigo\n",
            "dict_keys(['whiskers', 'caps', 'boxes', 'medians', 'fliers', 'means'])\n",
            "whiskers: [array([0., 0.]), array([0., 0.])]\n",
            "\n",
            "caps: [array([0, 0]), array([0, 0])]\n",
            "\n",
            "boxes: [array([0., 0., 0., 0., 0.])]\n",
            "\n",
            "medians: [array([0., 0.])]\n",
            "\n",
            "fliers: [array([1, 1, 1, ..., 1, 1, 1])]\n",
            "\n",
            "means: []\n",
            "\n"
          ]
        },
        {
          "output_type": "display_data",
          "data": {
            "text/plain": [
              "<Figure size 432x288 with 1 Axes>"
            ],
            "image/png": "[encoded data removed]"
          },
          "metadata": {
            "needs_background": "light"
          }
        },
        {
          "output_type": "stream",
          "name": "stdout",
          "text": [
            "******************************************************************************************\n",
            "airline_SpiceJet\n",
            "dict_keys(['whiskers', 'caps', 'boxes', 'medians', 'fliers', 'means'])\n",
            "whiskers: [array([0., 0.]), array([0., 0.])]\n",
            "\n",
            "caps: [array([0, 0]), array([0, 0])]\n",
            "\n",
            "boxes: [array([0., 0., 0., 0., 0.])]\n",
            "\n",
            "medians: [array([0., 0.])]\n",
            "\n",
            "fliers: [array([1, 1, 1, ..., 1, 1, 1])]\n",
            "\n",
            "means: []\n",
            "\n"
          ]
        },
        {
          "output_type": "display_data",
          "data": {
            "text/plain": [
              "<Figure size 432x288 with 1 Axes>"
            ],
            "image/png": "[encoded data removed]"
          },
          "metadata": {
            "needs_background": "light"
          }
        },
        {
          "output_type": "stream",
          "name": "stdout",
          "text": [
            "******************************************************************************************\n",
            "airline_StarAir\n",
            "dict_keys(['whiskers', 'caps', 'boxes', 'medians', 'fliers', 'means'])\n",
            "whiskers: [array([0., 0.]), array([0., 0.])]\n",
            "\n",
            "caps: [array([0, 0]), array([0, 0])]\n",
            "\n",
            "boxes: [array([0., 0., 0., 0., 0.])]\n",
            "\n",
            "medians: [array([0., 0.])]\n",
            "\n",
            "fliers: [array([1, 1, 1, 1, 1, 1, 1, 1, 1, 1, 1, 1, 1, 1, 1, 1, 1, 1, 1, 1, 1, 1,\n",
            "       1, 1, 1, 1, 1, 1, 1, 1, 1, 1, 1, 1, 1, 1, 1, 1, 1, 1, 1, 1, 1, 1,\n",
            "       1, 1, 1, 1, 1, 1, 1, 1, 1, 1, 1, 1, 1, 1, 1, 1, 1])]\n",
            "\n",
            "means: []\n",
            "\n"
          ]
        },
        {
          "output_type": "display_data",
          "data": {
            "text/plain": [
              "<Figure size 432x288 with 1 Axes>"
            ],
            "image/png": "[encoded data removed]"
          },
          "metadata": {
            "needs_background": "light"
          }
        },
        {
          "output_type": "stream",
          "name": "stdout",
          "text": [
            "******************************************************************************************\n",
            "airline_Trujet\n",
            "dict_keys(['whiskers', 'caps', 'boxes', 'medians', 'fliers', 'means'])\n",
            "whiskers: [array([0., 0.]), array([0., 0.])]\n",
            "\n",
            "caps: [array([0, 0]), array([0, 0])]\n",
            "\n",
            "boxes: [array([0., 0., 0., 0., 0.])]\n",
            "\n",
            "medians: [array([0., 0.])]\n",
            "\n",
            "fliers: [array([1, 1, 1, 1, 1, 1, 1, 1, 1, 1, 1, 1, 1, 1, 1, 1, 1, 1, 1, 1, 1, 1,\n",
            "       1, 1, 1, 1, 1, 1, 1, 1, 1, 1, 1, 1, 1, 1, 1, 1, 1, 1, 1])]\n",
            "\n",
            "means: []\n",
            "\n"
          ]
        },
        {
          "output_type": "display_data",
          "data": {
            "text/plain": [
              "<Figure size 432x288 with 1 Axes>"
            ],
            "image/png": "[encoded data removed]"
          },
          "metadata": {
            "needs_background": "light"
          }
        },
        {
          "output_type": "stream",
          "name": "stdout",
          "text": [
            "******************************************************************************************\n",
            "airline_Vistara\n",
            "dict_keys(['whiskers', 'caps', 'boxes', 'medians', 'fliers', 'means'])\n",
            "whiskers: [array([0., 0.]), array([1., 1.])]\n",
            "\n",
            "caps: [array([0, 0]), array([1, 1])]\n",
            "\n",
            "boxes: [array([0., 0., 1., 1., 0.])]\n",
            "\n",
            "medians: [array([0., 0.])]\n",
            "\n",
            "fliers: [array([], dtype=int64)]\n",
            "\n",
            "means: []\n",
            "\n"
          ]
        },
        {
          "output_type": "display_data",
          "data": {
            "text/plain": [
              "<Figure size 432x288 with 1 Axes>"
            ],
            "image/png": "[encoded data removed]"
          },
          "metadata": {
            "needs_background": "light"
          }
        },
        {
          "output_type": "stream",
          "name": "stdout",
          "text": [
            "******************************************************************************************\n",
            "from_Chennai\n",
            "dict_keys(['whiskers', 'caps', 'boxes', 'medians', 'fliers', 'means'])\n",
            "whiskers: [array([0., 0.]), array([0., 0.])]\n",
            "\n",
            "caps: [array([0, 0]), array([0, 0])]\n",
            "\n",
            "boxes: [array([0., 0., 0., 0., 0.])]\n",
            "\n",
            "medians: [array([0., 0.])]\n",
            "\n",
            "fliers: [array([1, 1, 1, ..., 1, 1, 1])]\n",
            "\n",
            "means: []\n",
            "\n"
          ]
        },
        {
          "output_type": "display_data",
          "data": {
            "text/plain": [
              "<Figure size 432x288 with 1 Axes>"
            ],
            "image/png": "[encoded data removed]"
          },
          "metadata": {
            "needs_background": "light"
          }
        },
        {
          "output_type": "stream",
          "name": "stdout",
          "text": [
            "******************************************************************************************\n",
            "from_Delhi\n",
            "dict_keys(['whiskers', 'caps', 'boxes', 'medians', 'fliers', 'means'])\n",
            "whiskers: [array([0., 0.]), array([0., 0.])]\n",
            "\n",
            "caps: [array([0, 0]), array([0, 0])]\n",
            "\n",
            "boxes: [array([0., 0., 0., 0., 0.])]\n",
            "\n",
            "medians: [array([0., 0.])]\n",
            "\n",
            "fliers: [array([1, 1, 1, ..., 1, 1, 1])]\n",
            "\n",
            "means: []\n",
            "\n"
          ]
        },
        {
          "output_type": "display_data",
          "data": {
            "text/plain": [
              "<Figure size 432x288 with 1 Axes>"
            ],
            "image/png": "[encoded data removed]"
          },
          "metadata": {
            "needs_background": "light"
          }
        },
        {
          "output_type": "stream",
          "name": "stdout",
          "text": [
            "******************************************************************************************\n",
            "from_Hyderabad\n",
            "dict_keys(['whiskers', 'caps', 'boxes', 'medians', 'fliers', 'means'])\n",
            "whiskers: [array([0., 0.]), array([0., 0.])]\n",
            "\n",
            "caps: [array([0, 0]), array([0, 0])]\n",
            "\n",
            "boxes: [array([0., 0., 0., 0., 0.])]\n",
            "\n",
            "medians: [array([0., 0.])]\n",
            "\n",
            "fliers: [array([1, 1, 1, ..., 1, 1, 1])]\n",
            "\n",
            "means: []\n",
            "\n"
          ]
        },
        {
          "output_type": "display_data",
          "data": {
            "text/plain": [
              "<Figure size 432x288 with 1 Axes>"
            ],
            "image/png": "[encoded data removed]"
          },
          "metadata": {
            "needs_background": "light"
          }
        },
        {
          "output_type": "stream",
          "name": "stdout",
          "text": [
            "******************************************************************************************\n",
            "from_Kolkata\n",
            "dict_keys(['whiskers', 'caps', 'boxes', 'medians', 'fliers', 'means'])\n",
            "whiskers: [array([0., 0.]), array([0., 0.])]\n",
            "\n",
            "caps: [array([0, 0]), array([0, 0])]\n",
            "\n",
            "boxes: [array([0., 0., 0., 0., 0.])]\n",
            "\n",
            "medians: [array([0., 0.])]\n",
            "\n",
            "fliers: [array([1, 1, 1, ..., 1, 1, 1])]\n",
            "\n",
            "means: []\n",
            "\n"
          ]
        },
        {
          "output_type": "display_data",
          "data": {
            "text/plain": [
              "<Figure size 432x288 with 1 Axes>"
            ],
            "image/png": "[encoded data removed]"
          },
          "metadata": {
            "needs_background": "light"
          }
        },
        {
          "output_type": "stream",
          "name": "stdout",
          "text": [
            "******************************************************************************************\n",
            "from_Mumbai\n",
            "dict_keys(['whiskers', 'caps', 'boxes', 'medians', 'fliers', 'means'])\n",
            "whiskers: [array([0., 0.]), array([0., 0.])]\n",
            "\n",
            "caps: [array([0, 0]), array([0, 0])]\n",
            "\n",
            "boxes: [array([0., 0., 0., 0., 0.])]\n",
            "\n",
            "medians: [array([0., 0.])]\n",
            "\n",
            "fliers: [array([1, 1, 1, ..., 1, 1, 1])]\n",
            "\n",
            "means: []\n",
            "\n"
          ]
        },
        {
          "output_type": "display_data",
          "data": {
            "text/plain": [
              "<Figure size 432x288 with 1 Axes>"
            ],
            "image/png": "[encoded data removed]"
          },
          "metadata": {
            "needs_background": "light"
          }
        },
        {
          "output_type": "stream",
          "name": "stdout",
          "text": [
            "******************************************************************************************\n",
            "to_Chennai\n",
            "dict_keys(['whiskers', 'caps', 'boxes', 'medians', 'fliers', 'means'])\n",
            "whiskers: [array([0., 0.]), array([0., 0.])]\n",
            "\n",
            "caps: [array([0, 0]), array([0, 0])]\n",
            "\n",
            "boxes: [array([0., 0., 0., 0., 0.])]\n",
            "\n",
            "medians: [array([0., 0.])]\n",
            "\n",
            "fliers: [array([1, 1, 1, ..., 1, 1, 1])]\n",
            "\n",
            "means: []\n",
            "\n"
          ]
        },
        {
          "output_type": "display_data",
          "data": {
            "text/plain": [
              "<Figure size 432x288 with 1 Axes>"
            ],
            "image/png": "[encoded data removed]"
          },
          "metadata": {
            "needs_background": "light"
          }
        },
        {
          "output_type": "stream",
          "name": "stdout",
          "text": [
            "******************************************************************************************\n",
            "to_Delhi\n",
            "dict_keys(['whiskers', 'caps', 'boxes', 'medians', 'fliers', 'means'])\n",
            "whiskers: [array([0., 0.]), array([0., 0.])]\n",
            "\n",
            "caps: [array([0, 0]), array([0, 0])]\n",
            "\n",
            "boxes: [array([0., 0., 0., 0., 0.])]\n",
            "\n",
            "medians: [array([0., 0.])]\n",
            "\n",
            "fliers: [array([1, 1, 1, ..., 1, 1, 1])]\n",
            "\n",
            "means: []\n",
            "\n"
          ]
        },
        {
          "output_type": "display_data",
          "data": {
            "text/plain": [
              "<Figure size 432x288 with 1 Axes>"
            ],
            "image/png": "[encoded data removed]"
          },
          "metadata": {
            "needs_background": "light"
          }
        },
        {
          "output_type": "stream",
          "name": "stdout",
          "text": [
            "******************************************************************************************\n",
            "to_Hyderabad\n",
            "dict_keys(['whiskers', 'caps', 'boxes', 'medians', 'fliers', 'means'])\n",
            "whiskers: [array([0., 0.]), array([0., 0.])]\n",
            "\n",
            "caps: [array([0, 0]), array([0, 0])]\n",
            "\n",
            "boxes: [array([0., 0., 0., 0., 0.])]\n",
            "\n",
            "medians: [array([0., 0.])]\n",
            "\n",
            "fliers: [array([1, 1, 1, ..., 1, 1, 1])]\n",
            "\n",
            "means: []\n",
            "\n"
          ]
        },
        {
          "output_type": "display_data",
          "data": {
            "text/plain": [
              "<Figure size 432x288 with 1 Axes>"
            ],
            "image/png": "[encoded data removed]"
          },
          "metadata": {
            "needs_background": "light"
          }
        },
        {
          "output_type": "stream",
          "name": "stdout",
          "text": [
            "******************************************************************************************\n",
            "to_Kolkata\n",
            "dict_keys(['whiskers', 'caps', 'boxes', 'medians', 'fliers', 'means'])\n",
            "whiskers: [array([0., 0.]), array([0., 0.])]\n",
            "\n",
            "caps: [array([0, 0]), array([0, 0])]\n",
            "\n",
            "boxes: [array([0., 0., 0., 0., 0.])]\n",
            "\n",
            "medians: [array([0., 0.])]\n",
            "\n",
            "fliers: [array([1, 1, 1, ..., 1, 1, 1])]\n",
            "\n",
            "means: []\n",
            "\n"
          ]
        },
        {
          "output_type": "display_data",
          "data": {
            "text/plain": [
              "<Figure size 432x288 with 1 Axes>"
            ],
            "image/png": "[encoded data removed]"
          },
          "metadata": {
            "needs_background": "light"
          }
        },
        {
          "output_type": "stream",
          "name": "stdout",
          "text": [
            "******************************************************************************************\n",
            "to_Mumbai\n",
            "dict_keys(['whiskers', 'caps', 'boxes', 'medians', 'fliers', 'means'])\n",
            "whiskers: [array([0., 0.]), array([0., 0.])]\n",
            "\n",
            "caps: [array([0, 0]), array([0, 0])]\n",
            "\n",
            "boxes: [array([0., 0., 0., 0., 0.])]\n",
            "\n",
            "medians: [array([0., 0.])]\n",
            "\n",
            "fliers: [array([1, 1, 1, ..., 1, 1, 1])]\n",
            "\n",
            "means: []\n",
            "\n"
          ]
        },
        {
          "output_type": "display_data",
          "data": {
            "text/plain": [
              "<Figure size 432x288 with 1 Axes>"
            ],
            "image/png": "[encoded data removed]"
          },
          "metadata": {
            "needs_background": "light"
          }
        },
        {
          "output_type": "stream",
          "name": "stdout",
          "text": [
            "******************************************************************************************\n",
            "ch_code_6E\n",
            "dict_keys(['whiskers', 'caps', 'boxes', 'medians', 'fliers', 'means'])\n",
            "whiskers: [array([0., 0.]), array([0., 0.])]\n",
            "\n",
            "caps: [array([0, 0]), array([0, 0])]\n",
            "\n",
            "boxes: [array([0., 0., 0., 0., 0.])]\n",
            "\n",
            "medians: [array([0., 0.])]\n",
            "\n",
            "fliers: [array([1, 1, 1, ..., 1, 1, 1])]\n",
            "\n",
            "means: []\n",
            "\n"
          ]
        },
        {
          "output_type": "display_data",
          "data": {
            "text/plain": [
              "<Figure size 432x288 with 1 Axes>"
            ],
            "image/png": "[encoded data removed]"
          },
          "metadata": {
            "needs_background": "light"
          }
        },
        {
          "output_type": "stream",
          "name": "stdout",
          "text": [
            "******************************************************************************************\n",
            "ch_code_AI\n",
            "dict_keys(['whiskers', 'caps', 'boxes', 'medians', 'fliers', 'means'])\n",
            "whiskers: [array([0., 0.]), array([1., 1.])]\n",
            "\n",
            "caps: [array([0, 0]), array([1, 1])]\n",
            "\n",
            "boxes: [array([0., 0., 1., 1., 0.])]\n",
            "\n",
            "medians: [array([0., 0.])]\n",
            "\n",
            "fliers: [array([], dtype=int64)]\n",
            "\n",
            "means: []\n",
            "\n"
          ]
        },
        {
          "output_type": "display_data",
          "data": {
            "text/plain": [
              "<Figure size 432x288 with 1 Axes>"
            ],
            "image/png": "[encoded data removed]"
          },
          "metadata": {
            "needs_background": "light"
          }
        },
        {
          "output_type": "stream",
          "name": "stdout",
          "text": [
            "******************************************************************************************\n",
            "ch_code_G8\n",
            "dict_keys(['whiskers', 'caps', 'boxes', 'medians', 'fliers', 'means'])\n",
            "whiskers: [array([0., 0.]), array([0., 0.])]\n",
            "\n",
            "caps: [array([0, 0]), array([0, 0])]\n",
            "\n",
            "boxes: [array([0., 0., 0., 0., 0.])]\n",
            "\n",
            "medians: [array([0., 0.])]\n",
            "\n",
            "fliers: [array([1, 1, 1, ..., 1, 1, 1])]\n",
            "\n",
            "means: []\n",
            "\n"
          ]
        },
        {
          "output_type": "display_data",
          "data": {
            "text/plain": [
              "<Figure size 432x288 with 1 Axes>"
            ],
            "image/png": "[encoded data removed]"
          },
          "metadata": {
            "needs_background": "light"
          }
        },
        {
          "output_type": "stream",
          "name": "stdout",
          "text": [
            "******************************************************************************************\n",
            "ch_code_I5\n",
            "dict_keys(['whiskers', 'caps', 'boxes', 'medians', 'fliers', 'means'])\n",
            "whiskers: [array([0., 0.]), array([0., 0.])]\n",
            "\n",
            "caps: [array([0, 0]), array([0, 0])]\n",
            "\n",
            "boxes: [array([0., 0., 0., 0., 0.])]\n",
            "\n",
            "medians: [array([0., 0.])]\n",
            "\n",
            "fliers: [array([1, 1, 1, ..., 1, 1, 1])]\n",
            "\n",
            "means: []\n",
            "\n"
          ]
        },
        {
          "output_type": "display_data",
          "data": {
            "text/plain": [
              "<Figure size 432x288 with 1 Axes>"
            ],
            "image/png": "[encoded data removed]"
          },
          "metadata": {
            "needs_background": "light"
          }
        },
        {
          "output_type": "stream",
          "name": "stdout",
          "text": [
            "******************************************************************************************\n",
            "ch_code_S5\n",
            "dict_keys(['whiskers', 'caps', 'boxes', 'medians', 'fliers', 'means'])\n",
            "whiskers: [array([0., 0.]), array([0., 0.])]\n",
            "\n",
            "caps: [array([0, 0]), array([0, 0])]\n",
            "\n",
            "boxes: [array([0., 0., 0., 0., 0.])]\n",
            "\n",
            "medians: [array([0., 0.])]\n",
            "\n",
            "fliers: [array([1, 1, 1, 1, 1, 1, 1, 1, 1, 1, 1, 1, 1, 1, 1, 1, 1, 1, 1, 1, 1, 1,\n",
            "       1, 1, 1, 1, 1, 1, 1, 1, 1, 1, 1, 1, 1, 1, 1, 1, 1, 1, 1, 1, 1, 1,\n",
            "       1, 1, 1, 1, 1, 1, 1, 1, 1, 1, 1, 1, 1, 1, 1, 1, 1])]\n",
            "\n",
            "means: []\n",
            "\n"
          ]
        },
        {
          "output_type": "display_data",
          "data": {
            "text/plain": [
              "<Figure size 432x288 with 1 Axes>"
            ],
            "image/png": "[encoded data removed]"
          },
          "metadata": {
            "needs_background": "light"
          }
        },
        {
          "output_type": "stream",
          "name": "stdout",
          "text": [
            "******************************************************************************************\n",
            "ch_code_SG\n",
            "dict_keys(['whiskers', 'caps', 'boxes', 'medians', 'fliers', 'means'])\n",
            "whiskers: [array([0., 0.]), array([0., 0.])]\n",
            "\n",
            "caps: [array([0, 0]), array([0, 0])]\n",
            "\n",
            "boxes: [array([0., 0., 0., 0., 0.])]\n",
            "\n",
            "medians: [array([0., 0.])]\n",
            "\n",
            "fliers: [array([1, 1, 1, ..., 1, 1, 1])]\n",
            "\n",
            "means: []\n",
            "\n"
          ]
        },
        {
          "output_type": "display_data",
          "data": {
            "text/plain": [
              "<Figure size 432x288 with 1 Axes>"
            ],
            "image/png": "[encoded data removed]"
          },
          "metadata": {
            "needs_background": "light"
          }
        },
        {
          "output_type": "stream",
          "name": "stdout",
          "text": [
            "******************************************************************************************\n",
            "ch_code_UK\n",
            "dict_keys(['whiskers', 'caps', 'boxes', 'medians', 'fliers', 'means'])\n",
            "whiskers: [array([0., 0.]), array([1., 1.])]\n",
            "\n",
            "caps: [array([0, 0]), array([1, 1])]\n",
            "\n",
            "boxes: [array([0., 0., 1., 1., 0.])]\n",
            "\n",
            "medians: [array([0., 0.])]\n",
            "\n",
            "fliers: [array([], dtype=int64)]\n",
            "\n",
            "means: []\n",
            "\n"
          ]
        },
        {
          "output_type": "display_data",
          "data": {
            "text/plain": [
              "<Figure size 432x288 with 1 Axes>"
            ],
            "image/png": "[encoded data removed]"
          },
          "metadata": {
            "needs_background": "light"
          }
        },
        {
          "output_type": "stream",
          "name": "stdout",
          "text": [
            "******************************************************************************************\n"
          ]
        }
      ],
      "source": [
        "for col in fpp_num_colms:\n",
        "    print(col)\n",
        "    bp=plt.boxplot(fpp[col].dropna(), showcaps=True)\n",
        "    print(bp.keys())\n",
        "    for key in bp:\n",
        "        print(f'{key}: {[item.get_ydata() for item in bp[key]]}\\n')\n",
        "    plt.show()\n",
        "    print('***'*30)"
      ]
    },
    {
      "cell_type": "markdown",
      "metadata": {
        "id": "NTYMSmMn9TUF"
      },
      "source": [
        "**Model Building**"
      ]
    },
    {
      "cell_type": "code",
      "execution_count": 114,
      "metadata": {
        "id": "mzxFaShu5ZNe",
        "colab": {
          "base_uri": "https://localhost:8080/"
        },
        "outputId": "6e2522cf-1482-4519-9e65-eef6218a8870"
      },
      "outputs": [
        {
          "output_type": "execute_result",
          "data": {
            "text/plain": [
              "Index(['num_code', 'stop', 'price', 'day', 'month', 'year', 'dep_hour',\n",
              "       'dep_min', 'arr_hour', 'arr_min', 'dur_hour', 'dur_min',\n",
              "       'airline_AirAsia', 'airline_GO FIRST', 'airline_Indigo',\n",
              "       'airline_SpiceJet', 'airline_StarAir', 'airline_Trujet',\n",
              "       'airline_Vistara', 'from_Chennai', 'from_Delhi', 'from_Hyderabad',\n",
              "       'from_Kolkata', 'from_Mumbai', 'to_Chennai', 'to_Delhi', 'to_Hyderabad',\n",
              "       'to_Kolkata', 'to_Mumbai', 'ch_code_6E', 'ch_code_AI', 'ch_code_G8',\n",
              "       'ch_code_I5', 'ch_code_S5', 'ch_code_SG', 'ch_code_UK'],\n",
              "      dtype='object')"
            ]
          },
          "metadata": {},
          "execution_count": 114
        }
      ],
      "source": [
        "fpp.columns"
      ]
    },
    {
      "cell_type": "code",
      "source": [
        "fpp.shape"
      ],
      "metadata": {
        "colab": {
          "base_uri": "https://localhost:8080/"
        },
        "id": "ubc9RzRH6zS1",
        "outputId": "62ffb109-cc9c-46da-88d9-d1f2d25c0302"
      },
      "execution_count": 115,
      "outputs": [
        {
          "output_type": "execute_result",
          "data": {
            "text/plain": [
              "(300255, 36)"
            ]
          },
          "metadata": {},
          "execution_count": 115
        }
      ]
    },
    {
      "cell_type": "code",
      "execution_count": 116,
      "metadata": {
        "id": "Su0DBOlDAakC",
        "colab": {
          "base_uri": "https://localhost:8080/"
        },
        "outputId": "1c94bc22-f90a-4c95-f93b-69c56052ea24"
      },
      "outputs": [
        {
          "output_type": "execute_result",
          "data": {
            "text/plain": [
              "num_code            int64\n",
              "stop                int64\n",
              "price               int64\n",
              "day                 int64\n",
              "month               int64\n",
              "year                int64\n",
              "dep_hour            int64\n",
              "dep_min             int64\n",
              "arr_hour            int64\n",
              "arr_min             int64\n",
              "dur_hour            int64\n",
              "dur_min             int64\n",
              "airline_AirAsia     int64\n",
              "airline_GO FIRST    int64\n",
              "airline_Indigo      int64\n",
              "airline_SpiceJet    int64\n",
              "airline_StarAir     int64\n",
              "airline_Trujet      int64\n",
              "airline_Vistara     int64\n",
              "from_Chennai        int64\n",
              "from_Delhi          int64\n",
              "from_Hyderabad      int64\n",
              "from_Kolkata        int64\n",
              "from_Mumbai         int64\n",
              "to_Chennai          int64\n",
              "to_Delhi            int64\n",
              "to_Hyderabad        int64\n",
              "to_Kolkata          int64\n",
              "to_Mumbai           int64\n",
              "ch_code_6E          int64\n",
              "ch_code_AI          int64\n",
              "ch_code_G8          int64\n",
              "ch_code_I5          int64\n",
              "ch_code_S5          int64\n",
              "ch_code_SG          int64\n",
              "ch_code_UK          int64\n",
              "dtype: object"
            ]
          },
          "metadata": {},
          "execution_count": 116
        }
      ],
      "source": [
        "fpp.dtypes"
      ]
    },
    {
      "cell_type": "code",
      "execution_count": 117,
      "metadata": {
        "id": "Enjom9KSApMl",
        "colab": {
          "base_uri": "https://localhost:8080/",
          "height": 299
        },
        "outputId": "eb879a30-927c-4ef6-fbfb-b0b63cdc27a6"
      },
      "outputs": [
        {
          "output_type": "execute_result",
          "data": {
            "text/plain": [
              "   num_code  stop  day  month  year  dep_hour  dep_min  arr_hour  arr_min  \\\n",
              "0       868    39   11      2  2022        18        0        20        0   \n",
              "1       624    39   11      2  2022        19        0        21       15   \n",
              "2       531     0   11      2  2022        20        0        20       45   \n",
              "3       839     0   11      2  2022        21       25        23       55   \n",
              "4       544     0   11      2  2022        17       15        23       55   \n",
              "\n",
              "   dur_hour  ...  to_Hyderabad  to_Kolkata  to_Mumbai  ch_code_6E  ch_code_AI  \\\n",
              "0         2  ...             0           0          1           0           1   \n",
              "1         2  ...             0           0          1           0           1   \n",
              "2        24  ...             0           0          1           0           1   \n",
              "3        26  ...             0           0          1           0           1   \n",
              "4         6  ...             0           0          1           0           1   \n",
              "\n",
              "   ch_code_G8  ch_code_I5  ch_code_S5  ch_code_SG  ch_code_UK  \n",
              "0           0           0           0           0           0  \n",
              "1           0           0           0           0           0  \n",
              "2           0           0           0           0           0  \n",
              "3           0           0           0           0           0  \n",
              "4           0           0           0           0           0  \n",
              "\n",
              "[5 rows x 35 columns]"
            ],
            "text/html": [
              "\n",
              "  <div id=\"df-98bd0736-2490-4e03-ac0d-ccee9bb0ac77\">\n",
              "    <div class=\"colab-df-container\">\n",
              "      <div>\n",
              "<style scoped>\n",
              "    .dataframe tbody tr th:only-of-type {\n",
              "        vertical-align: middle;\n",
              "    }\n",
              "\n",
              "    .dataframe tbody tr th {\n",
              "        vertical-align: top;\n",
              "    }\n",
              "\n",
              "    .dataframe thead th {\n",
              "        text-align: right;\n",
              "    }\n",
              "</style>\n",
              "<table border=\"1\" class=\"dataframe\">\n",
              "  <thead>\n",
              "    <tr style=\"text-align: right;\">\n",
              "      <th></th>\n",
              "      <th>num_code</th>\n",
              "      <th>stop</th>\n",
              "      <th>day</th>\n",
              "      <th>month</th>\n",
              "      <th>year</th>\n",
              "      <th>dep_hour</th>\n",
              "      <th>dep_min</th>\n",
              "      <th>arr_hour</th>\n",
              "      <th>arr_min</th>\n",
              "      <th>dur_hour</th>\n",
              "      <th>...</th>\n",
              "      <th>to_Hyderabad</th>\n",
              "      <th>to_Kolkata</th>\n",
              "      <th>to_Mumbai</th>\n",
              "      <th>ch_code_6E</th>\n",
              "      <th>ch_code_AI</th>\n",
              "      <th>ch_code_G8</th>\n",
              "      <th>ch_code_I5</th>\n",
              "      <th>ch_code_S5</th>\n",
              "      <th>ch_code_SG</th>\n",
              "      <th>ch_code_UK</th>\n",
              "    </tr>\n",
              "  </thead>\n",
              "  <tbody>\n",
              "    <tr>\n",
              "      <th>0</th>\n",
              "      <td>868</td>\n",
              "      <td>39</td>\n",
              "      <td>11</td>\n",
              "      <td>2</td>\n",
              "      <td>2022</td>\n",
              "      <td>18</td>\n",
              "      <td>0</td>\n",
              "      <td>20</td>\n",
              "      <td>0</td>\n",
              "      <td>2</td>\n",
              "      <td>...</td>\n",
              "      <td>0</td>\n",
              "      <td>0</td>\n",
              "      <td>1</td>\n",
              "      <td>0</td>\n",
              "      <td>1</td>\n",
              "      <td>0</td>\n",
              "      <td>0</td>\n",
              "      <td>0</td>\n",
              "      <td>0</td>\n",
              "      <td>0</td>\n",
              "    </tr>\n",
              "    <tr>\n",
              "      <th>1</th>\n",
              "      <td>624</td>\n",
              "      <td>39</td>\n",
              "      <td>11</td>\n",
              "      <td>2</td>\n",
              "      <td>2022</td>\n",
              "      <td>19</td>\n",
              "      <td>0</td>\n",
              "      <td>21</td>\n",
              "      <td>15</td>\n",
              "      <td>2</td>\n",
              "      <td>...</td>\n",
              "      <td>0</td>\n",
              "      <td>0</td>\n",
              "      <td>1</td>\n",
              "      <td>0</td>\n",
              "      <td>1</td>\n",
              "      <td>0</td>\n",
              "      <td>0</td>\n",
              "      <td>0</td>\n",
              "      <td>0</td>\n",
              "      <td>0</td>\n",
              "    </tr>\n",
              "    <tr>\n",
              "      <th>2</th>\n",
              "      <td>531</td>\n",
              "      <td>0</td>\n",
              "      <td>11</td>\n",
              "      <td>2</td>\n",
              "      <td>2022</td>\n",
              "      <td>20</td>\n",
              "      <td>0</td>\n",
              "      <td>20</td>\n",
              "      <td>45</td>\n",
              "      <td>24</td>\n",
              "      <td>...</td>\n",
              "      <td>0</td>\n",
              "      <td>0</td>\n",
              "      <td>1</td>\n",
              "      <td>0</td>\n",
              "      <td>1</td>\n",
              "      <td>0</td>\n",
              "      <td>0</td>\n",
              "      <td>0</td>\n",
              "      <td>0</td>\n",
              "      <td>0</td>\n",
              "    </tr>\n",
              "    <tr>\n",
              "      <th>3</th>\n",
              "      <td>839</td>\n",
              "      <td>0</td>\n",
              "      <td>11</td>\n",
              "      <td>2</td>\n",
              "      <td>2022</td>\n",
              "      <td>21</td>\n",
              "      <td>25</td>\n",
              "      <td>23</td>\n",
              "      <td>55</td>\n",
              "      <td>26</td>\n",
              "      <td>...</td>\n",
              "      <td>0</td>\n",
              "      <td>0</td>\n",
              "      <td>1</td>\n",
              "      <td>0</td>\n",
              "      <td>1</td>\n",
              "      <td>0</td>\n",
              "      <td>0</td>\n",
              "      <td>0</td>\n",
              "      <td>0</td>\n",
              "      <td>0</td>\n",
              "    </tr>\n",
              "    <tr>\n",
              "      <th>4</th>\n",
              "      <td>544</td>\n",
              "      <td>0</td>\n",
              "      <td>11</td>\n",
              "      <td>2</td>\n",
              "      <td>2022</td>\n",
              "      <td>17</td>\n",
              "      <td>15</td>\n",
              "      <td>23</td>\n",
              "      <td>55</td>\n",
              "      <td>6</td>\n",
              "      <td>...</td>\n",
              "      <td>0</td>\n",
              "      <td>0</td>\n",
              "      <td>1</td>\n",
              "      <td>0</td>\n",
              "      <td>1</td>\n",
              "      <td>0</td>\n",
              "      <td>0</td>\n",
              "      <td>0</td>\n",
              "      <td>0</td>\n",
              "      <td>0</td>\n",
              "    </tr>\n",
              "  </tbody>\n",
              "</table>\n",
              "<p>5 rows × 35 columns</p>\n",
              "</div>\n",
              "      <button class=\"colab-df-convert\" onclick=\"convertToInteractive('df-98bd0736-2490-4e03-ac0d-ccee9bb0ac77')\"\n",
              "              title=\"Convert this dataframe to an interactive table.\"\n",
              "              style=\"display:none;\">\n",
              "        \n",
              "  <svg xmlns=\"http://www.w3.org/2000/svg\" height=\"24px\"viewBox=\"0 0 24 24\"\n",
              "       width=\"24px\">\n",
              "    <path d=\"M0 0h24v24H0V0z\" fill=\"none\"/>\n",
              "    <path d=\"M18.56 5.44l.94 2.06.94-2.06 2.06-.94-2.06-.94-.94-2.06-.94 2.06-2.06.94zm-11 1L8.5 8.5l.94-2.06 2.06-.94-2.06-.94L8.5 2.5l-.94 2.06-2.06.94zm10 10l.94 2.06.94-2.06 2.06-.94-2.06-.94-.94-2.06-.94 2.06-2.06.94z\"/><path d=\"M17.41 7.96l-1.37-1.37c-.4-.4-.92-.59-1.43-.59-.52 0-1.04.2-1.43.59L10.3 9.45l-7.72 7.72c-.78.78-.78 2.05 0 2.83L4 21.41c.39.39.9.59 1.41.59.51 0 1.02-.2 1.41-.59l7.78-7.78 2.81-2.81c.8-.78.8-2.07 0-2.86zM5.41 20L4 18.59l7.72-7.72 1.47 1.35L5.41 20z\"/>\n",
              "  </svg>\n",
              "      </button>\n",
              "      \n",
              "  <style>\n",
              "    .colab-df-container {\n",
              "      display:flex;\n",
              "      flex-wrap:wrap;\n",
              "      gap: 12px;\n",
              "    }\n",
              "\n",
              "    .colab-df-convert {\n",
              "      background-color: #E8F0FE;\n",
              "      border: none;\n",
              "      border-radius: 50%;\n",
              "      cursor: pointer;\n",
              "      display: none;\n",
              "      fill: #1967D2;\n",
              "      height: 32px;\n",
              "      padding: 0 0 0 0;\n",
              "      width: 32px;\n",
              "    }\n",
              "\n",
              "    .colab-df-convert:hover {\n",
              "      background-color: #E2EBFA;\n",
              "      box-shadow: 0px 1px 2px rgba(60, 64, 67, 0.3), 0px 1px 3px 1px rgba(60, 64, 67, 0.15);\n",
              "      fill: #174EA6;\n",
              "    }\n",
              "\n",
              "    [theme=dark] .colab-df-convert {\n",
              "      background-color: #3B4455;\n",
              "      fill: #D2E3FC;\n",
              "    }\n",
              "\n",
              "    [theme=dark] .colab-df-convert:hover {\n",
              "      background-color: #434B5C;\n",
              "      box-shadow: 0px 1px 3px 1px rgba(0, 0, 0, 0.15);\n",
              "      filter: drop-shadow(0px 1px 2px rgba(0, 0, 0, 0.3));\n",
              "      fill: #FFFFFF;\n",
              "    }\n",
              "  </style>\n",
              "\n",
              "      <script>\n",
              "        const buttonEl =\n",
              "          document.querySelector('#df-98bd0736-2490-4e03-ac0d-ccee9bb0ac77 button.colab-df-convert');\n",
              "        buttonEl.style.display =\n",
              "          google.colab.kernel.accessAllowed ? 'block' : 'none';\n",
              "\n",
              "        async function convertToInteractive(key) {\n",
              "          const element = document.querySelector('#df-98bd0736-2490-4e03-ac0d-ccee9bb0ac77');\n",
              "          const dataTable =\n",
              "            await google.colab.kernel.invokeFunction('convertToInteractive',\n",
              "                                                     [key], {});\n",
              "          if (!dataTable) return;\n",
              "\n",
              "          const docLinkHtml = 'Like what you see? Visit the ' +\n",
              "            '<a target=\"_blank\" href=https://colab.research.google.com/notebooks/data_table.ipynb>data table notebook</a>'\n",
              "            + ' to learn more about interactive tables.';\n",
              "          element.innerHTML = '';\n",
              "          dataTable['output_type'] = 'display_data';\n",
              "          await google.colab.output.renderOutput(dataTable, element);\n",
              "          const docLink = document.createElement('div');\n",
              "          docLink.innerHTML = docLinkHtml;\n",
              "          element.appendChild(docLink);\n",
              "        }\n",
              "      </script>\n",
              "    </div>\n",
              "  </div>\n",
              "  "
            ]
          },
          "metadata": {},
          "execution_count": 117
        }
      ],
      "source": [
        "# train,test splitting \n",
        "X = fpp.drop('price', axis=1)\n",
        "X.head(5)"
      ]
    },
    {
      "cell_type": "code",
      "execution_count": 118,
      "metadata": {
        "id": "1ZiHJTSyCEXd",
        "colab": {
          "base_uri": "https://localhost:8080/"
        },
        "outputId": "ad3be48c-1ed8-4119-c50b-2a715faca229"
      },
      "outputs": [
        {
          "output_type": "execute_result",
          "data": {
            "text/plain": [
              "0    25612\n",
              "1    25612\n",
              "2    42220\n",
              "3    44450\n",
              "4    46690\n",
              "Name: price, dtype: int64"
            ]
          },
          "metadata": {},
          "execution_count": 118
        }
      ],
      "source": [
        "Y = fpp['price']\n",
        "Y.head(5)"
      ]
    },
    {
      "cell_type": "code",
      "execution_count": 119,
      "metadata": {
        "id": "7_iPb1wfCbbb",
        "colab": {
          "base_uri": "https://localhost:8080/"
        },
        "outputId": "cb1d13c4-84ab-44ee-db1c-b93a69b7f3e0"
      },
      "outputs": [
        {
          "output_type": "stream",
          "name": "stdout",
          "text": [
            "(300255, 35)\n",
            " \n",
            "(300255,)\n"
          ]
        }
      ],
      "source": [
        "print(X.shape)\n",
        "print(' ')\n",
        "print(Y.shape)"
      ]
    },
    {
      "cell_type": "code",
      "execution_count": 120,
      "metadata": {
        "id": "eb2ralSpCrH-"
      },
      "outputs": [],
      "source": [
        "X_train, X_test, Y_train, Y_test = train_test_split(X, Y, test_size = 0.2, random_state = 42)"
      ]
    },
    {
      "cell_type": "code",
      "execution_count": 133,
      "metadata": {
        "id": "XZYJ2exWC6Ph",
        "colab": {
          "base_uri": "https://localhost:8080/"
        },
        "outputId": "c0f6d1f2-923f-4547-915c-a75a05937849"
      },
      "outputs": [
        {
          "output_type": "stream",
          "name": "stdout",
          "text": [
            "(240204, 35)\n",
            "(240204,)\n",
            "(60051, 35)\n",
            "(60051,)\n"
          ]
        }
      ],
      "source": [
        "print(X_train.shape)\n",
        "print(Y_train.shape)\n",
        "print(X_test.shape)\n",
        "print(Y_test.shape)"
      ]
    },
    {
      "cell_type": "code",
      "source": [
        "# Import required libraries\n",
        "from sklearn.linear_model import Lasso\n",
        "from sklearn.metrics import mean_squared_error, r2_score\n",
        "from sklearn.model_selection import train_test_split\n",
        "import numpy as np"
      ],
      "metadata": {
        "id": "O156CS9-CBV1"
      },
      "execution_count": 132,
      "outputs": []
    },
    {
      "cell_type": "code",
      "source": [
        "from sklearn.linear_model import Lasso\n",
        "sk_model = Lasso()"
      ],
      "metadata": {
        "id": "UfNpMgNlDXc6"
      },
      "execution_count": 134,
      "outputs": []
    },
    {
      "cell_type": "code",
      "source": [
        "sk_model.fit(X_train, Y_train)"
      ],
      "metadata": {
        "colab": {
          "base_uri": "https://localhost:8080/",
          "height": 74
        },
        "id": "9Z98pupIDXYK",
        "outputId": "2a66f7f7-80c8-4ea6-e473-14a14c630759"
      },
      "execution_count": 136,
      "outputs": [
        {
          "output_type": "execute_result",
          "data": {
            "text/plain": [
              "Lasso()"
            ],
            "text/html": [
              "<style>#sk-container-id-2 {color: black;background-color: white;}#sk-container-id-2 pre{padding: 0;}#sk-container-id-2 div.sk-toggleable {background-color: white;}#sk-container-id-2 label.sk-toggleable__label {cursor: pointer;display: block;width: 100%;margin-bottom: 0;padding: 0.3em;box-sizing: border-box;text-align: center;}#sk-container-id-2 label.sk-toggleable__label-arrow:before {content: \"▸\";float: left;margin-right: 0.25em;color: #696969;}#sk-container-id-2 label.sk-toggleable__label-arrow:hover:before {color: black;}#sk-container-id-2 div.sk-estimator:hover label.sk-toggleable__label-arrow:before {color: black;}#sk-container-id-2 div.sk-toggleable__content {max-height: 0;max-width: 0;overflow: hidden;text-align: left;background-color: #f0f8ff;}#sk-container-id-2 div.sk-toggleable__content pre {margin: 0.2em;color: black;border-radius: 0.25em;background-color: #f0f8ff;}#sk-container-id-2 input.sk-toggleable__control:checked~div.sk-toggleable__content {max-height: 200px;max-width: 100%;overflow: auto;}#sk-container-id-2 input.sk-toggleable__control:checked~label.sk-toggleable__label-arrow:before {content: \"▾\";}#sk-container-id-2 div.sk-estimator input.sk-toggleable__control:checked~label.sk-toggleable__label {background-color: #d4ebff;}#sk-container-id-2 div.sk-label input.sk-toggleable__control:checked~label.sk-toggleable__label {background-color: #d4ebff;}#sk-container-id-2 input.sk-hidden--visually {border: 0;clip: rect(1px 1px 1px 1px);clip: rect(1px, 1px, 1px, 1px);height: 1px;margin: -1px;overflow: hidden;padding: 0;position: absolute;width: 1px;}#sk-container-id-2 div.sk-estimator {font-family: monospace;background-color: #f0f8ff;border: 1px dotted black;border-radius: 0.25em;box-sizing: border-box;margin-bottom: 0.5em;}#sk-container-id-2 div.sk-estimator:hover {background-color: #d4ebff;}#sk-container-id-2 div.sk-parallel-item::after {content: \"\";width: 100%;border-bottom: 1px solid gray;flex-grow: 1;}#sk-container-id-2 div.sk-label:hover label.sk-toggleable__label {background-color: #d4ebff;}#sk-container-id-2 div.sk-serial::before {content: \"\";position: absolute;border-left: 1px solid gray;box-sizing: border-box;top: 0;bottom: 0;left: 50%;z-index: 0;}#sk-container-id-2 div.sk-serial {display: flex;flex-direction: column;align-items: center;background-color: white;padding-right: 0.2em;padding-left: 0.2em;position: relative;}#sk-container-id-2 div.sk-item {position: relative;z-index: 1;}#sk-container-id-2 div.sk-parallel {display: flex;align-items: stretch;justify-content: center;background-color: white;position: relative;}#sk-container-id-2 div.sk-item::before, #sk-container-id-2 div.sk-parallel-item::before {content: \"\";position: absolute;border-left: 1px solid gray;box-sizing: border-box;top: 0;bottom: 0;left: 50%;z-index: -1;}#sk-container-id-2 div.sk-parallel-item {display: flex;flex-direction: column;z-index: 1;position: relative;background-color: white;}#sk-container-id-2 div.sk-parallel-item:first-child::after {align-self: flex-end;width: 50%;}#sk-container-id-2 div.sk-parallel-item:last-child::after {align-self: flex-start;width: 50%;}#sk-container-id-2 div.sk-parallel-item:only-child::after {width: 0;}#sk-container-id-2 div.sk-dashed-wrapped {border: 1px dashed gray;margin: 0 0.4em 0.5em 0.4em;box-sizing: border-box;padding-bottom: 0.4em;background-color: white;}#sk-container-id-2 div.sk-label label {font-family: monospace;font-weight: bold;display: inline-block;line-height: 1.2em;}#sk-container-id-2 div.sk-label-container {text-align: center;}#sk-container-id-2 div.sk-container {/* jupyter's `normalize.less` sets `[hidden] { display: none; }` but bootstrap.min.css set `[hidden] { display: none !important; }` so we also need the `!important` here to be able to override the default hidden behavior on the sphinx rendered scikit-learn.org. See: https://github.com/scikit-learn/scikit-learn/issues/21755 */display: inline-block !important;position: relative;}#sk-container-id-2 div.sk-text-repr-fallback {display: none;}</style><div id=\"sk-container-id-2\" class=\"sk-top-container\"><div class=\"sk-text-repr-fallback\"><pre>Lasso()</pre><b>In a Jupyter environment, please rerun this cell to show the HTML representation or trust the notebook. <br />On GitHub, the HTML representation is unable to render, please try loading this page with nbviewer.org.</b></div><div class=\"sk-container\" hidden><div class=\"sk-item\"><div class=\"sk-estimator sk-toggleable\"><input class=\"sk-toggleable__control sk-hidden--visually\" id=\"sk-estimator-id-2\" type=\"checkbox\" checked><label for=\"sk-estimator-id-2\" class=\"sk-toggleable__label sk-toggleable__label-arrow\">Lasso</label><div class=\"sk-toggleable__content\"><pre>Lasso()</pre></div></div></div></div></div>"
            ]
          },
          "metadata": {},
          "execution_count": 136
        }
      ]
    },
    {
      "cell_type": "code",
      "source": [
        "sk_test_data_prediction = sk_model.predict(X_test)"
      ],
      "metadata": {
        "id": "kr1fEM1vDXVj"
      },
      "execution_count": 137,
      "outputs": []
    },
    {
      "cell_type": "code",
      "source": [
        "# Evaluate the model on the test set\n",
        "y_pred = sk_model.predict(X_test)\n",
        "error = np.mean((Y_test - y_pred) ** 2)\n",
        "print(\"Test MSE :\", error)"
      ],
      "metadata": {
        "colab": {
          "base_uri": "https://localhost:8080/"
        },
        "id": "PGk8pJWADXSd",
        "outputId": "96416817-0163-488f-fafd-7f04fd6c12c9"
      },
      "execution_count": 140,
      "outputs": [
        {
          "output_type": "stream",
          "name": "stdout",
          "text": [
            "Test MSE : 381911109.1871878\n"
          ]
        }
      ]
    },
    {
      "cell_type": "code",
      "source": [
        "from sklearn import metrics\n",
        "# R squared error\n",
        "score_1_ = metrics.r2_score(Y_test, sk_test_data_prediction)\n",
        "\n",
        "print(\"R squared error 1 : \", score_1_)"
      ],
      "metadata": {
        "colab": {
          "base_uri": "https://localhost:8080/"
        },
        "id": "xn6mTAEvDXPy",
        "outputId": "d491260d-bc65-4661-c07a-952ab18395bd"
      },
      "execution_count": 141,
      "outputs": [
        {
          "output_type": "stream",
          "name": "stdout",
          "text": [
            "R squared error 1 :  0.2564380019036422\n"
          ]
        }
      ]
    },
    {
      "cell_type": "code",
      "execution_count": null,
      "metadata": {
        "id": "j4FZBbjoLuMy"
      },
      "outputs": [],
      "source": [
        "prediction = .predict(X_test)"
      ]
    },
    {
      "cell_type": "code",
      "execution_count": null,
      "metadata": {
        "id": "qKEs6al0L-Td",
        "colab": {
          "base_uri": "https://localhost:8080/"
        },
        "outputId": "3181f533-d533-4c3e-d27d-d99cb0458f6d"
      },
      "outputs": [
        {
          "output_type": "stream",
          "name": "stdout",
          "text": [
            "MAE: 14007.570221999164\n",
            "MSE: 333495049.22019094\n"
          ]
        }
      ],
      "source": [
        "print('MAE:', mean_absolute_error(Y_test, prediction))\n",
        "print('MSE:', mean_squared_error(Y_test, prediction))"
      ]
    },
    {
      "cell_type": "code",
      "source": [],
      "metadata": {
        "id": "fkCKislbGl0s"
      },
      "execution_count": null,
      "outputs": []
    }
  ],
  "metadata": {
    "colab": {
      "provenance": []
    },
    "kernelspec": {
      "display_name": "Python 3",
      "name": "python3"
    },
    "language_info": {
      "name": "python"
    }
  },
  "nbformat": 4,
  "nbformat_minor": 0
}